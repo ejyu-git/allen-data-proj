{
 "cells": [
  {
   "cell_type": "markdown",
   "id": "7f10e6b2",
   "metadata": {},
   "source": [
    "# Drifting Gratings"
   ]
  },
  {
   "cell_type": "markdown",
   "id": "2cb080b7",
   "metadata": {},
   "source": [
    "Create manifest to keep track of data"
   ]
  },
  {
   "cell_type": "code",
   "execution_count": null,
   "id": "9ec6dc75",
   "metadata": {},
   "outputs": [],
   "source": [
    "from allensdk.core.brain_observatory_cache import BrainObservatoryCache\n",
    "import pprint\n",
    "\n",
    "# This class uses a 'manifest' to keep track of downloaded data and metadata.  \n",
    "# All downloaded files will be stored relative to the directory holding the manifest\n",
    "# file.  If 'manifest_file' is a relative path (as it is below), it will be \n",
    "# saved relative to your working directory.  It can also be an absolute path.\n",
    "boc = BrainObservatoryCache()"
   ]
  },
  {
   "cell_type": "code",
   "execution_count": 24,
   "id": "ecf31664",
   "metadata": {},
   "outputs": [
    {
     "name": "stdout",
     "output_type": "stream",
     "text": [
      "all VISp experiment containers: 216\n"
     ]
    }
   ],
   "source": [
    "# Download experiment containers for VISp experiments\n",
    "visp_ecs = boc.get_experiment_containers(targeted_structures=['VISp'])\n",
    "print(\"all VISp experiment containers: %d\" % len(visp_ecs))"
   ]
  },
  {
   "cell_type": "markdown",
   "id": "4468c2ce",
   "metadata": {},
   "source": [
    "Following code block filters down to cells of interest (cells that are direction selective, show a significant response to drifitng gratings stim) "
   ]
  },
  {
   "cell_type": "code",
   "execution_count": 25,
   "id": "7f33c496",
   "metadata": {},
   "outputs": [
    {
     "name": "stdout",
     "output_type": "stream",
     "text": [
      "total cells: 63251\n",
      "VISp cells: 22641\n",
      "cells with sig. response to drifting gratings: 13401\n",
      "direction-selective cells: 1159\n"
     ]
    }
   ],
   "source": [
    "import pandas as pd\n",
    "\n",
    "# Download cells for a set of experiments and convert to DataFrame\n",
    "cells = boc.get_cell_specimens()\n",
    "cells = pd.DataFrame.from_records(cells)\n",
    "print(\"total cells: %d\" % len(cells))\n",
    "\n",
    "# find direction selective cells in VISp\n",
    "visp_ec_ids = [ ec['id'] for ec in visp_ecs ]\n",
    "visp_cells = cells[cells['experiment_container_id'].isin(visp_ec_ids)]\n",
    "print(\"VISp cells: %d\" % len(visp_cells))\n",
    "\n",
    "# significant response to drifting gratings stimulus\n",
    "sig_cells = visp_cells[visp_cells['p_dg'] < 0.05]\n",
    "print(\"cells with sig. response to drifting gratings: %d\" % len(sig_cells))\n",
    "\n",
    "# direction selective cells\n",
    "dsi_cells = sig_cells[(sig_cells['g_dsi_dg'] > 0.9)]\n",
    "print(\"direction-selective cells: %d\" % len(dsi_cells))\n"
   ]
  },
  {
   "cell_type": "markdown",
   "id": "b1cff5de",
   "metadata": {},
   "source": [
    "Import stim info data"
   ]
  },
  {
   "cell_type": "code",
   "execution_count": 26,
   "id": "5343404a",
   "metadata": {},
   "outputs": [
    {
     "name": "stdout",
     "output_type": "stream",
     "text": [
      "total dsi experiment containers: 104\n",
      "VISp drifting gratings ophys experiments: 104\n"
     ]
    }
   ],
   "source": [
    "import allensdk.brain_observatory.stimulus_info as stim_info\n",
    "\n",
    "# find experiment containers for those cells\n",
    "dsi_ec_ids = dsi_cells['experiment_container_id'].unique()\n",
    "print(\"total dsi experiment containers: %d\" % len(dsi_ec_ids))\n",
    "\n",
    "# Download the ophys experiments containing the drifting gratings stimulus for VISp experiment containers\n",
    "dsi_exps = boc.get_ophys_experiments(experiment_container_ids=dsi_ec_ids, stimuli=[stim_info.DRIFTING_GRATINGS])\n",
    "print(\"VISp drifting gratings ophys experiments: %d\" % len(dsi_exps))"
   ]
  },
  {
   "cell_type": "markdown",
   "id": "668fa485",
   "metadata": {},
   "source": [
    "Import required packages for code"
   ]
  },
  {
   "cell_type": "code",
   "execution_count": 27,
   "id": "d778cad0",
   "metadata": {},
   "outputs": [],
   "source": [
    "from matplotlib import pyplot as plt\n",
    "#%matplotlib inline\n",
    "import matplotlib.pyplot as plt\n",
    "import matplotlib.patches as patches\n",
    "\n",
    "import numpy as np\n",
    "import cmath\n",
    "\n",
    "def plot_stimulus_table(stim_table, title):\n",
    "    fstart = stim_table.start.min()\n",
    "    fend = stim_table.end.max()\n",
    "    \n",
    "    fig = plt.figure(figsize=(15,1))\n",
    "    ax = fig.gca()\n",
    "    for i, trial in stim_table.iterrows():    \n",
    "        x1 = float(trial.start - fstart) / (fend - fstart)\n",
    "        x2 = float(trial.end - fstart) / (fend - fstart)            \n",
    "        ax.add_patch(patches.Rectangle((x1, 0.0), x2 - x1, 1.0, color='r'))\n",
    "    ax.set_xticks((0,1))\n",
    "    ax.set_xticklabels((fstart, fend))\n",
    "    ax.set_yticks(())\n",
    "    ax.set_title(title)\n",
    "    ax.set_xlabel(\"frames\")\n"
   ]
  },
  {
   "cell_type": "markdown",
   "id": "1c3e8bc6",
   "metadata": {},
   "source": [
    " FUNCTIONS"
   ]
  },
  {
   "cell_type": "code",
   "execution_count": 28,
   "id": "5eb6b8e6",
   "metadata": {},
   "outputs": [],
   "source": [
    "# plot_dg(freq, ori, dsi_cell, data_set, print_graphs, plot_stim_instances, plot_avg_graph, plot_trial_on_avg, \n",
    "# freq_ind, ori_ind, axs): calculates average dff for a single type of stim. \n",
    "#\n",
    "#\n",
    "#\n",
    "#\n",
    "# freq: temporal frequency of stimulus\n",
    "# ori: orientation of stimulus\n",
    "# dsi_cell: NWB file for cell\n",
    "# data_set:  ophys experiment data\n",
    "# print_graphs: boolean value, if true, plots all of the 15 trials for each stim\n",
    "# plot_stim_instances: boolean value, if true, shows a plot of the frames each stim is shown\n",
    "# plot_avg_graph: boolean value, if true, shows average plot of each stim\n",
    "# plot_trial_on_avg: boolean value, if true, shows trial plots on same plot as avg\n",
    "# ori_ind: indice of orientation axis for subplots\n",
    "# freq_ind: indice of frequency axis for subplots\n",
    "# axs: subplot object\n",
    "def plot_dg(freq, ori, dsi_cell, data_set, print_graphs, plot_stim_instances, plot_avg_graph, plot_trial_on_avg, \n",
    "            freq_ind, ori_ind, axs):\n",
    "    \n",
    "    # get flourescence traces for target cell\n",
    "    dsi_cell_id = dsi_cell['cell_specimen_id']\n",
    "    time, f_traces = data_set.get_corrected_fluorescence_traces(cell_specimen_ids=[dsi_cell_id])\n",
    "    \n",
    "    # this is a pandas DataFrame. find trials with a given stimulus condition.\n",
    "    # 40 diff total conditions\n",
    "    temporal_frequency = freq\n",
    "    orientation = ori\n",
    "    stim_table = data_set.get_stimulus_table('drifting_gratings')\n",
    "    stim_table = stim_table[(stim_table.temporal_frequency == temporal_frequency) & \n",
    "                            (stim_table.orientation == orientation)]\n",
    "    \n",
    "    # plot of instances of stimulus frames\n",
    "    if (plot_stim_instances) :\n",
    "        plot_stimulus_table(stim_table, \"Instances of Stimuli, TF %d ORI %d\" % (temporal_frequency, orientation))\n",
    "        plt.show()\n",
    "    \n",
    "    # make 2D array of 120 data points of f_traces and dff_traces for each of the 15 trials\n",
    "    all_f_traces = [[0]*120 for i in range(15)] \n",
    "    dff_traces = [[0]*120 for i in range(15)] \n",
    "    x=0\n",
    "    \n",
    "    # plot 15 trial graphs\n",
    "    # initialize trial graph subplots\n",
    "    if (print_graphs):\n",
    "        fig_trial, axs_trial = plt.subplots(3, 5, sharey=True, figsize=(10,10))\n",
    "        fig_trial.suptitle(\"15 Trials for Stimuli, TF %d ORI %d\" % (temporal_frequency, orientation))\n",
    "    x_ind = 0 \n",
    "    y_ind = 0\n",
    "    \n",
    "    for start_ind in stim_table.start:\n",
    "        \n",
    "        all_f_traces[x] = f_traces[0][start_ind-30:start_ind+90] # get f_traces at desired indices\n",
    "        F0 = np.mean(f_traces[0][start_ind-30:start_ind]) # calculate baseline as the preceding second before stim\n",
    "        dff_traces[x] = (all_f_traces[x]-F0)/F0  # calculate dff at desired indices\n",
    "        \n",
    "        if (plot_avg_graph and plot_trial_on_avg) :\n",
    "            axs[freq_ind, ori_ind].plot(time[0:120]-time[0]-1, dff_traces[x], color='tan')\n",
    "        if (print_graphs) :\n",
    "            axs_trial[x_ind, y_ind].plot(time[0:120]-time[0]-1, dff_traces[x], color='tan')\n",
    "            axs_trial[x_ind, y_ind].set_title(\"Frames %d to %d\" % (start_ind-30,start_ind+90),\n",
    "                                              fontdict = {'fontsize': 7})\n",
    "\n",
    "            # Mark the area of the stimulus\n",
    "            axs_trial[x_ind, y_ind].fill_between(time[0:60]-time[0], min(dff_traces[x]), \n",
    "                                                                         min(dff_traces[x])+0.005,\n",
    "                facecolor=\"orange\", # The fill color\n",
    "                color='blue',       # The outline color\n",
    "                alpha=0.4)          # Transparency of the fill\n",
    "            \n",
    "            for ax in axs_trial.flat:\n",
    "                ax.set(xlabel='sec', ylabel='dF/F')\n",
    "            for ax in axs_trial.flat:\n",
    "                ax.label_outer()\n",
    "\n",
    "            y_ind +=1 \n",
    "            if (y_ind > 4) : \n",
    "                y_ind = 0\n",
    "                x_ind +=1\n",
    "        \n",
    "        x+=1\n",
    "    \n",
    "    # calculate and plot the average response of all graphs\n",
    "    mean_dff = np.mean(dff_traces, axis=0)\n",
    "    \n",
    "    if (plot_avg_graph) :\n",
    "        axs[freq_ind,ori_ind].plot(time[0:120]-time[0]-1,mean_dff, color='black')\n",
    "        axs[freq_ind,ori_ind].set_title(\"TF %d ORI %d\" %(temporal_frequency, orientation))\n",
    "        axs[freq_ind,ori_ind].fill_between(time[0:60]-time[0], \n",
    "                min(mean_dff), min(mean_dff)+0.005,\n",
    "                facecolor=\"orange\", # The fill color\n",
    "                color='blue',       # The outline color\n",
    "                alpha=0.4)          # Transparency of the fill\n",
    "    \n",
    "    # calculate single value average dff from average graph\n",
    "    return np.mean(mean_dff[30:90])\n",
    "    \n",
    "    "
   ]
  },
  {
   "cell_type": "code",
   "execution_count": 45,
   "id": "18bfb0a3",
   "metadata": {},
   "outputs": [],
   "source": [
    "# dg_for_cell(index, plot_trial_graphs, plot_stim_instances, plot_avg_graph, plot_trial_on_avg, show_text) : given\n",
    "# a cell index, will calculate and return Rmax, pref TF, pref ORI, Rorth, OSI and gOSI values. Will print \n",
    "# metadata, avg response graphs for each kind of stim, and trial graphs if desired. \n",
    "# \n",
    "#\n",
    "#\n",
    "# index: index of cell in vector of filtered direction selective cells. There are 1159 direction selective cells. \n",
    "# Index values can range from 0 to 1158\n",
    "# plot_trial_graphs: boolean value, if true, shows all of the 15 trials for each stim\n",
    "# plot_stim_instances: boolean value, if true, shows a plot of the frames each stim is shown\n",
    "# plot_avg_graph: boolean value, if true, shows average plot of each stim\n",
    "# plot_trial_on_avg: boolean value, if true, shows trial plots on same plot as avg\n",
    "# show_text: boolean value, if true, prints text information such as cell metadata, stimulus matrix,\n",
    "# and outputs of analysis calculations\n",
    "# Warning- calling this function will require downloading the ophys experiment data, which may take some time\n",
    "# This function downloads the NWB files that contain the fluorescence traces for segmented cells in \n",
    "# those experiments that used the dg stim\n",
    "def dg_for_cell(index, plot_trial_graphs, plot_stim_instances, plot_avg_graph, plot_trial_on_avg, show_text): \n",
    "    # pick a direction-selective cell and find its NWB file\n",
    "    dsi_cell = dsi_cells.iloc[index]\n",
    "    \n",
    "    # figure out which ophys experiment has the drifting gratings stimulus for that cell\n",
    "    cell_exp = boc.get_ophys_experiments(cell_specimen_ids=[dsi_cell['cell_specimen_id']],\n",
    "                                         stimuli=[stim_info.DRIFTING_GRATINGS])[0]\n",
    "\n",
    "    data_set = boc.get_ophys_experiment_data(cell_exp['id'])\n",
    "    \n",
    "    if (show_text):\n",
    "        print(\"Metadata from NWB file:\")\n",
    "        pprint.pprint(data_set.get_metadata())\n",
    "    \n",
    "    # initialize stim_matrix\n",
    "    stim_matrix = [[0]*8 for i in range(5)]\n",
    "    \n",
    "    # initialize avg graph subplots\n",
    "    if (plot_avg_graph) :\n",
    "        fig, axs = plt.subplots(5, 8, sharey=True, figsize=(15,15))\n",
    "        fig.suptitle('Average Fluorescence For Each Stim')\n",
    "        for ax in axs.flat:\n",
    "            ax.set(xlabel='sec', ylabel='dF/F')\n",
    "        for ax in axs.flat:\n",
    "            ax.label_outer()\n",
    "    else :\n",
    "        axs = None \n",
    "        \n",
    "    # make avg graph subplots and calculate average dff for each stim\n",
    "    freq_array = [1,2,4,8,15]\n",
    "    ori_array = [0,45,90,135,180,225,270,315]\n",
    "    freq_ind = 0\n",
    "    for freq in freq_array :\n",
    "        ori_ind = 0\n",
    "        for ori in ori_array :\n",
    "            avg_dff = plot_dg(freq, ori, dsi_cell, data_set, plot_trial_graphs, plot_stim_instances, \n",
    "                              plot_avg_graph, plot_trial_on_avg, freq_ind, ori_ind, axs)\n",
    "            stim_matrix[freq_ind][ori_ind] = avg_dff\n",
    "            ori_ind +=1\n",
    "        freq_ind += 1\n",
    "    \n",
    "    # print stim_matrix\n",
    "    row_labels = ['1', '2', '4', '8', '15']\n",
    "    column_labels = ['0','45','90','135','180','225','270','315']\n",
    "    if (show_text):\n",
    "        print(pd.DataFrame(stim_matrix, columns=column_labels, index=row_labels))\n",
    "    \n",
    "    # calc R max val in stim_matrix\n",
    "    Rmax = np.amax(stim_matrix)\n",
    "    if (show_text): print(\"Cell has Rmax of %f\" % Rmax)\n",
    "    result = np.where(stim_matrix == np.amax(stim_matrix))\n",
    "    max_coor = list(zip(result[0], result[1]))\n",
    "    if (show_text): print(\"At temporal frequency of %d and orientation of %d\" % \n",
    "          (freq_array[max_coor[0][0]], ori_array[max_coor[0][1]]))\n",
    "    \n",
    "    # calc R orth\n",
    "    Rorth = (stim_matrix[max_coor[0][0]][max_coor[0][1]-2] + stim_matrix[max_coor[0][0]][(max_coor[0][1]+2)%8])/2\n",
    "    if (show_text): print(\"Rorth: %f\" % Rorth)\n",
    "    \n",
    "    # calc OSI\n",
    "    OSI = (Rmax - Rorth)/(Rmax + Rorth)\n",
    "    if (show_text): print(\"OSI: %f\" % OSI)\n",
    "    \n",
    "    # calc gOSI\n",
    "    Rtheta=0\n",
    "    Rtheta_exp=0\n",
    "    for i in range(0, 8) :\n",
    "        Rtheta += stim_matrix[max_coor[0][0]][i]\n",
    "        Rtheta_exp += (Rtheta * cmath.exp(complex(0,2)*ori_array[i]))\n",
    "    gOSI = abs(Rtheta_exp/Rtheta)\n",
    "    if (show_text): print(\"gOSI: %f\" % gOSI)\n",
    "    \n",
    "    # return array of Rmax, pref TF, pref ORI, Rorth, OSI and gOSI values\n",
    "    return [Rmax, freq_array[max_coor[0][0]], ori_array[max_coor[0][1]], Rorth, OSI, gOSI]\n",
    "    "
   ]
  },
  {
   "cell_type": "code",
   "execution_count": 69,
   "id": "14789c6f",
   "metadata": {},
   "outputs": [],
   "source": [
    "# create_histogram(targeted_struct): creates histogram of OSI of all cells in desired cortical layer\n",
    "# \n",
    "#\n",
    "#\n",
    "#\n",
    "# targeted_struct: string argument identifying desired cortical layer. Options are\n",
    "# 'VISal', 'VISam', 'VISl', 'VISp', 'VISpm', 'VISrl'. Higher order visual cortices (VISam, VISpm, VISrl) show\n",
    "# decreased activity with increased running speed\n",
    "#\n",
    "def create_histogram(targeted_struct) :\n",
    "    \n",
    "    # Download experiment containers for experiments of target structure\n",
    "    exp_containers = boc.get_experiment_containers(targeted_structures=[targeted_struct])\n",
    "    print(\"all %s experiment containers: %d\" % (targeted_struct, len(exp_containers)))\n",
    "    \n",
    "    # Download cells for a set of experiments and convert to DataFrame\n",
    "    cells = boc.get_cell_specimens() # this code may be moved outside of the function?\n",
    "    cells = pd.DataFrame.from_records(cells)\n",
    "    print(\"total cells: %d\" % len(cells))\n",
    "\n",
    "    # find direction selective cells in VISp\n",
    "    exp_container_ids = [ ec['id'] for ec in exp_containers ]\n",
    "    structure_cells = cells[cells['experiment_container_id'].isin(exp_container_ids)]\n",
    "    print(\"%s cells: %d\" % (targeted_struct, len(structure_cells)))\n",
    "\n",
    "    # significant response to drifting gratings stimulus\n",
    "    sig_cells = structure_cells[structure_cells['p_dg'] < 0.05]\n",
    "    print(\"cells with sig. response to drifting gratings: %d\" % len(sig_cells))\n",
    "\n",
    "    # direction selective cells\n",
    "    dsi_cells = sig_cells[(sig_cells['g_dsi_dg'] > 0.9)]\n",
    "    print(\"direction-selective cells: %d\" % len(dsi_cells))\n",
    "\n",
    "    OSIs = [0] * len(dsi_cells)\n",
    "    index=0\n",
    "    \n",
    "    while index < len(dsi_cells) :\n",
    "        OSI = dg_for_cell(index, False, False, False, False, False)[4]\n",
    "        if (0 <= OSI <= 2) :  # filters values below 0 or above 2\n",
    "            print(\"get here\")\n",
    "            OSIs[index] = OSI\n",
    "            index += 1\n",
    "    \n",
    "    plt.hist(OSIs, 50, density = 1)\n",
    "    plt.xlabel('Orientation Selectivity Index for Drifting Gratings')\n",
    "    plt.ylabel('Number of Cells')\n",
    "    "
   ]
  },
  {
   "cell_type": "markdown",
   "id": "fc8da54e",
   "metadata": {},
   "source": [
    "TESTS"
   ]
  },
  {
   "cell_type": "code",
   "execution_count": 74,
   "id": "4d2e5312",
   "metadata": {},
   "outputs": [
    {
     "name": "stdout",
     "output_type": "stream",
     "text": [
      "Metadata from NWB file:\n",
      "{'age_days': 93,\n",
      " 'cre_line': 'Scnn1a-Tg3-Cre/wt',\n",
      " 'device': 'Nikon A1R-MP multiphoton microscope',\n",
      " 'device_name': 'CAM2P.2',\n",
      " 'excitation_lambda': '910 nanometers',\n",
      " 'experiment_container_id': 511498742,\n",
      " 'fov': '400x400 microns (512 x 512 pixels)',\n",
      " 'genotype': 'Scnn1a-Tg3-Cre/wt;Camk2a-tTA/wt;Ai93(TITL-GCaMP6f)/Ai93(TITL-GCaMP6f)',\n",
      " 'imaging_depth_um': 350,\n",
      " 'indicator': 'GCaMP6f',\n",
      " 'ophys_experiment_id': 511534603,\n",
      " 'pipeline_version': '3.0',\n",
      " 'session_start_time': datetime.datetime(2016, 4, 1, 9, 12, 3),\n",
      " 'session_type': 'three_session_A',\n",
      " 'sex': 'female',\n",
      " 'specimen_name': 'Scnn1a-Tg3-Cre;Camk2a-tTA;Ai93-231953',\n",
      " 'targeted_structure': 'VISp'}\n",
      "           0        45        90       135       180       225       270  \\\n",
      "1   0.004737 -0.002356  0.001371 -0.000772  0.007655 -0.000608  0.010689   \n",
      "2   0.000056 -0.001459 -0.006292 -0.005681  0.005214 -0.009033 -0.000056   \n",
      "4  -0.006934 -0.002670 -0.008164 -0.011979 -0.010009 -0.007867  0.013482   \n",
      "8  -0.024663 -0.004190 -0.002002 -0.005212 -0.008658 -0.005194 -0.007341   \n",
      "15 -0.015061 -0.009012 -0.006592 -0.004260 -0.013541 -0.005700  0.001091   \n",
      "\n",
      "         315  \n",
      "1   0.001313  \n",
      "2  -0.007990  \n",
      "4  -0.008142  \n",
      "8  -0.006801  \n",
      "15 -0.008610  \n",
      "Cell has Rmax of 0.013482\n",
      "At temporal frequency of 4 and orientation of 270\n",
      "Rorth: -0.008472\n",
      "OSI: 4.381714\n",
      "gOSI: 0.591782\n"
     ]
    }
   ],
   "source": [
    "# This function downloads the NWB files that contain the fluorescence traces for segmented cells in \n",
    "# those experiments that used the dg stim\n",
    "cellInfo = dg_for_cell(5, False, False, False, True, True)\n"
   ]
  },
  {
   "cell_type": "code",
   "execution_count": 71,
   "id": "1cd6088e",
   "metadata": {
    "scrolled": false
   },
   "outputs": [
    {
     "name": "stdout",
     "output_type": "stream",
     "text": [
      "all VISrl experiment containers: 40\n",
      "total cells: 63251\n",
      "VISrl cells: 8247\n",
      "cells with sig. response to drifting gratings: 1271\n",
      "direction-selective cells: 81\n",
      "get here\n",
      "get here\n",
      "get here\n",
      "get here\n",
      "get here\n"
     ]
    },
    {
     "ename": "KeyboardInterrupt",
     "evalue": "",
     "output_type": "error",
     "traceback": [
      "\u001b[0;31m---------------------------------------------------------------------------\u001b[0m",
      "\u001b[0;31mKeyboardInterrupt\u001b[0m                         Traceback (most recent call last)",
      "\u001b[0;32m/var/folders/pp/47yv7l2j4nl3228qpg3fkwg80000gn/T/ipykernel_95075/540513251.py\u001b[0m in \u001b[0;36m<module>\u001b[0;34m\u001b[0m\n\u001b[0;32m----> 1\u001b[0;31m \u001b[0mcreate_histogram\u001b[0m\u001b[0;34m(\u001b[0m\u001b[0;34m'VISrl'\u001b[0m\u001b[0;34m)\u001b[0m\u001b[0;34m\u001b[0m\u001b[0;34m\u001b[0m\u001b[0m\n\u001b[0m",
      "\u001b[0;32m/var/folders/pp/47yv7l2j4nl3228qpg3fkwg80000gn/T/ipykernel_95075/2454551575.py\u001b[0m in \u001b[0;36mcreate_histogram\u001b[0;34m(targeted_struct)\u001b[0m\n\u001b[1;32m     36\u001b[0m \u001b[0;34m\u001b[0m\u001b[0m\n\u001b[1;32m     37\u001b[0m     \u001b[0;32mwhile\u001b[0m \u001b[0mindex\u001b[0m \u001b[0;34m<\u001b[0m \u001b[0mlen\u001b[0m\u001b[0;34m(\u001b[0m\u001b[0mdsi_cells\u001b[0m\u001b[0;34m)\u001b[0m \u001b[0;34m:\u001b[0m\u001b[0;34m\u001b[0m\u001b[0;34m\u001b[0m\u001b[0m\n\u001b[0;32m---> 38\u001b[0;31m         \u001b[0mOSI\u001b[0m \u001b[0;34m=\u001b[0m \u001b[0mdg_for_cell\u001b[0m\u001b[0;34m(\u001b[0m\u001b[0mindex\u001b[0m\u001b[0;34m,\u001b[0m \u001b[0;32mFalse\u001b[0m\u001b[0;34m,\u001b[0m \u001b[0;32mFalse\u001b[0m\u001b[0;34m,\u001b[0m \u001b[0;32mFalse\u001b[0m\u001b[0;34m,\u001b[0m \u001b[0;32mFalse\u001b[0m\u001b[0;34m,\u001b[0m \u001b[0;32mFalse\u001b[0m\u001b[0;34m)\u001b[0m\u001b[0;34m[\u001b[0m\u001b[0;36m4\u001b[0m\u001b[0;34m]\u001b[0m\u001b[0;34m\u001b[0m\u001b[0;34m\u001b[0m\u001b[0m\n\u001b[0m\u001b[1;32m     39\u001b[0m         \u001b[0;32mif\u001b[0m \u001b[0;34m(\u001b[0m\u001b[0;36m0\u001b[0m \u001b[0;34m<=\u001b[0m \u001b[0mOSI\u001b[0m \u001b[0;34m<=\u001b[0m \u001b[0;36m2\u001b[0m\u001b[0;34m)\u001b[0m \u001b[0;34m:\u001b[0m  \u001b[0;31m# filters values below 0 or above 2\u001b[0m\u001b[0;34m\u001b[0m\u001b[0;34m\u001b[0m\u001b[0m\n\u001b[1;32m     40\u001b[0m             \u001b[0mprint\u001b[0m\u001b[0;34m(\u001b[0m\u001b[0;34m\"get here\"\u001b[0m\u001b[0;34m)\u001b[0m\u001b[0;34m\u001b[0m\u001b[0;34m\u001b[0m\u001b[0m\n",
      "\u001b[0;32m/var/folders/pp/47yv7l2j4nl3228qpg3fkwg80000gn/T/ipykernel_95075/427120309.py\u001b[0m in \u001b[0;36mdg_for_cell\u001b[0;34m(index, plot_trial_graphs, plot_stim_instances, plot_avg_graph, plot_trial_on_avg, show_text)\u001b[0m\n\u001b[1;32m     20\u001b[0m     \u001b[0;31m# figure out which ophys experiment has the drifting gratings stimulus for that cell\u001b[0m\u001b[0;34m\u001b[0m\u001b[0;34m\u001b[0m\u001b[0;34m\u001b[0m\u001b[0m\n\u001b[1;32m     21\u001b[0m     cell_exp = boc.get_ophys_experiments(cell_specimen_ids=[dsi_cell['cell_specimen_id']],\n\u001b[0;32m---> 22\u001b[0;31m                                          stimuli=[stim_info.DRIFTING_GRATINGS])[0]\n\u001b[0m\u001b[1;32m     23\u001b[0m \u001b[0;34m\u001b[0m\u001b[0m\n\u001b[1;32m     24\u001b[0m     \u001b[0mdata_set\u001b[0m \u001b[0;34m=\u001b[0m \u001b[0mboc\u001b[0m\u001b[0;34m.\u001b[0m\u001b[0mget_ophys_experiment_data\u001b[0m\u001b[0;34m(\u001b[0m\u001b[0mcell_exp\u001b[0m\u001b[0;34m[\u001b[0m\u001b[0;34m'id'\u001b[0m\u001b[0;34m]\u001b[0m\u001b[0;34m)\u001b[0m\u001b[0;34m\u001b[0m\u001b[0;34m\u001b[0m\u001b[0m\n",
      "\u001b[0;32m~/opt/anaconda3/envs/AllenInterface/lib/python3.7/site-packages/allensdk/core/brain_observatory_cache.py\u001b[0m in \u001b[0;36mget_ophys_experiments\u001b[0;34m(self, file_name, ids, experiment_container_ids, targeted_structures, imaging_depths, cre_lines, reporter_lines, transgenic_lines, stimuli, session_types, cell_specimen_ids, include_failed, require_eye_tracking, simple)\u001b[0m\n\u001b[1;32m    351\u001b[0m \u001b[0;34m\u001b[0m\u001b[0m\n\u001b[1;32m    352\u001b[0m         \u001b[0;32mif\u001b[0m \u001b[0mcell_specimen_ids\u001b[0m \u001b[0;32mis\u001b[0m \u001b[0;32mnot\u001b[0m \u001b[0;32mNone\u001b[0m\u001b[0;34m:\u001b[0m\u001b[0;34m\u001b[0m\u001b[0;34m\u001b[0m\u001b[0m\n\u001b[0;32m--> 353\u001b[0;31m             \u001b[0mcells\u001b[0m \u001b[0;34m=\u001b[0m \u001b[0mself\u001b[0m\u001b[0;34m.\u001b[0m\u001b[0mget_cell_specimens\u001b[0m\u001b[0;34m(\u001b[0m\u001b[0mids\u001b[0m\u001b[0;34m=\u001b[0m\u001b[0mcell_specimen_ids\u001b[0m\u001b[0;34m)\u001b[0m\u001b[0;34m\u001b[0m\u001b[0;34m\u001b[0m\u001b[0m\n\u001b[0m\u001b[1;32m    354\u001b[0m             \u001b[0mcell_container_ids\u001b[0m \u001b[0;34m=\u001b[0m \u001b[0mset\u001b[0m\u001b[0;34m(\u001b[0m\u001b[0;34m[\u001b[0m\u001b[0mcell\u001b[0m\u001b[0;34m[\u001b[0m\u001b[0;34m'experiment_container_id'\u001b[0m\u001b[0;34m]\u001b[0m \u001b[0;32mfor\u001b[0m \u001b[0mcell\u001b[0m \u001b[0;32min\u001b[0m \u001b[0mcells\u001b[0m\u001b[0;34m]\u001b[0m\u001b[0;34m)\u001b[0m\u001b[0;34m\u001b[0m\u001b[0;34m\u001b[0m\u001b[0m\n\u001b[1;32m    355\u001b[0m             \u001b[0;32mif\u001b[0m \u001b[0mexperiment_container_ids\u001b[0m \u001b[0;32mis\u001b[0m \u001b[0;32mnot\u001b[0m \u001b[0;32mNone\u001b[0m\u001b[0;34m:\u001b[0m\u001b[0;34m\u001b[0m\u001b[0;34m\u001b[0m\u001b[0m\n",
      "\u001b[0;32m~/opt/anaconda3/envs/AllenInterface/lib/python3.7/site-packages/allensdk/core/brain_observatory_cache.py\u001b[0m in \u001b[0;36mget_cell_specimens\u001b[0;34m(self, file_name, ids, experiment_container_ids, include_failed, simple, filters)\u001b[0m\n\u001b[1;32m    436\u001b[0m                                                    \u001b[0mstrategy\u001b[0m\u001b[0;34m=\u001b[0m\u001b[0;34m'lazy'\u001b[0m\u001b[0;34m,\u001b[0m\u001b[0;34m\u001b[0m\u001b[0;34m\u001b[0m\u001b[0m\n\u001b[1;32m    437\u001b[0m                                                    \u001b[0mpre\u001b[0m\u001b[0;34m=\u001b[0m \u001b[0;32mlambda\u001b[0m \u001b[0mx\u001b[0m\u001b[0;34m:\u001b[0m \u001b[0;34m[\u001b[0m\u001b[0my\u001b[0m \u001b[0;32mfor\u001b[0m \u001b[0my\u001b[0m \u001b[0;32min\u001b[0m \u001b[0mx\u001b[0m\u001b[0;34m]\u001b[0m\u001b[0;34m,\u001b[0m\u001b[0;34m\u001b[0m\u001b[0;34m\u001b[0m\u001b[0m\n\u001b[0;32m--> 438\u001b[0;31m                                                    **Cache.cache_json())\n\u001b[0m\u001b[1;32m    439\u001b[0m \u001b[0;34m\u001b[0m\u001b[0m\n\u001b[1;32m    440\u001b[0m         cell_specimens = self.api.filter_cell_specimens(cell_specimens,\n",
      "\u001b[0;32m~/opt/anaconda3/envs/AllenInterface/lib/python3.7/site-packages/allensdk/api/warehouse_cache/cache.py\u001b[0m in \u001b[0;36mw\u001b[0;34m(*args, **kwargs)\u001b[0m\n\u001b[1;32m    661\u001b[0m             result = Cache.cacher(func,\n\u001b[1;32m    662\u001b[0m                                   \u001b[0;34m*\u001b[0m\u001b[0margs\u001b[0m\u001b[0;34m,\u001b[0m\u001b[0;34m\u001b[0m\u001b[0;34m\u001b[0m\u001b[0m\n\u001b[0;32m--> 663\u001b[0;31m                                   **kwargs)\n\u001b[0m\u001b[1;32m    664\u001b[0m             \u001b[0;32mreturn\u001b[0m \u001b[0mresult\u001b[0m\u001b[0;34m\u001b[0m\u001b[0;34m\u001b[0m\u001b[0m\n\u001b[1;32m    665\u001b[0m \u001b[0;34m\u001b[0m\u001b[0m\n",
      "\u001b[0;32m~/opt/anaconda3/envs/AllenInterface/lib/python3.7/site-packages/allensdk/api/warehouse_cache/cache.py\u001b[0m in \u001b[0;36mcacher\u001b[0;34m(fn, *args, **kwargs)\u001b[0m\n\u001b[1;32m    388\u001b[0m \u001b[0;34m\u001b[0m\u001b[0m\n\u001b[1;32m    389\u001b[0m         \u001b[0;32mif\u001b[0m \u001b[0mreader\u001b[0m\u001b[0;34m:\u001b[0m\u001b[0;34m\u001b[0m\u001b[0;34m\u001b[0m\u001b[0m\n\u001b[0;32m--> 390\u001b[0;31m             \u001b[0mdata\u001b[0m \u001b[0;34m=\u001b[0m \u001b[0mreader\u001b[0m\u001b[0;34m(\u001b[0m\u001b[0mpath\u001b[0m\u001b[0;34m)\u001b[0m\u001b[0;34m\u001b[0m\u001b[0;34m\u001b[0m\u001b[0m\n\u001b[0m\u001b[1;32m    391\u001b[0m \u001b[0;34m\u001b[0m\u001b[0m\n\u001b[1;32m    392\u001b[0m         \u001b[0;31m# Note: don't provide post if fn or reader doesn't return data\u001b[0m\u001b[0;34m\u001b[0m\u001b[0;34m\u001b[0m\u001b[0;34m\u001b[0m\u001b[0m\n",
      "\u001b[0;32m~/opt/anaconda3/envs/AllenInterface/lib/python3.7/site-packages/allensdk/core/json_utilities.py\u001b[0m in \u001b[0;36mread\u001b[0;34m(file_name)\u001b[0m\n\u001b[1;32m     58\u001b[0m         \u001b[0;32mif\u001b[0m \u001b[0mlen\u001b[0m\u001b[0;34m(\u001b[0m\u001b[0mjson_string\u001b[0m\u001b[0;34m)\u001b[0m\u001b[0;34m==\u001b[0m\u001b[0;36m0\u001b[0m\u001b[0;34m:\u001b[0m \u001b[0;31m# If empty file\u001b[0m\u001b[0;34m\u001b[0m\u001b[0;34m\u001b[0m\u001b[0m\n\u001b[1;32m     59\u001b[0m             \u001b[0mjson_string\u001b[0m\u001b[0;34m=\u001b[0m\u001b[0;34m'{}'\u001b[0m \u001b[0;31m# Create a string that will give an empty JSON object instead of an error\u001b[0m\u001b[0;34m\u001b[0m\u001b[0;34m\u001b[0m\u001b[0m\n\u001b[0;32m---> 60\u001b[0;31m         \u001b[0mjson_obj\u001b[0m \u001b[0;34m=\u001b[0m \u001b[0mjson\u001b[0m\u001b[0;34m.\u001b[0m\u001b[0mloads\u001b[0m\u001b[0;34m(\u001b[0m\u001b[0mjson_string\u001b[0m\u001b[0;34m)\u001b[0m\u001b[0;34m\u001b[0m\u001b[0;34m\u001b[0m\u001b[0m\n\u001b[0m\u001b[1;32m     61\u001b[0m \u001b[0;34m\u001b[0m\u001b[0m\n\u001b[1;32m     62\u001b[0m     \u001b[0;32mreturn\u001b[0m \u001b[0mjson_obj\u001b[0m\u001b[0;34m\u001b[0m\u001b[0;34m\u001b[0m\u001b[0m\n",
      "\u001b[0;32m~/opt/anaconda3/envs/AllenInterface/lib/python3.7/site-packages/simplejson/__init__.py\u001b[0m in \u001b[0;36mloads\u001b[0;34m(s, encoding, cls, object_hook, parse_float, parse_int, parse_constant, object_pairs_hook, use_decimal, **kw)\u001b[0m\n\u001b[1;32m    523\u001b[0m             \u001b[0mparse_constant\u001b[0m \u001b[0;32mis\u001b[0m \u001b[0;32mNone\u001b[0m \u001b[0;32mand\u001b[0m \u001b[0mobject_pairs_hook\u001b[0m \u001b[0;32mis\u001b[0m \u001b[0;32mNone\u001b[0m\u001b[0;34m\u001b[0m\u001b[0;34m\u001b[0m\u001b[0m\n\u001b[1;32m    524\u001b[0m             and not use_decimal and not kw):\n\u001b[0;32m--> 525\u001b[0;31m         \u001b[0;32mreturn\u001b[0m \u001b[0m_default_decoder\u001b[0m\u001b[0;34m.\u001b[0m\u001b[0mdecode\u001b[0m\u001b[0;34m(\u001b[0m\u001b[0ms\u001b[0m\u001b[0;34m)\u001b[0m\u001b[0;34m\u001b[0m\u001b[0;34m\u001b[0m\u001b[0m\n\u001b[0m\u001b[1;32m    526\u001b[0m     \u001b[0;32mif\u001b[0m \u001b[0mcls\u001b[0m \u001b[0;32mis\u001b[0m \u001b[0;32mNone\u001b[0m\u001b[0;34m:\u001b[0m\u001b[0;34m\u001b[0m\u001b[0;34m\u001b[0m\u001b[0m\n\u001b[1;32m    527\u001b[0m         \u001b[0mcls\u001b[0m \u001b[0;34m=\u001b[0m \u001b[0mJSONDecoder\u001b[0m\u001b[0;34m\u001b[0m\u001b[0;34m\u001b[0m\u001b[0m\n",
      "\u001b[0;32m~/opt/anaconda3/envs/AllenInterface/lib/python3.7/site-packages/simplejson/decoder.py\u001b[0m in \u001b[0;36mdecode\u001b[0;34m(self, s, _w, _PY3)\u001b[0m\n\u001b[1;32m    368\u001b[0m         \u001b[0;32mif\u001b[0m \u001b[0m_PY3\u001b[0m \u001b[0;32mand\u001b[0m \u001b[0misinstance\u001b[0m\u001b[0;34m(\u001b[0m\u001b[0ms\u001b[0m\u001b[0;34m,\u001b[0m \u001b[0mbytes\u001b[0m\u001b[0;34m)\u001b[0m\u001b[0;34m:\u001b[0m\u001b[0;34m\u001b[0m\u001b[0;34m\u001b[0m\u001b[0m\n\u001b[1;32m    369\u001b[0m             \u001b[0ms\u001b[0m \u001b[0;34m=\u001b[0m \u001b[0mstr\u001b[0m\u001b[0;34m(\u001b[0m\u001b[0ms\u001b[0m\u001b[0;34m,\u001b[0m \u001b[0mself\u001b[0m\u001b[0;34m.\u001b[0m\u001b[0mencoding\u001b[0m\u001b[0;34m)\u001b[0m\u001b[0;34m\u001b[0m\u001b[0;34m\u001b[0m\u001b[0m\n\u001b[0;32m--> 370\u001b[0;31m         \u001b[0mobj\u001b[0m\u001b[0;34m,\u001b[0m \u001b[0mend\u001b[0m \u001b[0;34m=\u001b[0m \u001b[0mself\u001b[0m\u001b[0;34m.\u001b[0m\u001b[0mraw_decode\u001b[0m\u001b[0;34m(\u001b[0m\u001b[0ms\u001b[0m\u001b[0;34m)\u001b[0m\u001b[0;34m\u001b[0m\u001b[0;34m\u001b[0m\u001b[0m\n\u001b[0m\u001b[1;32m    371\u001b[0m         \u001b[0mend\u001b[0m \u001b[0;34m=\u001b[0m \u001b[0m_w\u001b[0m\u001b[0;34m(\u001b[0m\u001b[0ms\u001b[0m\u001b[0;34m,\u001b[0m \u001b[0mend\u001b[0m\u001b[0;34m)\u001b[0m\u001b[0;34m.\u001b[0m\u001b[0mend\u001b[0m\u001b[0;34m(\u001b[0m\u001b[0;34m)\u001b[0m\u001b[0;34m\u001b[0m\u001b[0;34m\u001b[0m\u001b[0m\n\u001b[1;32m    372\u001b[0m         \u001b[0;32mif\u001b[0m \u001b[0mend\u001b[0m \u001b[0;34m!=\u001b[0m \u001b[0mlen\u001b[0m\u001b[0;34m(\u001b[0m\u001b[0ms\u001b[0m\u001b[0;34m)\u001b[0m\u001b[0;34m:\u001b[0m\u001b[0;34m\u001b[0m\u001b[0;34m\u001b[0m\u001b[0m\n",
      "\u001b[0;32m~/opt/anaconda3/envs/AllenInterface/lib/python3.7/site-packages/simplejson/decoder.py\u001b[0m in \u001b[0;36mraw_decode\u001b[0;34m(self, s, idx, _w, _PY3)\u001b[0m\n\u001b[1;32m    398\u001b[0m             \u001b[0;32melif\u001b[0m \u001b[0mord0\u001b[0m \u001b[0;34m==\u001b[0m \u001b[0;36m0xef\u001b[0m \u001b[0;32mand\u001b[0m \u001b[0ms\u001b[0m\u001b[0;34m[\u001b[0m\u001b[0midx\u001b[0m\u001b[0;34m:\u001b[0m\u001b[0midx\u001b[0m \u001b[0;34m+\u001b[0m \u001b[0;36m3\u001b[0m\u001b[0;34m]\u001b[0m \u001b[0;34m==\u001b[0m \u001b[0;34m'\\xef\\xbb\\xbf'\u001b[0m\u001b[0;34m:\u001b[0m\u001b[0;34m\u001b[0m\u001b[0;34m\u001b[0m\u001b[0m\n\u001b[1;32m    399\u001b[0m                 \u001b[0midx\u001b[0m \u001b[0;34m+=\u001b[0m \u001b[0;36m3\u001b[0m\u001b[0;34m\u001b[0m\u001b[0;34m\u001b[0m\u001b[0m\n\u001b[0;32m--> 400\u001b[0;31m         \u001b[0;32mreturn\u001b[0m \u001b[0mself\u001b[0m\u001b[0;34m.\u001b[0m\u001b[0mscan_once\u001b[0m\u001b[0;34m(\u001b[0m\u001b[0ms\u001b[0m\u001b[0;34m,\u001b[0m \u001b[0midx\u001b[0m\u001b[0;34m=\u001b[0m\u001b[0m_w\u001b[0m\u001b[0;34m(\u001b[0m\u001b[0ms\u001b[0m\u001b[0;34m,\u001b[0m \u001b[0midx\u001b[0m\u001b[0;34m)\u001b[0m\u001b[0;34m.\u001b[0m\u001b[0mend\u001b[0m\u001b[0;34m(\u001b[0m\u001b[0;34m)\u001b[0m\u001b[0;34m)\u001b[0m\u001b[0;34m\u001b[0m\u001b[0;34m\u001b[0m\u001b[0m\n\u001b[0m",
      "\u001b[0;31mKeyboardInterrupt\u001b[0m: "
     ]
    }
   ],
   "source": [
    "create_histogram('VISrl')"
   ]
  },
  {
   "cell_type": "markdown",
   "id": "14cac2bb",
   "metadata": {},
   "source": [
    "Run to see data analysis done by the Allen Institute (peak response, OSI, gOSI, etc.) "
   ]
  },
  {
   "cell_type": "code",
   "execution_count": 17,
   "id": "b1b6b026",
   "metadata": {},
   "outputs": [
    {
     "name": "stdout",
     "output_type": "stream",
     "text": [
      "Peak dff: Allen 1.533 vs. est 1.533\n",
      "Pref dir: Allen 0 vs. est 0\n",
      "Pref tf: Allen 1 vs. est 1\n",
      "OSI: Allen 1.28 vs. est 1.28\n"
     ]
    }
   ],
   "source": [
    "dsi_cell = dsi_cells.iloc[15]\n",
    "print(\"Peak dff: Allen %0.3f\" % dsi_cell.peak_dff_dg, \"vs. est %0.3f\" % (cellInfo[0]*100))\n",
    "print(\"Pref dir: Allen %0.f\" % dsi_cell.pref_dir_dg, \"vs. est %0.f\" % cellInfo[2])\n",
    "print(\"Pref tf: Allen %0.f\" % dsi_cell.pref_tf_dg, \"vs. est %0.f\" % cellInfo[1])\n",
    "print(\"OSI: Allen %.2f\" % dsi_cell.osi_dg, \"vs. est %.2f\" % cellInfo[4])"
   ]
  },
  {
   "cell_type": "code",
   "execution_count": null,
   "id": "51a42e0f",
   "metadata": {},
   "outputs": [],
   "source": []
  }
 ],
 "metadata": {
  "kernelspec": {
   "display_name": "Python 3 (ipykernel)",
   "language": "python",
   "name": "python3"
  },
  "language_info": {
   "codemirror_mode": {
    "name": "ipython",
    "version": 3
   },
   "file_extension": ".py",
   "mimetype": "text/x-python",
   "name": "python",
   "nbconvert_exporter": "python",
   "pygments_lexer": "ipython3",
   "version": "3.7.13"
  }
 },
 "nbformat": 4,
 "nbformat_minor": 5
}
