{
 "cells": [
  {
   "cell_type": "markdown",
   "id": "7f10e6b2",
   "metadata": {},
   "source": [
    "# Drifting Gratings"
   ]
  },
  {
   "cell_type": "markdown",
   "id": "2cb080b7",
   "metadata": {},
   "source": [
    "Create manifest to keep track of data"
   ]
  },
  {
   "cell_type": "code",
   "execution_count": null,
   "id": "9ec6dc75",
   "metadata": {},
   "outputs": [],
   "source": [
    "from allensdk.core.brain_observatory_cache import BrainObservatoryCache\n",
    "import pprint\n",
    "\n",
    "# This class uses a 'manifest' to keep track of downloaded data and metadata.  \n",
    "# All downloaded files will be stored relative to the directory holding the manifest\n",
    "# file.  If 'manifest_file' is a relative path (as it is below), it will be \n",
    "# saved relative to your working directory.  It can also be an absolute path.\n",
    "boc = BrainObservatoryCache()"
   ]
  },
  {
   "cell_type": "code",
   "execution_count": 24,
   "id": "ecf31664",
   "metadata": {},
   "outputs": [
    {
     "name": "stdout",
     "output_type": "stream",
     "text": [
      "all VISp experiment containers: 216\n"
     ]
    }
   ],
   "source": [
    "# Download experiment containers for VISp experiments\n",
    "visp_ecs = boc.get_experiment_containers(targeted_structures=['VISp'])\n",
    "print(\"all VISp experiment containers: %d\" % len(visp_ecs))"
   ]
  },
  {
   "cell_type": "markdown",
   "id": "4468c2ce",
   "metadata": {},
   "source": [
    "Following code block filters down to cells of interest (cells that are direction selective, show a significant response to drifitng gratings stim) "
   ]
  },
  {
   "cell_type": "code",
   "execution_count": 25,
   "id": "7f33c496",
   "metadata": {},
   "outputs": [
    {
     "name": "stdout",
     "output_type": "stream",
     "text": [
      "total cells: 63251\n",
      "VISp cells: 22641\n",
      "cells with sig. response to drifting gratings: 13401\n",
      "direction-selective cells: 1159\n"
     ]
    }
   ],
   "source": [
    "import pandas as pd\n",
    "\n",
    "# Download cells for a set of experiments and convert to DataFrame\n",
    "cells = boc.get_cell_specimens()\n",
    "cells = pd.DataFrame.from_records(cells)\n",
    "print(\"total cells: %d\" % len(cells))\n",
    "\n",
    "# find direction selective cells in VISp\n",
    "visp_ec_ids = [ ec['id'] for ec in visp_ecs ]\n",
    "visp_cells = cells[cells['experiment_container_id'].isin(visp_ec_ids)]\n",
    "print(\"VISp cells: %d\" % len(visp_cells))\n",
    "\n",
    "# significant response to drifting gratings stimulus\n",
    "sig_cells = visp_cells[visp_cells['p_dg'] < 0.05]\n",
    "print(\"cells with sig. response to drifting gratings: %d\" % len(sig_cells))\n",
    "\n",
    "# direction selective cells\n",
    "dsi_cells = sig_cells[(sig_cells['g_dsi_dg'] > 0.9)]\n",
    "print(\"direction-selective cells: %d\" % len(dsi_cells))\n"
   ]
  },
  {
   "cell_type": "markdown",
   "id": "b1cff5de",
   "metadata": {},
   "source": [
    "Import stim info data"
   ]
  },
  {
   "cell_type": "code",
   "execution_count": 26,
   "id": "5343404a",
   "metadata": {},
   "outputs": [
    {
     "name": "stdout",
     "output_type": "stream",
     "text": [
      "total dsi experiment containers: 104\n",
      "VISp drifting gratings ophys experiments: 104\n"
     ]
    }
   ],
   "source": [
    "import allensdk.brain_observatory.stimulus_info as stim_info\n",
    "\n",
    "# find experiment containers for those cells\n",
    "dsi_ec_ids = dsi_cells['experiment_container_id'].unique()\n",
    "print(\"total dsi experiment containers: %d\" % len(dsi_ec_ids))\n",
    "\n",
    "# Download the ophys experiments containing the drifting gratings stimulus for VISp experiment containers\n",
    "dsi_exps = boc.get_ophys_experiments(experiment_container_ids=dsi_ec_ids, stimuli=[stim_info.DRIFTING_GRATINGS])\n",
    "print(\"VISp drifting gratings ophys experiments: %d\" % len(dsi_exps))"
   ]
  },
  {
   "cell_type": "markdown",
   "id": "668fa485",
   "metadata": {},
   "source": [
    "Import required packages for code"
   ]
  },
  {
   "cell_type": "code",
   "execution_count": 27,
   "id": "d778cad0",
   "metadata": {},
   "outputs": [],
   "source": [
    "from matplotlib import pyplot as plt\n",
    "#%matplotlib inline\n",
    "import matplotlib.pyplot as plt\n",
    "import matplotlib.patches as patches\n",
    "\n",
    "import numpy as np\n",
    "import cmath\n",
    "\n",
    "def plot_stimulus_table(stim_table, title):\n",
    "    fstart = stim_table.start.min()\n",
    "    fend = stim_table.end.max()\n",
    "    \n",
    "    fig = plt.figure(figsize=(15,1))\n",
    "    ax = fig.gca()\n",
    "    for i, trial in stim_table.iterrows():    \n",
    "        x1 = float(trial.start - fstart) / (fend - fstart)\n",
    "        x2 = float(trial.end - fstart) / (fend - fstart)            \n",
    "        ax.add_patch(patches.Rectangle((x1, 0.0), x2 - x1, 1.0, color='r'))\n",
    "    ax.set_xticks((0,1))\n",
    "    ax.set_xticklabels((fstart, fend))\n",
    "    ax.set_yticks(())\n",
    "    ax.set_title(title)\n",
    "    ax.set_xlabel(\"frames\")\n"
   ]
  },
  {
   "cell_type": "markdown",
   "id": "1c3e8bc6",
   "metadata": {},
   "source": [
    " FUNCTIONS"
   ]
  },
  {
   "cell_type": "code",
   "execution_count": 28,
   "id": "5eb6b8e6",
   "metadata": {},
   "outputs": [],
   "source": [
    "# plot_dg:\n",
    "#\n",
    "#\n",
    "#\n",
    "# freq: temporal frequency of stimulus\n",
    "# ori: orientation of stimulus\n",
    "# dsi_cell: NWB file for cell\n",
    "# data_set:  ophys experiment data\n",
    "# print_graphs: boolean value, if true, plots all of the 15 trials for each stim\n",
    "# plot_stim_instances: boolean value, if true, shows a plot of the frames each stim is shown\n",
    "# plot_avg_graph: boolean value, if true, shows average plot of each stim\n",
    "# plot_trial_on_avg: boolean value, if true, shows trial plots on same plot as avg\n",
    "# ori_ind: indice of orientation axis for subplots\n",
    "# freq_ind: indice of frequency axis for subplots\n",
    "# axs: subplot object\n",
    "def plot_dg(freq, ori, dsi_cell, data_set, print_graphs, plot_stim_instances, plot_avg_graph, plot_trial_on_avg, \n",
    "            freq_ind, ori_ind, axs):\n",
    "    \n",
    "    # get flourescence traces for target cell\n",
    "    dsi_cell_id = dsi_cell['cell_specimen_id']\n",
    "    time, f_traces = data_set.get_corrected_fluorescence_traces(cell_specimen_ids=[dsi_cell_id])\n",
    "    \n",
    "    # this is a pandas DataFrame. find trials with a given stimulus condition.\n",
    "    # 40 diff total conditions\n",
    "    temporal_frequency = freq\n",
    "    orientation = ori\n",
    "    stim_table = data_set.get_stimulus_table('drifting_gratings')\n",
    "    stim_table = stim_table[(stim_table.temporal_frequency == temporal_frequency) & \n",
    "                            (stim_table.orientation == orientation)]\n",
    "    \n",
    "    # plot of instances of stimulus frames\n",
    "    if (plot_stim_instances) :\n",
    "        plot_stimulus_table(stim_table, \"Instances of Stimuli, TF %d ORI %d\" % (temporal_frequency, orientation))\n",
    "        plt.show()\n",
    "    \n",
    "    # make 2D array of 120 data points of f_traces and dff_traces for each of the 15 trials\n",
    "    all_f_traces = [[0]*120 for i in range(15)] \n",
    "    dff_traces = [[0]*120 for i in range(15)] \n",
    "    x=0\n",
    "    \n",
    "    # plot 15 trial graphs\n",
    "    # initialize trial graph subplots\n",
    "    if (print_graphs):\n",
    "        fig_trial, axs_trial = plt.subplots(3, 5, sharey=True, figsize=(10,10))\n",
    "        fig_trial.suptitle(\"15 Trials for Stimuli, TF %d ORI %d\" % (temporal_frequency, orientation))\n",
    "    x_ind = 0 \n",
    "    y_ind = 0\n",
    "    \n",
    "    for start_ind in stim_table.start:\n",
    "        \n",
    "        all_f_traces[x] = f_traces[0][start_ind-30:start_ind+90] # get f_traces at desired indices\n",
    "        F0 = np.mean(f_traces[0][start_ind-30:start_ind]) # calculate baseline as the preceding second before stim\n",
    "        dff_traces[x] = (all_f_traces[x]-F0)/F0  # calculate dff at desired indices\n",
    "        \n",
    "        if (plot_avg_graph and plot_trial_on_avg) :\n",
    "            axs[freq_ind, ori_ind].plot(time[0:120]-time[0]-1, dff_traces[x], color='tan')\n",
    "        if (print_graphs) :\n",
    "            axs_trial[x_ind, y_ind].plot(time[0:120]-time[0]-1, dff_traces[x], color='tan')\n",
    "            axs_trial[x_ind, y_ind].set_title(\"Frames %d to %d\" % (start_ind-30,start_ind+90),\n",
    "                                              fontdict = {'fontsize': 7})\n",
    "\n",
    "            # Mark the area of the stimulus\n",
    "            axs_trial[x_ind, y_ind].fill_between(time[0:60]-time[0], min(dff_traces[x]), \n",
    "                                                                         min(dff_traces[x])+0.005,\n",
    "                facecolor=\"orange\", # The fill color\n",
    "                color='blue',       # The outline color\n",
    "                alpha=0.4)          # Transparency of the fill\n",
    "            \n",
    "            for ax in axs_trial.flat:\n",
    "                ax.set(xlabel='sec', ylabel='dF/F')\n",
    "            for ax in axs_trial.flat:\n",
    "                ax.label_outer()\n",
    "\n",
    "            y_ind +=1 \n",
    "            if (y_ind > 4) : \n",
    "                y_ind = 0\n",
    "                x_ind +=1\n",
    "        \n",
    "        x+=1\n",
    "    \n",
    "    # calculate and plot the average response of all graphs\n",
    "    mean_dff = np.mean(dff_traces, axis=0)\n",
    "    \n",
    "    if (plot_avg_graph) :\n",
    "        axs[freq_ind,ori_ind].plot(time[0:120]-time[0]-1,mean_dff, color='black')\n",
    "        axs[freq_ind,ori_ind].set_title(\"TF %d ORI %d\" %(temporal_frequency, orientation))\n",
    "        axs[freq_ind,ori_ind].fill_between(time[0:60]-time[0], \n",
    "                min(mean_dff), min(mean_dff)+0.005,\n",
    "                facecolor=\"orange\", # The fill color\n",
    "                color='blue',       # The outline color\n",
    "                alpha=0.4)          # Transparency of the fill\n",
    "    \n",
    "    # calculate single value average dff from average graph\n",
    "    return np.mean(mean_dff[30:90])\n",
    "    \n",
    "    "
   ]
  },
  {
   "cell_type": "code",
   "execution_count": 45,
   "id": "18bfb0a3",
   "metadata": {},
   "outputs": [],
   "source": [
    "# dg_for_cell(index, plot_trial_graphs, plot_stim_instances, plot_avg_graph, plot_trial_on_avg:)\n",
    "#\n",
    "#\n",
    "#\n",
    "# index: index of cell in vector of filtered direction selective cells. There are 1159 direction selective cells. \n",
    "# Index values can range from 0 to 1158\n",
    "# plot_trial_graphs: boolean value, if true, shows all of the 15 trials for each stim\n",
    "# plot_stim_instances: boolean value, if true, shows a plot of the frames each stim is shown\n",
    "# plot_avg_graph: boolean value, if true, shows average plot of each stim\n",
    "# plot_trial_on_avg: boolean value, if true, shows trial plots on same plot as avg\n",
    "# show_text : boolean value, if true, prints text information such as cell metadata, stimulus matrix,\n",
    "# and outputs of analysis calculations\n",
    "# Warning: calling this function will require downloading the ophys experiment data, which may take some time\n",
    "# This function downloads the NWB files that contain the fluorescence traces for segmented cells in \n",
    "# those experiments that used the dg stim\n",
    "def dg_for_cell(index, plot_trial_graphs, plot_stim_instances, plot_avg_graph, plot_trial_on_avg, show_text): \n",
    "    # pick a direction-selective cell and find its NWB file\n",
    "    dsi_cell = dsi_cells.iloc[index]\n",
    "    \n",
    "    # figure out which ophys experiment has the drifting gratings stimulus for that cell\n",
    "    cell_exp = boc.get_ophys_experiments(cell_specimen_ids=[dsi_cell['cell_specimen_id']],\n",
    "                                         stimuli=[stim_info.DRIFTING_GRATINGS])[0]\n",
    "\n",
    "    data_set = boc.get_ophys_experiment_data(cell_exp['id'])\n",
    "    \n",
    "    if (show_text):\n",
    "        print(\"Metadata from NWB file:\")\n",
    "        pprint.pprint(data_set.get_metadata())\n",
    "    \n",
    "    # initialize stim_matrix\n",
    "    stim_matrix = [[0]*8 for i in range(5)]\n",
    "    \n",
    "    # initialize avg graph subplots\n",
    "    if (plot_avg_graph) :\n",
    "        fig, axs = plt.subplots(5, 8, sharey=True, figsize=(15,15))\n",
    "        fig.suptitle('Average Fluorescence For Each Stim')\n",
    "        for ax in axs.flat:\n",
    "            ax.set(xlabel='sec', ylabel='dF/F')\n",
    "        for ax in axs.flat:\n",
    "            ax.label_outer()\n",
    "    else :\n",
    "        axs = None \n",
    "        \n",
    "    # make avg graph subplots and calculate average dff for each stim\n",
    "    freq_array = [1,2,4,8,15]\n",
    "    ori_array = [0,45,90,135,180,225,270,315]\n",
    "    freq_ind = 0\n",
    "    for freq in freq_array :\n",
    "        ori_ind = 0\n",
    "        for ori in ori_array :\n",
    "            avg_dff = plot_dg(freq, ori, dsi_cell, data_set, plot_trial_graphs, plot_stim_instances, \n",
    "                              plot_avg_graph, plot_trial_on_avg, freq_ind, ori_ind, axs)\n",
    "            stim_matrix[freq_ind][ori_ind] = avg_dff\n",
    "            ori_ind +=1\n",
    "        freq_ind += 1\n",
    "    \n",
    "    # print stim_matrix\n",
    "    row_labels = ['1', '2', '4', '8', '15']\n",
    "    column_labels = ['0','45','90','135','180','225','270','315']\n",
    "    if (show_text):\n",
    "        print(pd.DataFrame(stim_matrix, columns=column_labels, index=row_labels))\n",
    "    \n",
    "    # calc R max val in stim_matrix\n",
    "    Rmax = np.amax(stim_matrix)\n",
    "    if (show_text): print(\"Cell has Rmax of %f\" % Rmax)\n",
    "    result = np.where(stim_matrix == np.amax(stim_matrix))\n",
    "    max_coor = list(zip(result[0], result[1]))\n",
    "    if (show_text): print(\"At temporal frequency of %d and orientation of %d\" % \n",
    "          (freq_array[max_coor[0][0]], ori_array[max_coor[0][1]]))\n",
    "    \n",
    "    # calc R orth\n",
    "    Rorth = (stim_matrix[max_coor[0][0]][max_coor[0][1]-2] + stim_matrix[max_coor[0][0]][(max_coor[0][1]+2)%8])/2\n",
    "    if (show_text): print(\"Rorth: %f\" % Rorth)\n",
    "    \n",
    "    # calc OSI\n",
    "    OSI = (Rmax - Rorth)/(Rmax + Rorth)\n",
    "    if (show_text): print(\"OSI: %f\" % OSI)\n",
    "    \n",
    "    # calc gOSI\n",
    "    Rtheta=0\n",
    "    Rtheta_exp=0\n",
    "    for i in range(0, 8) :\n",
    "        Rtheta += stim_matrix[max_coor[0][0]][i]\n",
    "        Rtheta_exp += (Rtheta * cmath.exp(complex(0,2)*ori_array[i]))\n",
    "    gOSI = abs(Rtheta_exp/Rtheta)\n",
    "    if (show_text): print(\"gOSI: %f\" % gOSI)\n",
    "    \n",
    "    # return array of Rmax, pref TF, pref ORI, Rorth, OSI and gOSI values\n",
    "    return [Rmax, freq_array[max_coor[0][0]], ori_array[max_coor[0][1]], Rorth, OSI, gOSI]\n",
    "    "
   ]
  },
  {
   "cell_type": "code",
   "execution_count": 63,
   "id": "14789c6f",
   "metadata": {},
   "outputs": [],
   "source": [
    "# create_histogram: creates histogram of OSI of all cells in desired cortical layer\n",
    "#\n",
    "#\n",
    "#\n",
    "#\n",
    "# targeted_struct: string argument identifying desired cortical layer. Options are\n",
    "# 'VISal', 'VISam', 'VISl', 'VISp', 'VISpm', 'VISrl'. Higher order visual cortices (VISam, VISpm, VISrl) show\n",
    "# decreased activity with increased running speed\n",
    "#\n",
    "def create_histogram(targeted_struct) :\n",
    "    \n",
    "    # Download experiment containers for experiments of target structure\n",
    "    exp_containers = boc.get_experiment_containers(targeted_structures=[targeted_struct])\n",
    "    print(\"all %s experiment containers: %d\" % (targeted_struct, len(exp_containers)))\n",
    "    \n",
    "    # Download cells for a set of experiments and convert to DataFrame\n",
    "    cells = boc.get_cell_specimens() # this code may be moved outside of the function?\n",
    "    cells = pd.DataFrame.from_records(cells)\n",
    "    print(\"total cells: %d\" % len(cells))\n",
    "\n",
    "    # find direction selective cells in VISp\n",
    "    exp_container_ids = [ ec['id'] for ec in exp_containers ]\n",
    "    structure_cells = cells[cells['experiment_container_id'].isin(exp_container_ids)]\n",
    "    print(\"%s cells: %d\" % (targeted_struct, len(structure_cells)))\n",
    "\n",
    "    # significant response to drifting gratings stimulus\n",
    "    sig_cells = structure_cells[structure_cells['p_dg'] < 0.05]\n",
    "    print(\"cells with sig. response to drifting gratings: %d\" % len(sig_cells))\n",
    "\n",
    "    # direction selective cells\n",
    "    dsi_cells = sig_cells[(sig_cells['g_dsi_dg'] > 0.9)]\n",
    "    print(\"direction-selective cells: %d\" % len(dsi_cells))\n",
    "\n",
    "    OSIs = [0] * len(dsi_cells)\n",
    "    index=0\n",
    "    \n",
    "    while index < len(dsi_cells) :\n",
    "        OSI = dg_for_cell(index, False, False, False, False, False)[4]\n",
    "        if (0 <= OSI <= 2) :\n",
    "            OSIs[index] = OSI\n",
    "            index += 1\n",
    "    \n",
    "    plt.hist(OSIs, 50, density = 1)\n",
    "    plt.xlabel('Orientation Selectivity Index for Drifting Gratings')\n",
    "    plt.ylabel('Number of Cells')\n",
    "    "
   ]
  },
  {
   "cell_type": "markdown",
   "id": "fc8da54e",
   "metadata": {},
   "source": [
    "TESTS"
   ]
  },
  {
   "cell_type": "code",
   "execution_count": null,
   "id": "4d2e5312",
   "metadata": {},
   "outputs": [],
   "source": [
    "# This function downloads the NWB files that contain the fluorescence traces for segmented cells in \n",
    "# those experiments that used the dg stim\n",
    "cellInfo = dg_for_cell(16, False, False, False, True, True)\n"
   ]
  },
  {
   "cell_type": "code",
   "execution_count": 65,
   "id": "1cd6088e",
   "metadata": {
    "scrolled": false
   },
   "outputs": [
    {
     "name": "stdout",
     "output_type": "stream",
     "text": [
      "all VISpm experiment containers: 87\n",
      "total cells: 63251\n",
      "VISpm cells: 7985\n",
      "cells with sig. response to drifting gratings: 3220\n",
      "direction-selective cells: 171\n"
     ]
    },
    {
     "ename": "KeyboardInterrupt",
     "evalue": "",
     "output_type": "error",
     "traceback": [
      "\u001b[0;31m---------------------------------------------------------------------------\u001b[0m",
      "\u001b[0;31mKeyboardInterrupt\u001b[0m                         Traceback (most recent call last)",
      "\u001b[0;32m/var/folders/pp/47yv7l2j4nl3228qpg3fkwg80000gn/T/ipykernel_95075/2294714075.py\u001b[0m in \u001b[0;36m<module>\u001b[0;34m\u001b[0m\n\u001b[0;32m----> 1\u001b[0;31m \u001b[0mcreate_histogram\u001b[0m\u001b[0;34m(\u001b[0m\u001b[0;34m'VISpm'\u001b[0m\u001b[0;34m)\u001b[0m\u001b[0;34m\u001b[0m\u001b[0;34m\u001b[0m\u001b[0m\n\u001b[0m",
      "\u001b[0;32m/var/folders/pp/47yv7l2j4nl3228qpg3fkwg80000gn/T/ipykernel_95075/835357030.py\u001b[0m in \u001b[0;36mcreate_histogram\u001b[0;34m(targeted_struct)\u001b[0m\n\u001b[1;32m     36\u001b[0m \u001b[0;34m\u001b[0m\u001b[0m\n\u001b[1;32m     37\u001b[0m     \u001b[0;32mwhile\u001b[0m \u001b[0mindex\u001b[0m \u001b[0;34m<\u001b[0m \u001b[0mlen\u001b[0m\u001b[0;34m(\u001b[0m\u001b[0mdsi_cells\u001b[0m\u001b[0;34m)\u001b[0m \u001b[0;34m:\u001b[0m\u001b[0;34m\u001b[0m\u001b[0;34m\u001b[0m\u001b[0m\n\u001b[0;32m---> 38\u001b[0;31m         \u001b[0mOSI\u001b[0m \u001b[0;34m=\u001b[0m \u001b[0mdg_for_cell\u001b[0m\u001b[0;34m(\u001b[0m\u001b[0mindex\u001b[0m\u001b[0;34m,\u001b[0m \u001b[0;32mFalse\u001b[0m\u001b[0;34m,\u001b[0m \u001b[0;32mFalse\u001b[0m\u001b[0;34m,\u001b[0m \u001b[0;32mFalse\u001b[0m\u001b[0;34m,\u001b[0m \u001b[0;32mFalse\u001b[0m\u001b[0;34m,\u001b[0m \u001b[0;32mFalse\u001b[0m\u001b[0;34m)\u001b[0m\u001b[0;34m[\u001b[0m\u001b[0;36m4\u001b[0m\u001b[0;34m]\u001b[0m\u001b[0;34m\u001b[0m\u001b[0;34m\u001b[0m\u001b[0m\n\u001b[0m\u001b[1;32m     39\u001b[0m         \u001b[0;32mif\u001b[0m \u001b[0;34m(\u001b[0m\u001b[0;36m0\u001b[0m \u001b[0;34m<=\u001b[0m \u001b[0mOSI\u001b[0m \u001b[0;34m<=\u001b[0m \u001b[0;36m2\u001b[0m\u001b[0;34m)\u001b[0m \u001b[0;34m:\u001b[0m\u001b[0;34m\u001b[0m\u001b[0;34m\u001b[0m\u001b[0m\n\u001b[1;32m     40\u001b[0m             \u001b[0mOSIs\u001b[0m\u001b[0;34m[\u001b[0m\u001b[0mindex\u001b[0m\u001b[0;34m]\u001b[0m \u001b[0;34m=\u001b[0m \u001b[0mOSI\u001b[0m\u001b[0;34m\u001b[0m\u001b[0;34m\u001b[0m\u001b[0m\n",
      "\u001b[0;32m/var/folders/pp/47yv7l2j4nl3228qpg3fkwg80000gn/T/ipykernel_95075/427120309.py\u001b[0m in \u001b[0;36mdg_for_cell\u001b[0;34m(index, plot_trial_graphs, plot_stim_instances, plot_avg_graph, plot_trial_on_avg, show_text)\u001b[0m\n\u001b[1;32m     20\u001b[0m     \u001b[0;31m# figure out which ophys experiment has the drifting gratings stimulus for that cell\u001b[0m\u001b[0;34m\u001b[0m\u001b[0;34m\u001b[0m\u001b[0;34m\u001b[0m\u001b[0m\n\u001b[1;32m     21\u001b[0m     cell_exp = boc.get_ophys_experiments(cell_specimen_ids=[dsi_cell['cell_specimen_id']],\n\u001b[0;32m---> 22\u001b[0;31m                                          stimuli=[stim_info.DRIFTING_GRATINGS])[0]\n\u001b[0m\u001b[1;32m     23\u001b[0m \u001b[0;34m\u001b[0m\u001b[0m\n\u001b[1;32m     24\u001b[0m     \u001b[0mdata_set\u001b[0m \u001b[0;34m=\u001b[0m \u001b[0mboc\u001b[0m\u001b[0;34m.\u001b[0m\u001b[0mget_ophys_experiment_data\u001b[0m\u001b[0;34m(\u001b[0m\u001b[0mcell_exp\u001b[0m\u001b[0;34m[\u001b[0m\u001b[0;34m'id'\u001b[0m\u001b[0;34m]\u001b[0m\u001b[0;34m)\u001b[0m\u001b[0;34m\u001b[0m\u001b[0;34m\u001b[0m\u001b[0m\n",
      "\u001b[0;32m~/opt/anaconda3/envs/AllenInterface/lib/python3.7/site-packages/allensdk/core/brain_observatory_cache.py\u001b[0m in \u001b[0;36mget_ophys_experiments\u001b[0;34m(self, file_name, ids, experiment_container_ids, targeted_structures, imaging_depths, cre_lines, reporter_lines, transgenic_lines, stimuli, session_types, cell_specimen_ids, include_failed, require_eye_tracking, simple)\u001b[0m\n\u001b[1;32m    333\u001b[0m         \u001b[0;31m# ----- Start of ugly hack -----\u001b[0m\u001b[0;34m\u001b[0m\u001b[0;34m\u001b[0m\u001b[0;34m\u001b[0m\u001b[0m\n\u001b[1;32m    334\u001b[0m         response = self.api.template_query('brain_observatory_queries',\n\u001b[0;32m--> 335\u001b[0;31m                                            'all_eye_mapping_files')\n\u001b[0m\u001b[1;32m    336\u001b[0m \u001b[0;34m\u001b[0m\u001b[0m\n\u001b[1;32m    337\u001b[0m         session_ids_with_eye_tracking: set = {entry['attachable_id']\n",
      "\u001b[0;32m~/opt/anaconda3/envs/AllenInterface/lib/python3.7/site-packages/allensdk/api/queries/rma_template.py\u001b[0m in \u001b[0;36mtemplate_query\u001b[0;34m(self, template_name, entry_name, **kwargs)\u001b[0m\n\u001b[1;32m    130\u001b[0m         \u001b[0mquery_args\u001b[0m\u001b[0;34m.\u001b[0m\u001b[0mupdate\u001b[0m\u001b[0;34m(\u001b[0m\u001b[0mkwargs\u001b[0m\u001b[0;34m)\u001b[0m\u001b[0;34m\u001b[0m\u001b[0;34m\u001b[0m\u001b[0m\n\u001b[1;32m    131\u001b[0m \u001b[0;34m\u001b[0m\u001b[0m\n\u001b[0;32m--> 132\u001b[0;31m         \u001b[0mdata\u001b[0m \u001b[0;34m=\u001b[0m \u001b[0mself\u001b[0m\u001b[0;34m.\u001b[0m\u001b[0mmodel_query\u001b[0m\u001b[0;34m(\u001b[0m\u001b[0;34m**\u001b[0m\u001b[0mquery_args\u001b[0m\u001b[0;34m)\u001b[0m\u001b[0;34m\u001b[0m\u001b[0;34m\u001b[0m\u001b[0m\n\u001b[0m\u001b[1;32m    133\u001b[0m \u001b[0;34m\u001b[0m\u001b[0m\n\u001b[1;32m    134\u001b[0m         \u001b[0;32mreturn\u001b[0m \u001b[0mdata\u001b[0m\u001b[0;34m\u001b[0m\u001b[0;34m\u001b[0m\u001b[0m\n",
      "\u001b[0;32m~/opt/anaconda3/envs/AllenInterface/lib/python3.7/site-packages/allensdk/api/queries/rma_api.py\u001b[0m in \u001b[0;36mmodel_query\u001b[0;34m(self, *args, **kwargs)\u001b[0m\n\u001b[1;32m    257\u001b[0m         return self.json_msg_query(\n\u001b[1;32m    258\u001b[0m             self.build_query_url(\n\u001b[0;32m--> 259\u001b[0;31m                 self.model_stage(*args, **kwargs)))\n\u001b[0m\u001b[1;32m    260\u001b[0m \u001b[0;34m\u001b[0m\u001b[0m\n\u001b[1;32m    261\u001b[0m     \u001b[0;32mdef\u001b[0m \u001b[0mservice_query\u001b[0m\u001b[0;34m(\u001b[0m\u001b[0mself\u001b[0m\u001b[0;34m,\u001b[0m \u001b[0;34m*\u001b[0m\u001b[0margs\u001b[0m\u001b[0;34m,\u001b[0m \u001b[0;34m**\u001b[0m\u001b[0mkwargs\u001b[0m\u001b[0;34m)\u001b[0m\u001b[0;34m:\u001b[0m\u001b[0;34m\u001b[0m\u001b[0;34m\u001b[0m\u001b[0m\n",
      "\u001b[0;32m~/opt/anaconda3/envs/AllenInterface/lib/python3.7/site-packages/allensdk/api/api.py\u001b[0m in \u001b[0;36mjson_msg_query\u001b[0;34m(self, url, dataframe)\u001b[0m\n\u001b[1;32m    163\u001b[0m \u001b[0;34m\u001b[0m\u001b[0m\n\u001b[1;32m    164\u001b[0m         data = self.do_query(lambda *a, **k: url,\n\u001b[0;32m--> 165\u001b[0;31m                              self.read_data)\n\u001b[0m\u001b[1;32m    166\u001b[0m \u001b[0;34m\u001b[0m\u001b[0m\n\u001b[1;32m    167\u001b[0m         \u001b[0;32mif\u001b[0m \u001b[0mdataframe\u001b[0m \u001b[0;32mis\u001b[0m \u001b[0;32mTrue\u001b[0m\u001b[0;34m:\u001b[0m\u001b[0;34m\u001b[0m\u001b[0;34m\u001b[0m\u001b[0m\n",
      "\u001b[0;32m~/opt/anaconda3/envs/AllenInterface/lib/python3.7/site-packages/allensdk/api/api.py\u001b[0m in \u001b[0;36mdo_query\u001b[0;34m(self, url_builder_fn, json_traversal_fn, *args, **kwargs)\u001b[0m\n\u001b[1;32m    202\u001b[0m         \u001b[0mpost\u001b[0m \u001b[0;34m=\u001b[0m \u001b[0mkwargs\u001b[0m\u001b[0;34m.\u001b[0m\u001b[0mget\u001b[0m\u001b[0;34m(\u001b[0m\u001b[0;34m'post'\u001b[0m\u001b[0;34m,\u001b[0m \u001b[0;32mFalse\u001b[0m\u001b[0;34m)\u001b[0m\u001b[0;34m\u001b[0m\u001b[0;34m\u001b[0m\u001b[0m\n\u001b[1;32m    203\u001b[0m \u001b[0;34m\u001b[0m\u001b[0m\n\u001b[0;32m--> 204\u001b[0;31m         \u001b[0mjson_parsed_data\u001b[0m \u001b[0;34m=\u001b[0m \u001b[0mself\u001b[0m\u001b[0;34m.\u001b[0m\u001b[0mretrieve_parsed_json_over_http\u001b[0m\u001b[0;34m(\u001b[0m\u001b[0mapi_url\u001b[0m\u001b[0;34m,\u001b[0m \u001b[0mpost\u001b[0m\u001b[0;34m)\u001b[0m\u001b[0;34m\u001b[0m\u001b[0;34m\u001b[0m\u001b[0m\n\u001b[0m\u001b[1;32m    205\u001b[0m \u001b[0;34m\u001b[0m\u001b[0m\n\u001b[1;32m    206\u001b[0m         \u001b[0;32mreturn\u001b[0m \u001b[0mjson_traversal_fn\u001b[0m\u001b[0;34m(\u001b[0m\u001b[0mjson_parsed_data\u001b[0m\u001b[0;34m)\u001b[0m\u001b[0;34m\u001b[0m\u001b[0;34m\u001b[0m\u001b[0m\n",
      "\u001b[0;32m~/opt/anaconda3/envs/AllenInterface/lib/python3.7/site-packages/allensdk/api/api.py\u001b[0m in \u001b[0;36mretrieve_parsed_json_over_http\u001b[0;34m(self, url, post)\u001b[0m\n\u001b[1;32m    369\u001b[0m             data = json_utilities.read_url_get(\n\u001b[1;32m    370\u001b[0m                 requests.utils.quote(url,\n\u001b[0;32m--> 371\u001b[0;31m                                      ';/?:@&=+$,'))\n\u001b[0m\u001b[1;32m    372\u001b[0m         \u001b[0;32melse\u001b[0m\u001b[0;34m:\u001b[0m\u001b[0;34m\u001b[0m\u001b[0;34m\u001b[0m\u001b[0m\n\u001b[1;32m    373\u001b[0m             \u001b[0mdata\u001b[0m \u001b[0;34m=\u001b[0m \u001b[0mjson_utilities\u001b[0m\u001b[0;34m.\u001b[0m\u001b[0mread_url_post\u001b[0m\u001b[0;34m(\u001b[0m\u001b[0murl\u001b[0m\u001b[0;34m)\u001b[0m\u001b[0;34m\u001b[0m\u001b[0;34m\u001b[0m\u001b[0m\n",
      "\u001b[0;32m~/opt/anaconda3/envs/AllenInterface/lib/python3.7/site-packages/allensdk/core/json_utilities.py\u001b[0m in \u001b[0;36mread_url_get\u001b[0;34m(url)\u001b[0m\n\u001b[1;32m    107\u001b[0m     \u001b[0mthe\u001b[0m \u001b[0moutput\u001b[0m \u001b[0mwill\u001b[0m \u001b[0mbe\u001b[0m \u001b[0mof\u001b[0m \u001b[0mthe\u001b[0m \u001b[0mcorresponding\u001b[0m \u001b[0mtype\u001b[0m\u001b[0;34m.\u001b[0m\u001b[0;34m\u001b[0m\u001b[0;34m\u001b[0m\u001b[0m\n\u001b[1;32m    108\u001b[0m     '''\n\u001b[0;32m--> 109\u001b[0;31m     \u001b[0mresponse\u001b[0m \u001b[0;34m=\u001b[0m \u001b[0murllib_request\u001b[0m\u001b[0;34m.\u001b[0m\u001b[0murlopen\u001b[0m\u001b[0;34m(\u001b[0m\u001b[0murl\u001b[0m\u001b[0;34m)\u001b[0m\u001b[0;34m\u001b[0m\u001b[0;34m\u001b[0m\u001b[0m\n\u001b[0m\u001b[1;32m    110\u001b[0m     \u001b[0mjson_string\u001b[0m \u001b[0;34m=\u001b[0m \u001b[0mresponse\u001b[0m\u001b[0;34m.\u001b[0m\u001b[0mread\u001b[0m\u001b[0;34m(\u001b[0m\u001b[0;34m)\u001b[0m\u001b[0;34m.\u001b[0m\u001b[0mdecode\u001b[0m\u001b[0;34m(\u001b[0m\u001b[0;34m'utf-8'\u001b[0m\u001b[0;34m)\u001b[0m\u001b[0;34m\u001b[0m\u001b[0;34m\u001b[0m\u001b[0m\n\u001b[1;32m    111\u001b[0m \u001b[0;34m\u001b[0m\u001b[0m\n",
      "\u001b[0;32m~/opt/anaconda3/envs/AllenInterface/lib/python3.7/urllib/request.py\u001b[0m in \u001b[0;36murlopen\u001b[0;34m(url, data, timeout, cafile, capath, cadefault, context)\u001b[0m\n\u001b[1;32m    220\u001b[0m     \u001b[0;32melse\u001b[0m\u001b[0;34m:\u001b[0m\u001b[0;34m\u001b[0m\u001b[0;34m\u001b[0m\u001b[0m\n\u001b[1;32m    221\u001b[0m         \u001b[0mopener\u001b[0m \u001b[0;34m=\u001b[0m \u001b[0m_opener\u001b[0m\u001b[0;34m\u001b[0m\u001b[0;34m\u001b[0m\u001b[0m\n\u001b[0;32m--> 222\u001b[0;31m     \u001b[0;32mreturn\u001b[0m \u001b[0mopener\u001b[0m\u001b[0;34m.\u001b[0m\u001b[0mopen\u001b[0m\u001b[0;34m(\u001b[0m\u001b[0murl\u001b[0m\u001b[0;34m,\u001b[0m \u001b[0mdata\u001b[0m\u001b[0;34m,\u001b[0m \u001b[0mtimeout\u001b[0m\u001b[0;34m)\u001b[0m\u001b[0;34m\u001b[0m\u001b[0;34m\u001b[0m\u001b[0m\n\u001b[0m\u001b[1;32m    223\u001b[0m \u001b[0;34m\u001b[0m\u001b[0m\n\u001b[1;32m    224\u001b[0m \u001b[0;32mdef\u001b[0m \u001b[0minstall_opener\u001b[0m\u001b[0;34m(\u001b[0m\u001b[0mopener\u001b[0m\u001b[0;34m)\u001b[0m\u001b[0;34m:\u001b[0m\u001b[0;34m\u001b[0m\u001b[0;34m\u001b[0m\u001b[0m\n",
      "\u001b[0;32m~/opt/anaconda3/envs/AllenInterface/lib/python3.7/urllib/request.py\u001b[0m in \u001b[0;36mopen\u001b[0;34m(self, fullurl, data, timeout)\u001b[0m\n\u001b[1;32m    523\u001b[0m             \u001b[0mreq\u001b[0m \u001b[0;34m=\u001b[0m \u001b[0mmeth\u001b[0m\u001b[0;34m(\u001b[0m\u001b[0mreq\u001b[0m\u001b[0;34m)\u001b[0m\u001b[0;34m\u001b[0m\u001b[0;34m\u001b[0m\u001b[0m\n\u001b[1;32m    524\u001b[0m \u001b[0;34m\u001b[0m\u001b[0m\n\u001b[0;32m--> 525\u001b[0;31m         \u001b[0mresponse\u001b[0m \u001b[0;34m=\u001b[0m \u001b[0mself\u001b[0m\u001b[0;34m.\u001b[0m\u001b[0m_open\u001b[0m\u001b[0;34m(\u001b[0m\u001b[0mreq\u001b[0m\u001b[0;34m,\u001b[0m \u001b[0mdata\u001b[0m\u001b[0;34m)\u001b[0m\u001b[0;34m\u001b[0m\u001b[0;34m\u001b[0m\u001b[0m\n\u001b[0m\u001b[1;32m    526\u001b[0m \u001b[0;34m\u001b[0m\u001b[0m\n\u001b[1;32m    527\u001b[0m         \u001b[0;31m# post-process response\u001b[0m\u001b[0;34m\u001b[0m\u001b[0;34m\u001b[0m\u001b[0;34m\u001b[0m\u001b[0m\n",
      "\u001b[0;32m~/opt/anaconda3/envs/AllenInterface/lib/python3.7/urllib/request.py\u001b[0m in \u001b[0;36m_open\u001b[0;34m(self, req, data)\u001b[0m\n\u001b[1;32m    541\u001b[0m         \u001b[0mprotocol\u001b[0m \u001b[0;34m=\u001b[0m \u001b[0mreq\u001b[0m\u001b[0;34m.\u001b[0m\u001b[0mtype\u001b[0m\u001b[0;34m\u001b[0m\u001b[0;34m\u001b[0m\u001b[0m\n\u001b[1;32m    542\u001b[0m         result = self._call_chain(self.handle_open, protocol, protocol +\n\u001b[0;32m--> 543\u001b[0;31m                                   '_open', req)\n\u001b[0m\u001b[1;32m    544\u001b[0m         \u001b[0;32mif\u001b[0m \u001b[0mresult\u001b[0m\u001b[0;34m:\u001b[0m\u001b[0;34m\u001b[0m\u001b[0;34m\u001b[0m\u001b[0m\n\u001b[1;32m    545\u001b[0m             \u001b[0;32mreturn\u001b[0m \u001b[0mresult\u001b[0m\u001b[0;34m\u001b[0m\u001b[0;34m\u001b[0m\u001b[0m\n",
      "\u001b[0;32m~/opt/anaconda3/envs/AllenInterface/lib/python3.7/urllib/request.py\u001b[0m in \u001b[0;36m_call_chain\u001b[0;34m(self, chain, kind, meth_name, *args)\u001b[0m\n\u001b[1;32m    501\u001b[0m         \u001b[0;32mfor\u001b[0m \u001b[0mhandler\u001b[0m \u001b[0;32min\u001b[0m \u001b[0mhandlers\u001b[0m\u001b[0;34m:\u001b[0m\u001b[0;34m\u001b[0m\u001b[0;34m\u001b[0m\u001b[0m\n\u001b[1;32m    502\u001b[0m             \u001b[0mfunc\u001b[0m \u001b[0;34m=\u001b[0m \u001b[0mgetattr\u001b[0m\u001b[0;34m(\u001b[0m\u001b[0mhandler\u001b[0m\u001b[0;34m,\u001b[0m \u001b[0mmeth_name\u001b[0m\u001b[0;34m)\u001b[0m\u001b[0;34m\u001b[0m\u001b[0;34m\u001b[0m\u001b[0m\n\u001b[0;32m--> 503\u001b[0;31m             \u001b[0mresult\u001b[0m \u001b[0;34m=\u001b[0m \u001b[0mfunc\u001b[0m\u001b[0;34m(\u001b[0m\u001b[0;34m*\u001b[0m\u001b[0margs\u001b[0m\u001b[0;34m)\u001b[0m\u001b[0;34m\u001b[0m\u001b[0;34m\u001b[0m\u001b[0m\n\u001b[0m\u001b[1;32m    504\u001b[0m             \u001b[0;32mif\u001b[0m \u001b[0mresult\u001b[0m \u001b[0;32mis\u001b[0m \u001b[0;32mnot\u001b[0m \u001b[0;32mNone\u001b[0m\u001b[0;34m:\u001b[0m\u001b[0;34m\u001b[0m\u001b[0;34m\u001b[0m\u001b[0m\n\u001b[1;32m    505\u001b[0m                 \u001b[0;32mreturn\u001b[0m \u001b[0mresult\u001b[0m\u001b[0;34m\u001b[0m\u001b[0;34m\u001b[0m\u001b[0m\n",
      "\u001b[0;32m~/opt/anaconda3/envs/AllenInterface/lib/python3.7/urllib/request.py\u001b[0m in \u001b[0;36mhttp_open\u001b[0;34m(self, req)\u001b[0m\n\u001b[1;32m   1376\u001b[0m \u001b[0;34m\u001b[0m\u001b[0m\n\u001b[1;32m   1377\u001b[0m     \u001b[0;32mdef\u001b[0m \u001b[0mhttp_open\u001b[0m\u001b[0;34m(\u001b[0m\u001b[0mself\u001b[0m\u001b[0;34m,\u001b[0m \u001b[0mreq\u001b[0m\u001b[0;34m)\u001b[0m\u001b[0;34m:\u001b[0m\u001b[0;34m\u001b[0m\u001b[0;34m\u001b[0m\u001b[0m\n\u001b[0;32m-> 1378\u001b[0;31m         \u001b[0;32mreturn\u001b[0m \u001b[0mself\u001b[0m\u001b[0;34m.\u001b[0m\u001b[0mdo_open\u001b[0m\u001b[0;34m(\u001b[0m\u001b[0mhttp\u001b[0m\u001b[0;34m.\u001b[0m\u001b[0mclient\u001b[0m\u001b[0;34m.\u001b[0m\u001b[0mHTTPConnection\u001b[0m\u001b[0;34m,\u001b[0m \u001b[0mreq\u001b[0m\u001b[0;34m)\u001b[0m\u001b[0;34m\u001b[0m\u001b[0;34m\u001b[0m\u001b[0m\n\u001b[0m\u001b[1;32m   1379\u001b[0m \u001b[0;34m\u001b[0m\u001b[0m\n\u001b[1;32m   1380\u001b[0m     \u001b[0mhttp_request\u001b[0m \u001b[0;34m=\u001b[0m \u001b[0mAbstractHTTPHandler\u001b[0m\u001b[0;34m.\u001b[0m\u001b[0mdo_request_\u001b[0m\u001b[0;34m\u001b[0m\u001b[0;34m\u001b[0m\u001b[0m\n",
      "\u001b[0;32m~/opt/anaconda3/envs/AllenInterface/lib/python3.7/urllib/request.py\u001b[0m in \u001b[0;36mdo_open\u001b[0;34m(self, http_class, req, **http_conn_args)\u001b[0m\n\u001b[1;32m   1351\u001b[0m             \u001b[0;32mexcept\u001b[0m \u001b[0mOSError\u001b[0m \u001b[0;32mas\u001b[0m \u001b[0merr\u001b[0m\u001b[0;34m:\u001b[0m \u001b[0;31m# timeout error\u001b[0m\u001b[0;34m\u001b[0m\u001b[0;34m\u001b[0m\u001b[0m\n\u001b[1;32m   1352\u001b[0m                 \u001b[0;32mraise\u001b[0m \u001b[0mURLError\u001b[0m\u001b[0;34m(\u001b[0m\u001b[0merr\u001b[0m\u001b[0;34m)\u001b[0m\u001b[0;34m\u001b[0m\u001b[0;34m\u001b[0m\u001b[0m\n\u001b[0;32m-> 1353\u001b[0;31m             \u001b[0mr\u001b[0m \u001b[0;34m=\u001b[0m \u001b[0mh\u001b[0m\u001b[0;34m.\u001b[0m\u001b[0mgetresponse\u001b[0m\u001b[0;34m(\u001b[0m\u001b[0;34m)\u001b[0m\u001b[0;34m\u001b[0m\u001b[0;34m\u001b[0m\u001b[0m\n\u001b[0m\u001b[1;32m   1354\u001b[0m         \u001b[0;32mexcept\u001b[0m\u001b[0;34m:\u001b[0m\u001b[0;34m\u001b[0m\u001b[0;34m\u001b[0m\u001b[0m\n\u001b[1;32m   1355\u001b[0m             \u001b[0mh\u001b[0m\u001b[0;34m.\u001b[0m\u001b[0mclose\u001b[0m\u001b[0;34m(\u001b[0m\u001b[0;34m)\u001b[0m\u001b[0;34m\u001b[0m\u001b[0;34m\u001b[0m\u001b[0m\n",
      "\u001b[0;32m~/opt/anaconda3/envs/AllenInterface/lib/python3.7/http/client.py\u001b[0m in \u001b[0;36mgetresponse\u001b[0;34m(self)\u001b[0m\n\u001b[1;32m   1371\u001b[0m         \u001b[0;32mtry\u001b[0m\u001b[0;34m:\u001b[0m\u001b[0;34m\u001b[0m\u001b[0;34m\u001b[0m\u001b[0m\n\u001b[1;32m   1372\u001b[0m             \u001b[0;32mtry\u001b[0m\u001b[0;34m:\u001b[0m\u001b[0;34m\u001b[0m\u001b[0;34m\u001b[0m\u001b[0m\n\u001b[0;32m-> 1373\u001b[0;31m                 \u001b[0mresponse\u001b[0m\u001b[0;34m.\u001b[0m\u001b[0mbegin\u001b[0m\u001b[0;34m(\u001b[0m\u001b[0;34m)\u001b[0m\u001b[0;34m\u001b[0m\u001b[0;34m\u001b[0m\u001b[0m\n\u001b[0m\u001b[1;32m   1374\u001b[0m             \u001b[0;32mexcept\u001b[0m \u001b[0mConnectionError\u001b[0m\u001b[0;34m:\u001b[0m\u001b[0;34m\u001b[0m\u001b[0;34m\u001b[0m\u001b[0m\n\u001b[1;32m   1375\u001b[0m                 \u001b[0mself\u001b[0m\u001b[0;34m.\u001b[0m\u001b[0mclose\u001b[0m\u001b[0;34m(\u001b[0m\u001b[0;34m)\u001b[0m\u001b[0;34m\u001b[0m\u001b[0;34m\u001b[0m\u001b[0m\n",
      "\u001b[0;32m~/opt/anaconda3/envs/AllenInterface/lib/python3.7/http/client.py\u001b[0m in \u001b[0;36mbegin\u001b[0;34m(self)\u001b[0m\n\u001b[1;32m    317\u001b[0m         \u001b[0;31m# read until we get a non-100 response\u001b[0m\u001b[0;34m\u001b[0m\u001b[0;34m\u001b[0m\u001b[0;34m\u001b[0m\u001b[0m\n\u001b[1;32m    318\u001b[0m         \u001b[0;32mwhile\u001b[0m \u001b[0;32mTrue\u001b[0m\u001b[0;34m:\u001b[0m\u001b[0;34m\u001b[0m\u001b[0;34m\u001b[0m\u001b[0m\n\u001b[0;32m--> 319\u001b[0;31m             \u001b[0mversion\u001b[0m\u001b[0;34m,\u001b[0m \u001b[0mstatus\u001b[0m\u001b[0;34m,\u001b[0m \u001b[0mreason\u001b[0m \u001b[0;34m=\u001b[0m \u001b[0mself\u001b[0m\u001b[0;34m.\u001b[0m\u001b[0m_read_status\u001b[0m\u001b[0;34m(\u001b[0m\u001b[0;34m)\u001b[0m\u001b[0;34m\u001b[0m\u001b[0;34m\u001b[0m\u001b[0m\n\u001b[0m\u001b[1;32m    320\u001b[0m             \u001b[0;32mif\u001b[0m \u001b[0mstatus\u001b[0m \u001b[0;34m!=\u001b[0m \u001b[0mCONTINUE\u001b[0m\u001b[0;34m:\u001b[0m\u001b[0;34m\u001b[0m\u001b[0;34m\u001b[0m\u001b[0m\n\u001b[1;32m    321\u001b[0m                 \u001b[0;32mbreak\u001b[0m\u001b[0;34m\u001b[0m\u001b[0;34m\u001b[0m\u001b[0m\n",
      "\u001b[0;32m~/opt/anaconda3/envs/AllenInterface/lib/python3.7/http/client.py\u001b[0m in \u001b[0;36m_read_status\u001b[0;34m(self)\u001b[0m\n\u001b[1;32m    278\u001b[0m \u001b[0;34m\u001b[0m\u001b[0m\n\u001b[1;32m    279\u001b[0m     \u001b[0;32mdef\u001b[0m \u001b[0m_read_status\u001b[0m\u001b[0;34m(\u001b[0m\u001b[0mself\u001b[0m\u001b[0;34m)\u001b[0m\u001b[0;34m:\u001b[0m\u001b[0;34m\u001b[0m\u001b[0;34m\u001b[0m\u001b[0m\n\u001b[0;32m--> 280\u001b[0;31m         \u001b[0mline\u001b[0m \u001b[0;34m=\u001b[0m \u001b[0mstr\u001b[0m\u001b[0;34m(\u001b[0m\u001b[0mself\u001b[0m\u001b[0;34m.\u001b[0m\u001b[0mfp\u001b[0m\u001b[0;34m.\u001b[0m\u001b[0mreadline\u001b[0m\u001b[0;34m(\u001b[0m\u001b[0m_MAXLINE\u001b[0m \u001b[0;34m+\u001b[0m \u001b[0;36m1\u001b[0m\u001b[0;34m)\u001b[0m\u001b[0;34m,\u001b[0m \u001b[0;34m\"iso-8859-1\"\u001b[0m\u001b[0;34m)\u001b[0m\u001b[0;34m\u001b[0m\u001b[0;34m\u001b[0m\u001b[0m\n\u001b[0m\u001b[1;32m    281\u001b[0m         \u001b[0;32mif\u001b[0m \u001b[0mlen\u001b[0m\u001b[0;34m(\u001b[0m\u001b[0mline\u001b[0m\u001b[0;34m)\u001b[0m \u001b[0;34m>\u001b[0m \u001b[0m_MAXLINE\u001b[0m\u001b[0;34m:\u001b[0m\u001b[0;34m\u001b[0m\u001b[0;34m\u001b[0m\u001b[0m\n\u001b[1;32m    282\u001b[0m             \u001b[0;32mraise\u001b[0m \u001b[0mLineTooLong\u001b[0m\u001b[0;34m(\u001b[0m\u001b[0;34m\"status line\"\u001b[0m\u001b[0;34m)\u001b[0m\u001b[0;34m\u001b[0m\u001b[0;34m\u001b[0m\u001b[0m\n",
      "\u001b[0;32m~/opt/anaconda3/envs/AllenInterface/lib/python3.7/socket.py\u001b[0m in \u001b[0;36mreadinto\u001b[0;34m(self, b)\u001b[0m\n\u001b[1;32m    587\u001b[0m         \u001b[0;32mwhile\u001b[0m \u001b[0;32mTrue\u001b[0m\u001b[0;34m:\u001b[0m\u001b[0;34m\u001b[0m\u001b[0;34m\u001b[0m\u001b[0m\n\u001b[1;32m    588\u001b[0m             \u001b[0;32mtry\u001b[0m\u001b[0;34m:\u001b[0m\u001b[0;34m\u001b[0m\u001b[0;34m\u001b[0m\u001b[0m\n\u001b[0;32m--> 589\u001b[0;31m                 \u001b[0;32mreturn\u001b[0m \u001b[0mself\u001b[0m\u001b[0;34m.\u001b[0m\u001b[0m_sock\u001b[0m\u001b[0;34m.\u001b[0m\u001b[0mrecv_into\u001b[0m\u001b[0;34m(\u001b[0m\u001b[0mb\u001b[0m\u001b[0;34m)\u001b[0m\u001b[0;34m\u001b[0m\u001b[0;34m\u001b[0m\u001b[0m\n\u001b[0m\u001b[1;32m    590\u001b[0m             \u001b[0;32mexcept\u001b[0m \u001b[0mtimeout\u001b[0m\u001b[0;34m:\u001b[0m\u001b[0;34m\u001b[0m\u001b[0;34m\u001b[0m\u001b[0m\n\u001b[1;32m    591\u001b[0m                 \u001b[0mself\u001b[0m\u001b[0;34m.\u001b[0m\u001b[0m_timeout_occurred\u001b[0m \u001b[0;34m=\u001b[0m \u001b[0;32mTrue\u001b[0m\u001b[0;34m\u001b[0m\u001b[0;34m\u001b[0m\u001b[0m\n",
      "\u001b[0;31mKeyboardInterrupt\u001b[0m: "
     ]
    }
   ],
   "source": [
    "create_histogram('VISpm')"
   ]
  },
  {
   "cell_type": "markdown",
   "id": "14cac2bb",
   "metadata": {},
   "source": [
    "Run to see data analysis done by the Allen Institute (peak response, OSI, gOSI, etc.) "
   ]
  },
  {
   "cell_type": "code",
   "execution_count": 17,
   "id": "b1b6b026",
   "metadata": {},
   "outputs": [
    {
     "name": "stdout",
     "output_type": "stream",
     "text": [
      "Peak dff: Allen 1.533 vs. est 1.533\n",
      "Pref dir: Allen 0 vs. est 0\n",
      "Pref tf: Allen 1 vs. est 1\n",
      "OSI: Allen 1.28 vs. est 1.28\n"
     ]
    }
   ],
   "source": [
    "dsi_cell = dsi_cells.iloc[15]\n",
    "print(\"Peak dff: Allen %0.3f\" % dsi_cell.peak_dff_dg, \"vs. est %0.3f\" % (cellInfo[0]*100))\n",
    "print(\"Pref dir: Allen %0.f\" % dsi_cell.pref_dir_dg, \"vs. est %0.f\" % cellInfo[2])\n",
    "print(\"Pref tf: Allen %0.f\" % dsi_cell.pref_tf_dg, \"vs. est %0.f\" % cellInfo[1])\n",
    "print(\"OSI: Allen %.2f\" % dsi_cell.osi_dg, \"vs. est %.2f\" % cellInfo[4])"
   ]
  },
  {
   "cell_type": "code",
   "execution_count": null,
   "id": "51a42e0f",
   "metadata": {},
   "outputs": [],
   "source": []
  }
 ],
 "metadata": {
  "kernelspec": {
   "display_name": "Python 3 (ipykernel)",
   "language": "python",
   "name": "python3"
  },
  "language_info": {
   "codemirror_mode": {
    "name": "ipython",
    "version": 3
   },
   "file_extension": ".py",
   "mimetype": "text/x-python",
   "name": "python",
   "nbconvert_exporter": "python",
   "pygments_lexer": "ipython3",
   "version": "3.7.13"
  }
 },
 "nbformat": 4,
 "nbformat_minor": 5
}
