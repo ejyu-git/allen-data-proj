{
 "cells": [
  {
   "cell_type": "markdown",
   "id": "7f10e6b2",
   "metadata": {},
   "source": [
    "# Drifting Gratings\n",
    "Organizing data by drifting gratings stimulus"
   ]
  },
  {
   "cell_type": "markdown",
   "id": "2cb080b7",
   "metadata": {},
   "source": [
    "Create manifest to keep track of data"
   ]
  },
  {
   "cell_type": "code",
   "execution_count": 1,
   "id": "9ec6dc75",
   "metadata": {},
   "outputs": [],
   "source": [
    "from allensdk.core.brain_observatory_cache import BrainObservatoryCache\n",
    "import pprint\n",
    "\n",
    "# This class uses a 'manifest' to keep track of downloaded data and metadata.  \n",
    "# All downloaded files will be stored relative to the directory holding the manifest\n",
    "# file.  If 'manifest_file' is a relative path (as it is below), it will be \n",
    "# saved relative to your working directory.  It can also be an absolute path.\n",
    "boc = BrainObservatoryCache()"
   ]
  },
  {
   "cell_type": "markdown",
   "id": "b1cff5de",
   "metadata": {},
   "source": [
    "Import stim info data"
   ]
  },
  {
   "cell_type": "code",
   "execution_count": 2,
   "id": "5343404a",
   "metadata": {},
   "outputs": [],
   "source": [
    "import allensdk.brain_observatory.stimulus_info as stim_info\n"
   ]
  },
  {
   "cell_type": "markdown",
   "id": "668fa485",
   "metadata": {},
   "source": [
    "Import required packages for code"
   ]
  },
  {
   "cell_type": "code",
   "execution_count": 3,
   "id": "d778cad0",
   "metadata": {},
   "outputs": [],
   "source": [
    "from matplotlib import pyplot as plt\n",
    "#%matplotlib inline\n",
    "import matplotlib.pyplot as plt\n",
    "import matplotlib.patches as patches\n",
    "\n",
    "import numpy as np\n",
    "import cmath\n",
    "\n",
    "import pandas as pd\n",
    "\n",
    "def plot_stimulus_table(stim_table, title):\n",
    "    fstart = stim_table.start.min()\n",
    "    fend = stim_table.end.max()\n",
    "    \n",
    "    fig = plt.figure(figsize=(15,1))\n",
    "    ax = fig.gca()\n",
    "    for i, trial in stim_table.iterrows():    \n",
    "        x1 = float(trial.start - fstart) / (fend - fstart)\n",
    "        x2 = float(trial.end - fstart) / (fend - fstart)            \n",
    "        ax.add_patch(patches.Rectangle((x1, 0.0), x2 - x1, 1.0, color='r'))\n",
    "    ax.set_xticks((0,1))\n",
    "    ax.set_xticklabels((fstart, fend))\n",
    "    ax.set_yticks(())\n",
    "    ax.set_title(title)\n",
    "    ax.set_xlabel(\"frames\")\n"
   ]
  },
  {
   "cell_type": "code",
   "execution_count": 51,
   "id": "7c3b58c4",
   "metadata": {},
   "outputs": [
    {
     "name": "stdout",
     "output_type": "stream",
     "text": [
      "total cells: 63251\n"
     ]
    }
   ],
   "source": [
    "# Download cells for a set of experiments and convert to DataFrame\n",
    "cells = boc.get_cell_specimens() # this code may be moved outside of the function?\n",
    "cells = pd.DataFrame.from_records(cells)\n",
    "print(\"total cells: %d\" % len(cells))"
   ]
  },
  {
   "cell_type": "markdown",
   "id": "1c3e8bc6",
   "metadata": {},
   "source": [
    " FUNCTIONS"
   ]
  },
  {
   "cell_type": "code",
   "execution_count": 4,
   "id": "5eb6b8e6",
   "metadata": {},
   "outputs": [],
   "source": [
    "# plot_dg(freq, ori, dsi_cell, data_set, print_graphs, plot_stim_instances, plot_avg_graph, plot_trial_on_avg, \n",
    "# freq_ind, ori_ind, axs): calculates average dff for a single type of stim. \n",
    "#\n",
    "#\n",
    "#\n",
    "#\n",
    "# freq: temporal frequency of stimulus\n",
    "# ori: orientation of stimulus\n",
    "# dsi_cell: NWB file for cell\n",
    "# data_set:  ophys experiment data\n",
    "# print_graphs: boolean value, if true, plots all of the 15 trials for each stim\n",
    "# plot_stim_instances: boolean value, if true, shows a plot of the frames each stim is shown\n",
    "# plot_avg_graph: boolean value, if true, shows average plot of each stim\n",
    "# plot_trial_on_avg: boolean value, if true, shows trial plots on same plot as avg\n",
    "# ori_ind: indice of orientation axis for subplots\n",
    "# freq_ind: indice of frequency axis for subplots\n",
    "# axs: subplot object\n",
    "def plot_dg(freq, ori, dsi_cell, data_set, print_graphs, plot_stim_instances, plot_avg_graph, plot_trial_on_avg, \n",
    "            freq_ind, ori_ind, axs):\n",
    "    \n",
    "    # get flourescence traces for target cell\n",
    "    dsi_cell_id = dsi_cell['cell_specimen_id']\n",
    "    time, f_traces = data_set.get_corrected_fluorescence_traces(cell_specimen_ids=[dsi_cell_id])\n",
    "    \n",
    "    # this is a pandas DataFrame. find trials with a given stimulus condition.\n",
    "    # 40 diff total conditions\n",
    "    temporal_frequency = freq\n",
    "    orientation = ori\n",
    "    stim_table = data_set.get_stimulus_table('drifting_gratings')\n",
    "    stim_table = stim_table[(stim_table.temporal_frequency == temporal_frequency) & \n",
    "                            (stim_table.orientation == orientation)]\n",
    "    \n",
    "    # plot of instances of stimulus frames\n",
    "    if (plot_stim_instances) :\n",
    "        plot_stimulus_table(stim_table, \"Instances of Stimuli, TF %d ORI %d\" % (temporal_frequency, orientation))\n",
    "        plt.show()\n",
    "    \n",
    "    # make 2D array of 120 data points of f_traces and dff_traces for each of the 15 trials\n",
    "    all_f_traces = [[0]*120 for i in range(15)] \n",
    "    dff_traces = [[0]*120 for i in range(15)] \n",
    "    x=0\n",
    "    \n",
    "    # plot 15 trial graphs\n",
    "    # initialize trial graph subplots\n",
    "    if (print_graphs):\n",
    "        fig_trial, axs_trial = plt.subplots(3, 5, sharey=True, figsize=(10,10))\n",
    "        fig_trial.suptitle(\"15 Trials for Stimuli, TF %d ORI %d\" % (temporal_frequency, orientation))\n",
    "    x_ind = 0 \n",
    "    y_ind = 0\n",
    "    \n",
    "    for start_ind in stim_table.start:\n",
    "        \n",
    "        all_f_traces[x] = f_traces[0][start_ind-30:start_ind+90] # get f_traces at desired indices\n",
    "        F0 = np.mean(f_traces[0][start_ind-30:start_ind]) # calculate baseline as the preceding second before stim\n",
    "        dff_traces[x] = (all_f_traces[x]-F0)/F0  # calculate dff at desired indices\n",
    "        \n",
    "        if (plot_avg_graph and plot_trial_on_avg) :\n",
    "            axs[freq_ind, ori_ind].plot(time[0:120]-time[0]-1, dff_traces[x], color='tan')\n",
    "        if (print_graphs) :\n",
    "            axs_trial[x_ind, y_ind].plot(time[0:120]-time[0]-1, dff_traces[x], color='tan')\n",
    "            axs_trial[x_ind, y_ind].set_title(\"Frames %d to %d\" % (start_ind-30,start_ind+90),\n",
    "                                              fontdict = {'fontsize': 7})\n",
    "\n",
    "            # Mark the area of the stimulus\n",
    "            axs_trial[x_ind, y_ind].fill_between(time[0:60]-time[0], min(dff_traces[x]), \n",
    "                                                                         min(dff_traces[x])+0.005,\n",
    "                facecolor=\"orange\", # The fill color\n",
    "                color='blue',       # The outline color\n",
    "                alpha=0.4)          # Transparency of the fill\n",
    "            \n",
    "            for ax in axs_trial.flat:\n",
    "                ax.set(xlabel='sec', ylabel='dF/F')\n",
    "            for ax in axs_trial.flat:\n",
    "                ax.label_outer()\n",
    "\n",
    "            y_ind +=1 \n",
    "            if (y_ind > 4) : \n",
    "                y_ind = 0\n",
    "                x_ind +=1\n",
    "        \n",
    "        x+=1\n",
    "    \n",
    "    # calculate and plot the average response of all graphs\n",
    "    mean_dff = np.mean(dff_traces, axis=0)\n",
    "    \n",
    "    if (plot_avg_graph) :\n",
    "        axs[freq_ind,ori_ind].plot(time[0:120]-time[0]-1,mean_dff, color='black')\n",
    "        axs[freq_ind,ori_ind].set_title(\"TF %d ORI %d\" %(temporal_frequency, orientation))\n",
    "        axs[freq_ind,ori_ind].fill_between(time[0:60]-time[0], \n",
    "                min(mean_dff), min(mean_dff)+0.005,\n",
    "                facecolor=\"orange\", # The fill color\n",
    "                color='blue',       # The outline color\n",
    "                alpha=0.4)          # Transparency of the fill\n",
    "    \n",
    "    # calculate single value average dff from average graph\n",
    "    return np.mean(mean_dff[30:90])\n",
    "    \n",
    "    "
   ]
  },
  {
   "cell_type": "code",
   "execution_count": 5,
   "id": "18bfb0a3",
   "metadata": {},
   "outputs": [],
   "source": [
    "# dg_for_cell(index, plot_trial_graphs, plot_stim_instances, plot_avg_graph, plot_trial_on_avg, show_text) : given\n",
    "# a cell index, will calculate and return Rmax, pref TF, pref ORI, Rorth, OSI and gOSI values. Will print \n",
    "# metadata, avg response graphs for each kind of stim, and trial graphs if desired. \n",
    "# \n",
    "#\n",
    "#\n",
    "# boc : manifest that keeps track of downloaded data\n",
    "# dsi_cells: object containing all direction selective cells in given brain region\n",
    "# index: index of cell in vector of filtered direction selective cells. There are 1159 direction selective cells. \n",
    "# Index values can range from 0 to 1158\n",
    "# plot_trial_graphs: boolean value, if true, shows all of the 15 trials for each stim\n",
    "# plot_stim_instances: boolean value, if true, shows a plot of the frames each stim is shown\n",
    "# plot_avg_graph: boolean value, if true, shows average plot of each stim\n",
    "# plot_trial_on_avg: boolean value, if true, shows trial plots on same plot as avg\n",
    "# show_text: boolean value, if true, prints text information such as cell metadata, stimulus matrix,\n",
    "# and outputs of analysis calculations\n",
    "# Warning- calling this function will require downloading the ophys experiment data, which may take some time\n",
    "# This function downloads the NWB files that contain the fluorescence traces for segmented cells in \n",
    "# those experiments that used the dg stim\n",
    "def dg_for_cell(boc, dsi_cells, index, plot_trial_graphs, plot_stim_instances, plot_avg_graph, plot_trial_on_avg, \n",
    "                show_text): \n",
    "    \n",
    "    # pick a direction-selective cell and find its NWB file\n",
    "    dsi_cell = dsi_cells.iloc[index]\n",
    "    \n",
    "    # figure out which ophys experiment has the drifting gratings stimulus for that cell\n",
    "    cell_exp = boc.get_ophys_experiments(cell_specimen_ids=[dsi_cell['cell_specimen_id']],\n",
    "                                         stimuli=[stim_info.DRIFTING_GRATINGS])[0]\n",
    "\n",
    "    data_set = boc.get_ophys_experiment_data(cell_exp['id'])\n",
    "    \n",
    "    if (show_text):\n",
    "        print(\"Metadata from NWB file:\")\n",
    "        pprint.pprint(data_set.get_metadata())\n",
    "    \n",
    "    # initialize stim_matrix\n",
    "    stim_matrix = [[0]*8 for i in range(5)]\n",
    "    \n",
    "    # initialize avg graph subplots\n",
    "    if (plot_avg_graph) :\n",
    "        fig, axs = plt.subplots(5, 8, sharey=True, figsize=(15,15))\n",
    "        fig.suptitle('Average Fluorescence For Each Stim')\n",
    "        for ax in axs.flat:\n",
    "            ax.set(xlabel='sec', ylabel='dF/F')\n",
    "        for ax in axs.flat:\n",
    "            ax.label_outer()\n",
    "    else :\n",
    "        axs = None \n",
    "        \n",
    "    # make avg graph subplots and calculate average dff for each stim\n",
    "    freq_array = [1,2,4,8,15]\n",
    "    ori_array = [0,45,90,135,180,225,270,315]\n",
    "    freq_ind = 0\n",
    "    for freq in freq_array :\n",
    "        ori_ind = 0\n",
    "        for ori in ori_array :\n",
    "            avg_dff = plot_dg(freq, ori, dsi_cell, data_set, plot_trial_graphs, plot_stim_instances, \n",
    "                              plot_avg_graph, plot_trial_on_avg, freq_ind, ori_ind, axs)\n",
    "            stim_matrix[freq_ind][ori_ind] = avg_dff\n",
    "            ori_ind +=1\n",
    "        freq_ind += 1\n",
    "    \n",
    "    # print stim_matrix\n",
    "    row_labels = ['1', '2', '4', '8', '15']\n",
    "    column_labels = ['0','45','90','135','180','225','270','315']\n",
    "    if (show_text):\n",
    "        print(pd.DataFrame(stim_matrix, columns=column_labels, index=row_labels))\n",
    "    \n",
    "    # calc R max val in stim_matrix\n",
    "    Rmax = np.amax(stim_matrix)\n",
    "    if (show_text): print(\"Cell has Rmax of %f\" % Rmax)\n",
    "    result = np.where(stim_matrix == np.amax(stim_matrix))\n",
    "    max_coor = list(zip(result[0], result[1]))\n",
    "    if (show_text): print(\"At temporal frequency of %d and orientation of %d\" % \n",
    "          (freq_array[max_coor[0][0]], ori_array[max_coor[0][1]]))\n",
    "    \n",
    "    # calc R orth\n",
    "    Rorth = (stim_matrix[max_coor[0][0]][max_coor[0][1]-2] + stim_matrix[max_coor[0][0]][(max_coor[0][1]+2)%8])/2\n",
    "    if (show_text): print(\"Rorth: %f\" % Rorth)\n",
    "    \n",
    "    # calc OSI\n",
    "    OSI = (Rmax - Rorth)/(Rmax + Rorth)\n",
    "    if (show_text): print(\"OSI: %f\" % OSI)\n",
    "    \n",
    "    # calc gOSI\n",
    "    Rtheta=0\n",
    "    Rtheta_exp=0\n",
    "    for i in range(0, 8) :\n",
    "        Rtheta += stim_matrix[max_coor[0][0]][i]\n",
    "        Rtheta_exp += (Rtheta * cmath.exp(complex(0,2)*ori_array[i]))\n",
    "    gOSI = abs(Rtheta_exp/Rtheta)\n",
    "    if (show_text): print(\"gOSI: %f\" % gOSI)\n",
    "    \n",
    "    # find cre_line\n",
    "    cre_line = cell_exp['cre_line']\n",
    "    \n",
    "    # return array of Rmax, pref TF, pref ORI, Rorth, OSI, gOSI values, and cre_line\n",
    "    return [Rmax, freq_array[max_coor[0][0]], ori_array[max_coor[0][1]], Rorth, OSI, gOSI, cre_line]\n",
    "    "
   ]
  },
  {
   "cell_type": "code",
   "execution_count": 48,
   "id": "14789c6f",
   "metadata": {},
   "outputs": [],
   "source": [
    "# create_histogram(targeted_struct): creates histogram of OSI of all cells in desired cortical layer\n",
    "# \n",
    "#\n",
    "#\n",
    "#\n",
    "# targeted_struct: string argument identifying desired cortical layer. Options are\n",
    "# 'VISal', 'VISam', 'VISl', 'VISp', 'VISpm', 'VISrl'. Higher order visual cortices (VISam, VISpm, VISrl) show\n",
    "# decreased activity with increased running speed\n",
    "# print_OSIs: when set to true, will print the OSIs for each cell\n",
    "# print_other_vals: when set to true, will print the Rmax, pref TF, pref ORI, Rorth, and gOSI\n",
    "# filter_vals: when set to true, creates the histogram and excludes OSIs below 0 or above 2\n",
    "# cre_lines_list: given one or multiple cre_lines, will filter the cells of the targeted structure to those cells\n",
    "# max_cells: if given a value, will only run a maximum of that amount of cells\n",
    "#\n",
    "# Warning: will require downloading nwb files for many cells. Will take a while \n",
    "def create_histogram(targeted_struct, print_OSIs, print_other_vals, filter_vals, cre_lines_list, max_cells) :\n",
    "    \n",
    "    # Download experiment containers for experiments of target structure\n",
    "    exp_containers = boc.get_experiment_containers(targeted_structures=[targeted_struct])\n",
    "    print(\"all %s experiment containers: %d\" % (targeted_struct, len(exp_containers)))\n",
    "    \n",
    "    # Download cells for a set of experiments and convert to DataFrame\n",
    "    #cells = boc.get_cell_specimens() # this code may be moved outside of the function?\n",
    "    #cells = pd.DataFrame.from_records(cells)\n",
    "    #print(\"total cells: %d\" % len(cells))\n",
    "\n",
    "    # find direction selective cells in target_struct\n",
    "    exp_container_ids = [ ec['id'] for ec in exp_containers ]\n",
    "    structure_cells = cells[cells['experiment_container_id'].isin(exp_container_ids)]\n",
    "    print(\"%s cells: %d\" % (targeted_struct, len(structure_cells)))\n",
    "\n",
    "    # significant response to drifting gratings stimulus\n",
    "    sig_cells = structure_cells[structure_cells['p_dg'] < 0.05]\n",
    "    print(\"cells with sig. response to drifting gratings: %d\" % len(sig_cells))\n",
    "    \n",
    "    dsi_cells = sig_cells\n",
    "\n",
    "    # direction selective cells\n",
    "    #dsi_cells = sig_cells[(sig_cells['g_dsi_dg'] > 0.9)]  #lower threshold or get rid of entirely?\n",
    "    #print(\"direction-selective cells: %d\" % len(dsi_cells))\n",
    "\n",
    "    OSIs = []\n",
    "    OSI_index=0\n",
    "    index = 0\n",
    "    \n",
    "    if (max_cells != 0) : # decide how many times to run cell calculations\n",
    "        max_runs = max_cells\n",
    "    else : \n",
    "        max_runs = len(dsi_cells)\n",
    "    \n",
    "    while index < max_runs :\n",
    "        cell_vals = dg_for_cell(boc, dsi_cells, index, False, False, False, False, False)\n",
    "        OSI = cell_vals[4]\n",
    "        if (cre_lines_list != None) :  # if cre_line arg is set, will also filter by cell type\n",
    "            if (print_OSIs) : print(\"Cell\", index, \"OSI:\", OSI)\n",
    "            old_OSI_index = OSI_index\n",
    "            for cell_type in cre_lines_list: \n",
    "                if (cell_vals[6] == cell_type):\n",
    "                    print(\"Cell\", index, \"is one of the indicated cell types. OSI INCLUDED\")\n",
    "                    OSIs[OSI_index] = OSI\n",
    "                    OSI_index += 1\n",
    "                    if (print_other_vals) : \n",
    "                        print(\"Rmax:\", cell_vals[0])\n",
    "                        print(\"Pref TF:\", cell_vals[1])\n",
    "                        print(\"Pref ORI:\", cell_vals[2])\n",
    "                        print(\"Rorth:\", cell_vals[3])\n",
    "                        print(\"gOSI:\", cell_vals[5])\n",
    "            if (old_OSI_index == OSI_index) : \n",
    "                print(\"Cell\", index, \"is not any of the indicated cell types. OSI Not Included\")      \n",
    "        else: \n",
    "            OSIs[OSI_index] = OSI\n",
    "            if (print_OSIs) : print(index, \"OSI:\", OSI)\n",
    "            if (print_other_vals) : \n",
    "                print(\"Rmax:\", cell_vals[0])\n",
    "                print(\"Pref TF:\", cell_vals[1])\n",
    "                print(\"Pref ORI:\", cell_vals[2])\n",
    "                print(\"Rorth:\", cell_vals[3])\n",
    "                print(\"gOSI:\", cell_vals[5])\n",
    "            OSI_index += 1\n",
    "        index += 1\n",
    "    \n",
    "    if(OSIs == None) : sys.exit(\"0 OSI values collected\")\n",
    "    \n",
    "    if(filter_vals):\n",
    "        filtered_OSIs = filter(lambda tar_OSI: 0 <= tar_OSI <= 2, OSIs)\n",
    "        OSIs_to_plot = filtered_OSIs\n",
    "    else :\n",
    "        OSIs_to_plot = OSIs\n",
    "        \n",
    "    plt.hist(list(OSIs_to_plot), 50, density = 1)\n",
    "    if (filter_vals): plt.title(\"Distribution of OSI values for all cells in %s (after filtering)\" % \n",
    "                                targeted_struct)\n",
    "    else : plt.title(\"Distribution of OSI values for all cells in %s (prior to filtering)\" % targeted_struct)\n",
    "    plt.xlabel('Orientation Selectivity Index for Drifting Gratings')\n",
    "    plt.ylabel('Number of Cells')\n",
    "    "
   ]
  },
  {
   "cell_type": "markdown",
   "id": "fc8da54e",
   "metadata": {},
   "source": [
    "TESTS"
   ]
  },
  {
   "cell_type": "code",
   "execution_count": 41,
   "id": "4d2e5312",
   "metadata": {
    "scrolled": true
   },
   "outputs": [
    {
     "name": "stdout",
     "output_type": "stream",
     "text": [
      "all VISp experiment containers: 216\n",
      "total cells: 63251\n",
      "VISp cells: 22641\n",
      "cells with sig. response to drifting gratings: 13401\n",
      "direction-selective cells: 1159\n",
      "Metadata from NWB file:\n",
      "{'age_days': 112,\n",
      " 'cre_line': 'Cux2-CreERT2/wt',\n",
      " 'device': 'Nikon A1R-MP multiphoton microscope',\n",
      " 'device_name': 'CAM2P.2',\n",
      " 'excitation_lambda': '910 nanometers',\n",
      " 'experiment_container_id': 511507650,\n",
      " 'fov': '400x400 microns (512 x 512 pixels)',\n",
      " 'genotype': 'Cux2-CreERT2/wt;Camk2a-tTA/wt;Ai93(TITL-GCaMP6f)/Ai93(TITL-GCaMP6f)',\n",
      " 'imaging_depth_um': 175,\n",
      " 'indicator': 'GCaMP6f',\n",
      " 'ophys_experiment_id': 502115959,\n",
      " 'pipeline_version': '3.0',\n",
      " 'session_start_time': datetime.datetime(2016, 2, 12, 12, 46, 45),\n",
      " 'session_type': 'three_session_A',\n",
      " 'sex': 'male',\n",
      " 'specimen_name': 'Cux2-CreERT2;Camk2a-tTA;Ai93-222424',\n",
      " 'targeted_structure': 'VISp'}\n",
      "           0        45        90       135       180       225       270  \\\n",
      "1   0.003764  0.104906 -0.004382 -0.012547 -0.026099 -0.000061 -0.001862   \n",
      "2  -0.004342  0.052494  0.003076 -0.010584 -0.008282  0.022766 -0.012969   \n",
      "4  -0.003177  0.024762 -0.015234 -0.020141 -0.001856  0.003780 -0.019415   \n",
      "8  -0.028755 -0.022094 -0.005464 -0.016627 -0.003119 -0.018202 -0.024824   \n",
      "15 -0.015332 -0.009942 -0.020826 -0.020788 -0.015676  0.011161 -0.025820   \n",
      "\n",
      "         315  \n",
      "1  -0.000535  \n",
      "2   0.007118  \n",
      "4  -0.007509  \n",
      "8  -0.015544  \n",
      "15 -0.026790  \n",
      "Cell has Rmax of 0.104906\n",
      "At temporal frequency of 1 and orientation of 45\n",
      "Rorth: -0.006541\n",
      "OSI: 1.132994\n",
      "gOSI: 1.015250\n",
      "Cux2-CreERT2\n"
     ]
    }
   ],
   "source": [
    "# This function downloads the NWB files that contain the fluorescence traces for segmented cells in \n",
    "# those experiments that used the dg stim\n",
    " # Download experiment containers for experiments of target structure\n",
    "targeted_struct = 'VISp'\n",
    "exp_containers = boc.get_experiment_containers(targeted_structures=[targeted_struct])\n",
    "print(\"all %s experiment containers: %d\" % (targeted_struct, len(exp_containers)))\n",
    "\n",
    "# Download cells for a set of experiments and convert to DataFrame\n",
    "cells = boc.get_cell_specimens() # this code may be moved outside of the function?\n",
    "cells = pd.DataFrame.from_records(cells)\n",
    "print(\"total cells: %d\" % len(cells))\n",
    "\n",
    "# find direction selective cells in VISp\n",
    "exp_container_ids = [ ec['id'] for ec in exp_containers ]\n",
    "structure_cells = cells[cells['experiment_container_id'].isin(exp_container_ids)]\n",
    "print(\"%s cells: %d\" % (targeted_struct, len(structure_cells)))\n",
    "\n",
    "# significant response to drifting gratings stimulus\n",
    "sig_cells = structure_cells[structure_cells['p_dg'] < 0.05]\n",
    "print(\"cells with sig. response to drifting gratings: %d\" % len(sig_cells))\n",
    "\n",
    "# direction selective cells\n",
    "dsi_cells = sig_cells[(sig_cells['g_dsi_dg'] > 0.9)]\n",
    "print(\"direction-selective cells: %d\" % len(dsi_cells))\n",
    "\n",
    "cellInfo = dg_for_cell(boc, dsi_cells, 30, False, False, False, True, True)\n",
    "print(cellInfo[6])"
   ]
  },
  {
   "cell_type": "code",
   "execution_count": 33,
   "id": "a104142c",
   "metadata": {},
   "outputs": [
    {
     "name": "stdout",
     "output_type": "stream",
     "text": [
      "all cre lines:\n",
      "\n",
      "['Cux2-CreERT2',\n",
      " 'Emx1-IRES-Cre',\n",
      " 'Fezf2-CreER',\n",
      " 'Nr5a1-Cre',\n",
      " 'Ntsr1-Cre_GN220',\n",
      " 'Pvalb-IRES-Cre',\n",
      " 'Rbp4-Cre_KL100',\n",
      " 'Rorb-IRES2-Cre',\n",
      " 'Scnn1a-Tg3-Cre',\n",
      " 'Slc17a7-IRES2-Cre',\n",
      " 'Sst-IRES-Cre',\n",
      " 'Tlx3-Cre_PL56',\n",
      " 'Vip-IRES-Cre']\n"
     ]
    }
   ],
   "source": [
    "# see all options for cre_lines\n",
    "cre_lines = boc.get_all_cre_lines()\n",
    "print(\"all cre lines:\\n\")\n",
    "pprint.pprint(cre_lines)"
   ]
  },
  {
   "cell_type": "code",
   "execution_count": 52,
   "id": "1cd6088e",
   "metadata": {
    "scrolled": false
   },
   "outputs": [
    {
     "name": "stdout",
     "output_type": "stream",
     "text": [
      "all VISam experiment containers: 38\n",
      "total cells: 63251\n",
      "VISam cells: 3569\n",
      "cells with sig. response to drifting gratings: 1241\n"
     ]
    },
    {
     "name": "stderr",
     "output_type": "stream",
     "text": [
      "2022-08-03 09:57:39,924 allensdk.api.api.retrieve_file_over_http INFO     Downloading URL: http://api.brain-map.org/api/v2/well_known_file_download/552400586\n"
     ]
    },
    {
     "name": "stdout",
     "output_type": "stream",
     "text": [
      "Cell 0 OSI: 0.801923926952681\n",
      "Cell 0 is not any of the indicated cell types. OSI Not Included\n",
      "Cell 1 OSI: 0.934374788782466\n",
      "Cell 1 is not any of the indicated cell types. OSI Not Included\n",
      "Cell 2 OSI: 1.2135764600192267\n",
      "Cell 2 is not any of the indicated cell types. OSI Not Included\n",
      "Cell 3 OSI: 0.9605584855710803\n",
      "Cell 3 is not any of the indicated cell types. OSI Not Included\n",
      "Cell 4 OSI: 0.7118150305086361\n",
      "Cell 4 is not any of the indicated cell types. OSI Not Included\n",
      "Cell 5 OSI: 3.289646808084733\n",
      "Cell 5 is not any of the indicated cell types. OSI Not Included\n",
      "Cell 6 OSI: 1.3460845609024674\n",
      "Cell 6 is not any of the indicated cell types. OSI Not Included\n",
      "Cell 7 OSI: 1.1616629575659867\n",
      "Cell 7 is not any of the indicated cell types. OSI Not Included\n",
      "Cell 8 OSI: 0.3171464252160624\n",
      "Cell 8 is not any of the indicated cell types. OSI Not Included\n",
      "Cell 9 OSI: 0.8612020350597104\n",
      "Cell 9 is not any of the indicated cell types. OSI Not Included\n",
      "Cell 10 OSI: 1.3214488703196605\n",
      "Cell 10 is not any of the indicated cell types. OSI Not Included\n",
      "Cell 11 OSI: 2.154677309001596\n",
      "Cell 11 is not any of the indicated cell types. OSI Not Included\n",
      "Cell 12 OSI: 1.0413524541707573\n",
      "Cell 12 is not any of the indicated cell types. OSI Not Included\n",
      "Cell 13 OSI: 0.7302874485620281\n",
      "Cell 13 is not any of the indicated cell types. OSI Not Included\n",
      "Cell 14 OSI: 0.9540273486025728\n",
      "Cell 14 is not any of the indicated cell types. OSI Not Included\n",
      "Cell 15 OSI: 0.38277928748415946\n",
      "Cell 15 is not any of the indicated cell types. OSI Not Included\n",
      "Cell 16 OSI: 0.8130251787846527\n",
      "Cell 16 is not any of the indicated cell types. OSI Not Included\n",
      "Cell 17 OSI: 1.0074912396826383\n",
      "Cell 17 is not any of the indicated cell types. OSI Not Included\n",
      "Cell 18 OSI: 0.9916136622616196\n",
      "Cell 18 is not any of the indicated cell types. OSI Not Included\n",
      "Cell 19 OSI: 1.028121393732132\n",
      "Cell 19 is not any of the indicated cell types. OSI Not Included\n",
      "Cell 20 OSI: 1.0337528338879223\n",
      "Cell 20 is not any of the indicated cell types. OSI Not Included\n",
      "Cell 21 OSI: 1.0182463304089806\n",
      "Cell 21 is not any of the indicated cell types. OSI Not Included\n",
      "Cell 22 OSI: 0.8766664540825382\n",
      "Cell 22 is not any of the indicated cell types. OSI Not Included\n",
      "Cell 23 OSI: 0.9322720741708052\n",
      "Cell 23 is not any of the indicated cell types. OSI Not Included\n",
      "Cell 24 OSI: 0.3410223417084457\n",
      "Cell 24 is not any of the indicated cell types. OSI Not Included\n",
      "Cell 25 OSI: 1.0051226243439746\n",
      "Cell 25 is not any of the indicated cell types. OSI Not Included\n",
      "Cell 26 OSI: 1.1412597756275566\n",
      "Cell 26 is not any of the indicated cell types. OSI Not Included\n",
      "Cell 27 OSI: 0.9445595026559586\n",
      "Cell 27 is not any of the indicated cell types. OSI Not Included\n"
     ]
    },
    {
     "name": "stderr",
     "output_type": "stream",
     "text": [
      "2022-08-03 10:02:39,754 allensdk.api.api.retrieve_file_over_http INFO     Downloading URL: http://api.brain-map.org/api/v2/well_known_file_download/556506073\n"
     ]
    },
    {
     "name": "stdout",
     "output_type": "stream",
     "text": [
      "Cell 28 OSI: 0.7662123986506267\n",
      "Cell 28 is not any of the indicated cell types. OSI Not Included\n",
      "Cell 29 OSI: 2.6747282330392546\n",
      "Cell 29 is not any of the indicated cell types. OSI Not Included\n",
      "Cell 30 OSI: 0.49616810189414773\n",
      "Cell 30 is not any of the indicated cell types. OSI Not Included\n",
      "Cell 31 OSI: 1.1117881116689092\n",
      "Cell 31 is not any of the indicated cell types. OSI Not Included\n",
      "Cell 32 OSI: 1.0162593923384606\n",
      "Cell 32 is not any of the indicated cell types. OSI Not Included\n"
     ]
    },
    {
     "name": "stderr",
     "output_type": "stream",
     "text": [
      "2022-08-03 10:04:52,533 allensdk.api.api.retrieve_file_over_http INFO     Downloading URL: http://api.brain-map.org/api/v2/well_known_file_download/560413512\n"
     ]
    },
    {
     "name": "stdout",
     "output_type": "stream",
     "text": [
      "Cell 33 OSI: 1.1096204689123932\n",
      "Cell 33 is not any of the indicated cell types. OSI Not Included\n",
      "Cell 34 OSI: 1.4259355121786796\n",
      "Cell 34 is not any of the indicated cell types. OSI Not Included\n"
     ]
    },
    {
     "name": "stderr",
     "output_type": "stream",
     "text": [
      "2022-08-03 10:06:37,624 allensdk.api.api.retrieve_file_over_http INFO     Downloading URL: http://api.brain-map.org/api/v2/well_known_file_download/557798231\n"
     ]
    },
    {
     "name": "stdout",
     "output_type": "stream",
     "text": [
      "Cell 35 OSI: 1.1001678538587885\n",
      "Cell 35 is not any of the indicated cell types. OSI Not Included\n",
      "Cell 36 OSI: -0.33937617006312526\n",
      "Cell 36 is not any of the indicated cell types. OSI Not Included\n",
      "Cell 37 OSI: 0.37484438358776306\n",
      "Cell 37 is not any of the indicated cell types. OSI Not Included\n",
      "Cell 38 OSI: 1.0098177919774451\n",
      "Cell 38 is not any of the indicated cell types. OSI Not Included\n",
      "Cell 39 OSI: 1.1297959768584336\n",
      "Cell 39 is not any of the indicated cell types. OSI Not Included\n",
      "Cell 40 OSI: 1.4483831575616009\n",
      "Cell 40 is not any of the indicated cell types. OSI Not Included\n",
      "Cell 41 OSI: 0.3677696112872727\n",
      "Cell 41 is not any of the indicated cell types. OSI Not Included\n",
      "Cell 42 OSI: 1.039904605309556\n",
      "Cell 42 is not any of the indicated cell types. OSI Not Included\n",
      "Cell 43 OSI: -1.9606243576501983\n",
      "Cell 43 is not any of the indicated cell types. OSI Not Included\n",
      "Cell 44 OSI: 0.560881834171872\n",
      "Cell 44 is not any of the indicated cell types. OSI Not Included\n",
      "Cell 45 OSI: 3.2563306254032636\n",
      "Cell 45 is not any of the indicated cell types. OSI Not Included\n",
      "Cell 46 OSI: 1.749760702043055\n",
      "Cell 46 is not any of the indicated cell types. OSI Not Included\n",
      "Cell 47 OSI: 7.936599118508852\n",
      "Cell 47 is not any of the indicated cell types. OSI Not Included\n",
      "Cell 48 OSI: 0.8963535090844416\n",
      "Cell 48 is not any of the indicated cell types. OSI Not Included\n",
      "Cell 49 OSI: 0.9908226537126397\n",
      "Cell 49 is not any of the indicated cell types. OSI Not Included\n"
     ]
    },
    {
     "name": "stderr",
     "output_type": "stream",
     "text": [
      "/Users/ethanyu/opt/anaconda3/envs/AllenInterface/lib/python3.7/site-packages/numpy/lib/histograms.py:906: RuntimeWarning: invalid value encountered in true_divide\n",
      "  return n/db/n.sum(), bin_edges\n"
     ]
    },
    {
     "data": {
      "image/png": "[encoded data removed]",
      "text/plain": [
       "<Figure size 432x288 with 1 Axes>"
      ]
     },
     "metadata": {
      "needs_background": "light"
     },
     "output_type": "display_data"
    }
   ],
   "source": [
    "create_histogram('VISam', True, False, True, ['Sst-IRES-Cre', 'Vip-IRES-Cre'], 50)\n",
    "\n",
    "\n"
   ]
  },
  {
   "cell_type": "code",
   "execution_count": null,
   "id": "54b8305b",
   "metadata": {},
   "outputs": [],
   "source": [
    "create_histogram('VISpm', True, False, True, ['Sst-IRES-Cre', 'Vip-IRES-Cre'])\n",
    "\n"
   ]
  },
  {
   "cell_type": "markdown",
   "id": "14cac2bb",
   "metadata": {},
   "source": [
    "Run to see data analysis done by the Allen Institute (peak response, OSI, gOSI, etc.) "
   ]
  },
  {
   "cell_type": "code",
   "execution_count": 17,
   "id": "b1b6b026",
   "metadata": {},
   "outputs": [
    {
     "name": "stdout",
     "output_type": "stream",
     "text": [
      "Peak dff: Allen 1.533 vs. est 1.533\n",
      "Pref dir: Allen 0 vs. est 0\n",
      "Pref tf: Allen 1 vs. est 1\n",
      "OSI: Allen 1.28 vs. est 1.28\n"
     ]
    }
   ],
   "source": [
    "dsi_cell = dsi_cells.iloc[15]\n",
    "print(\"Peak dff: Allen %0.3f\" % dsi_cell.peak_dff_dg, \"vs. est %0.3f\" % (cellInfo[0]*100))\n",
    "print(\"Pref dir: Allen %0.f\" % dsi_cell.pref_dir_dg, \"vs. est %0.f\" % cellInfo[2])\n",
    "print(\"Pref tf: Allen %0.f\" % dsi_cell.pref_tf_dg, \"vs. est %0.f\" % cellInfo[1])\n",
    "print(\"OSI: Allen %.2f\" % dsi_cell.osi_dg, \"vs. est %.2f\" % cellInfo[4])"
   ]
  },
  {
   "cell_type": "code",
   "execution_count": null,
   "id": "51a42e0f",
   "metadata": {},
   "outputs": [],
   "source": []
  }
 ],
 "metadata": {
  "kernelspec": {
   "display_name": "Python 3 (ipykernel)",
   "language": "python",
   "name": "python3"
  },
  "language_info": {
   "codemirror_mode": {
    "name": "ipython",
    "version": 3
   },
   "file_extension": ".py",
   "mimetype": "text/x-python",
   "name": "python",
   "nbconvert_exporter": "python",
   "pygments_lexer": "ipython3",
   "version": "3.7.13"
  }
 },
 "nbformat": 4,
 "nbformat_minor": 5
}
