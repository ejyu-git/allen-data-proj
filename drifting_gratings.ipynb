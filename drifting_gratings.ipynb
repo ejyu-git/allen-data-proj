{
 "cells": [
  {
   "cell_type": "markdown",
   "id": "7f10e6b2",
   "metadata": {},
   "source": [
    "# Drifting Gratings\n",
    "Organizing data by drifting gratings stimulus"
   ]
  },
  {
   "cell_type": "markdown",
   "id": "2cb080b7",
   "metadata": {},
   "source": [
    "Create manifest to keep track of data"
   ]
  },
  {
   "cell_type": "code",
   "execution_count": 14,
   "id": "9ec6dc75",
   "metadata": {},
   "outputs": [],
   "source": [
    "from allensdk.core.brain_observatory_cache import BrainObservatoryCache\n",
    "import pprint\n",
    "\n",
    "# This class uses a 'manifest' to keep track of downloaded data and metadata.  \n",
    "# All downloaded files will be stored relative to the directory holding the manifest\n",
    "# file.  If 'manifest_file' is a relative path (as it is below), it will be \n",
    "# saved relative to your working directory.  It can also be an absolute path.\n",
    "boc = BrainObservatoryCache()"
   ]
  },
  {
   "cell_type": "markdown",
   "id": "b1cff5de",
   "metadata": {},
   "source": [
    "Import stim info data"
   ]
  },
  {
   "cell_type": "code",
   "execution_count": 15,
   "id": "5343404a",
   "metadata": {},
   "outputs": [],
   "source": [
    "import allensdk.brain_observatory.stimulus_info as stim_info\n"
   ]
  },
  {
   "cell_type": "markdown",
   "id": "668fa485",
   "metadata": {},
   "source": [
    "Import required packages for code"
   ]
  },
  {
   "cell_type": "code",
   "execution_count": 16,
   "id": "d778cad0",
   "metadata": {},
   "outputs": [],
   "source": [
    "from matplotlib import pyplot as plt\n",
    "#%matplotlib inline\n",
    "import matplotlib.pyplot as plt\n",
    "import matplotlib.patches as patches\n",
    "\n",
    "import numpy as np\n",
    "import cmath\n",
    "\n",
    "import pandas as pd\n",
    "\n",
    "def plot_stimulus_table(stim_table, title):\n",
    "    fstart = stim_table.start.min()\n",
    "    fend = stim_table.end.max()\n",
    "    \n",
    "    fig = plt.figure(figsize=(15,1))\n",
    "    ax = fig.gca()\n",
    "    for i, trial in stim_table.iterrows():    \n",
    "        x1 = float(trial.start - fstart) / (fend - fstart)\n",
    "        x2 = float(trial.end - fstart) / (fend - fstart)            \n",
    "        ax.add_patch(patches.Rectangle((x1, 0.0), x2 - x1, 1.0, color='r'))\n",
    "    ax.set_xticks((0,1))\n",
    "    ax.set_xticklabels((fstart, fend))\n",
    "    ax.set_yticks(())\n",
    "    ax.set_title(title)\n",
    "    ax.set_xlabel(\"frames\")\n"
   ]
  },
  {
   "cell_type": "code",
   "execution_count": 17,
   "id": "c974c617",
   "metadata": {},
   "outputs": [
    {
     "name": "stdout",
     "output_type": "stream",
     "text": [
      "total cells: 63251\n"
     ]
    }
   ],
   "source": [
    "# Download cells for a set of experiments and convert to DataFrame\n",
    "cells = boc.get_cell_specimens() # this code may be moved outside of the function?\n",
    "cells = pd.DataFrame.from_records(cells)\n",
    "print(\"total cells: %d\" % len(cells))"
   ]
  },
  {
   "cell_type": "markdown",
   "id": "1c3e8bc6",
   "metadata": {},
   "source": [
    " FUNCTIONS"
   ]
  },
  {
   "cell_type": "code",
   "execution_count": 18,
   "id": "5eb6b8e6",
   "metadata": {},
   "outputs": [],
   "source": [
    "# plot_dg(freq, ori, dsi_cell, data_set, print_graphs, plot_stim_instances, plot_avg_graph, plot_trial_on_avg, \n",
    "# freq_ind, ori_ind, axs): calculates average dff for a single type of stim. \n",
    "#\n",
    "#\n",
    "#\n",
    "#\n",
    "# freq: temporal frequency of stimulus\n",
    "# ori: orientation of stimulus\n",
    "# dsi_cell: NWB file for cell\n",
    "# data_set:  ophys experiment data\n",
    "# print_graphs: boolean value, if true, plots all of the 15 trials for each stim\n",
    "# plot_stim_instances: boolean value, if true, shows a plot of the frames each stim is shown\n",
    "# plot_avg_graph: boolean value, if true, shows average plot of each stim\n",
    "# plot_trial_on_avg: boolean value, if true, shows trial plots on same plot as avg\n",
    "# ori_ind: indice of orientation axis for subplots\n",
    "# freq_ind: indice of frequency axis for subplots\n",
    "# axs: subplot object\n",
    "def plot_dg(freq, ori, dsi_cell, data_set, print_graphs, plot_stim_instances, plot_avg_graph, plot_trial_on_avg, \n",
    "            freq_ind, ori_ind, axs):\n",
    "    \n",
    "    # get flourescence traces for target cell\n",
    "    dsi_cell_id = dsi_cell['cell_specimen_id']\n",
    "    time, f_traces = data_set.get_corrected_fluorescence_traces(cell_specimen_ids=[dsi_cell_id])\n",
    "    \n",
    "    # this is a pandas DataFrame. find trials with a given stimulus condition.\n",
    "    # 40 diff total conditions\n",
    "    temporal_frequency = freq\n",
    "    orientation = ori\n",
    "    stim_table = data_set.get_stimulus_table('drifting_gratings')\n",
    "    stim_table = stim_table[(stim_table.temporal_frequency == temporal_frequency) & \n",
    "                            (stim_table.orientation == orientation)]\n",
    "    \n",
    "    # plot of instances of stimulus frames\n",
    "    if (plot_stim_instances) :\n",
    "        plot_stimulus_table(stim_table, \"Instances of Stimuli, TF %d ORI %d\" % (temporal_frequency, orientation))\n",
    "        plt.show()\n",
    "    \n",
    "    # make 2D array of 120 data points of f_traces and dff_traces for each of the 15 trials\n",
    "    all_f_traces = [[0]*120 for i in range(15)] \n",
    "    dff_traces = [[0]*120 for i in range(15)] \n",
    "    x=0\n",
    "    \n",
    "    # plot 15 trial graphs\n",
    "    # initialize trial graph subplots\n",
    "    if (print_graphs):\n",
    "        fig_trial, axs_trial = plt.subplots(3, 5, sharey=True, figsize=(10,10))\n",
    "        fig_trial.suptitle(\"15 Trials for Stimuli, TF %d ORI %d\" % (temporal_frequency, orientation))\n",
    "    x_ind = 0 \n",
    "    y_ind = 0\n",
    "    \n",
    "    for start_ind in stim_table.start:\n",
    "        \n",
    "        all_f_traces[x] = f_traces[0][start_ind-30:start_ind+90] # get f_traces at desired indices\n",
    "        F0 = np.mean(f_traces[0][start_ind-30:start_ind]) # calculate baseline as the preceding second before stim\n",
    "        dff_traces[x] = (all_f_traces[x]-F0)/F0  # calculate dff at desired indices\n",
    "        \n",
    "        if (plot_avg_graph and plot_trial_on_avg) :\n",
    "            axs[freq_ind, ori_ind].plot(time[0:120]-time[0]-1, dff_traces[x], color='tan')\n",
    "        if (print_graphs) :\n",
    "            axs_trial[x_ind, y_ind].plot(time[0:120]-time[0]-1, dff_traces[x], color='tan')\n",
    "            axs_trial[x_ind, y_ind].set_title(\"Frames %d to %d\" % (start_ind-30,start_ind+90),\n",
    "                                              fontdict = {'fontsize': 7})\n",
    "\n",
    "            # Mark the area of the stimulus\n",
    "            axs_trial[x_ind, y_ind].fill_between(time[0:60]-time[0], min(dff_traces[x]), \n",
    "                                                                         min(dff_traces[x])+0.005,\n",
    "                facecolor=\"orange\", # The fill color\n",
    "                color='blue',       # The outline color\n",
    "                alpha=0.4)          # Transparency of the fill\n",
    "            \n",
    "            for ax in axs_trial.flat:\n",
    "                ax.set(xlabel='sec', ylabel='dF/F')\n",
    "            for ax in axs_trial.flat:\n",
    "                ax.label_outer()\n",
    "\n",
    "            y_ind +=1 \n",
    "            if (y_ind > 4) : \n",
    "                y_ind = 0\n",
    "                x_ind +=1\n",
    "        \n",
    "        x+=1\n",
    "    \n",
    "    # calculate and plot the average response of all graphs\n",
    "    mean_dff = np.mean(dff_traces, axis=0)\n",
    "    \n",
    "    if (plot_avg_graph) :\n",
    "        axs[freq_ind,ori_ind].plot(time[0:120]-time[0]-1,mean_dff, color='black')\n",
    "        axs[freq_ind,ori_ind].set_title(\"TF %d ORI %d\" %(temporal_frequency, orientation))\n",
    "        axs[freq_ind,ori_ind].fill_between(time[0:60]-time[0], \n",
    "                min(mean_dff), min(mean_dff)+0.005,\n",
    "                facecolor=\"orange\", # The fill color\n",
    "                color='blue',       # The outline color\n",
    "                alpha=0.4)          # Transparency of the fill\n",
    "    \n",
    "    # calculate single value average dff from average graph\n",
    "    return np.mean(mean_dff[30:90])\n",
    "    \n",
    "    "
   ]
  },
  {
   "cell_type": "code",
   "execution_count": 19,
   "id": "18bfb0a3",
   "metadata": {},
   "outputs": [],
   "source": [
    "# dg_for_cell(index, plot_trial_graphs, plot_stim_instances, plot_avg_graph, plot_trial_on_avg, show_text) : given\n",
    "# a cell index, will calculate and return Rmax, pref TF, pref ORI, Rorth, OSI and gOSI values. Will print \n",
    "# metadata, avg response graphs for each kind of stim, and trial graphs if desired. \n",
    "# \n",
    "#\n",
    "#\n",
    "# boc : manifest that keeps track of downloaded data\n",
    "# dsi_cells: object containing all direction selective cells in given brain region\n",
    "# index: index of cell in vector of filtered direction selective cells. There are 1159 direction selective cells. \n",
    "# Index values can range from 0 to 1158\n",
    "# plot_trial_graphs: boolean value, if true, shows all of the 15 trials for each stim\n",
    "# plot_stim_instances: boolean value, if true, shows a plot of the frames each stim is shown\n",
    "# plot_avg_graph: boolean value, if true, shows average plot of each stim\n",
    "# plot_trial_on_avg: boolean value, if true, shows trial plots on same plot as avg\n",
    "# show_text: boolean value, if true, prints text information such as cell metadata, stimulus matrix,\n",
    "# and outputs of analysis calculations\n",
    "# cre_lines_list: if not empty, will filter cells by the given cell types \n",
    "#\n",
    "# Warning- calling this function will require downloading the ophys experiment data, which may take some time\n",
    "# This function downloads the NWB files that contain the fluorescence traces for segmented cells in \n",
    "# those experiments that used the dg stim\n",
    "def dg_for_cell(boc, dsi_cells, index, plot_trial_graphs, plot_stim_instances, plot_avg_graph, plot_trial_on_avg, \n",
    "                show_text, cre_lines_list): \n",
    "    \n",
    "    # pick a direction-selective cell and find its NWB file\n",
    "    dsi_cell = dsi_cells.iloc[index]\n",
    "    \n",
    "    # determine and filter by cell type\n",
    "    cell_type = dsi_cell.tld1_name\n",
    "    for cre_line in cre_lines_list:\n",
    "        if (cell_type == cre_line):\n",
    "            continue\n",
    "        if (cre_line == cre_lines_list[-1]) : \n",
    "            return None\n",
    "    \n",
    "    # figure out which ophys experiment has the drifting gratings stimulus for that cell\n",
    "    cell_exp = boc.get_ophys_experiments(cell_specimen_ids=[dsi_cell['cell_specimen_id']],\n",
    "                                         stimuli=[stim_info.DRIFTING_GRATINGS])[0]\n",
    "\n",
    "    data_set = boc.get_ophys_experiment_data(cell_exp['id'])\n",
    "    \n",
    "    if (show_text):\n",
    "        print(\"Metadata from NWB file:\")\n",
    "        pprint.pprint(data_set.get_metadata())\n",
    "    \n",
    "    # initialize stim_matrix\n",
    "    stim_matrix = [[0]*8 for i in range(5)]\n",
    "    \n",
    "    # initialize avg graph subplots\n",
    "    if (plot_avg_graph) :\n",
    "        fig, axs = plt.subplots(5, 8, sharey=True, figsize=(15,15))\n",
    "        fig.suptitle('Average Fluorescence For Each Stim')\n",
    "        for ax in axs.flat:\n",
    "            ax.set(xlabel='sec', ylabel='dF/F')\n",
    "        for ax in axs.flat:\n",
    "            ax.label_outer()\n",
    "    else :\n",
    "        axs = None \n",
    "        \n",
    "    # make avg graph subplots and calculate average dff for each stim\n",
    "    freq_array = [1,2,4,8,15]\n",
    "    ori_array = [0,45,90,135,180,225,270,315]\n",
    "    freq_ind = 0\n",
    "    for freq in freq_array :\n",
    "        ori_ind = 0\n",
    "        for ori in ori_array :\n",
    "            avg_dff = plot_dg(freq, ori, dsi_cell, data_set, plot_trial_graphs, plot_stim_instances, \n",
    "                              plot_avg_graph, plot_trial_on_avg, freq_ind, ori_ind, axs)\n",
    "            stim_matrix[freq_ind][ori_ind] = avg_dff\n",
    "            ori_ind +=1\n",
    "        freq_ind += 1\n",
    "    \n",
    "    # print stim_matrix\n",
    "    row_labels = ['1', '2', '4', '8', '15']\n",
    "    column_labels = ['0','45','90','135','180','225','270','315']\n",
    "    if (show_text):\n",
    "        print(pd.DataFrame(stim_matrix, columns=column_labels, index=row_labels))\n",
    "    \n",
    "    # calc R max val in stim_matrix\n",
    "    Rmax = np.amax(stim_matrix)\n",
    "    if (show_text): print(\"Cell has Rmax of %f\" % Rmax)\n",
    "    result = np.where(stim_matrix == np.amax(stim_matrix))\n",
    "    max_coor = list(zip(result[0], result[1]))\n",
    "    if (show_text): print(\"At temporal frequency of %d and orientation of %d\" % \n",
    "          (freq_array[max_coor[0][0]], ori_array[max_coor[0][1]]))\n",
    "    \n",
    "    # calc R orth\n",
    "    Rorth = (stim_matrix[max_coor[0][0]][max_coor[0][1]-2] + stim_matrix[max_coor[0][0]][(max_coor[0][1]+2)%8])/2\n",
    "    if (show_text): print(\"Rorth: %f\" % Rorth)\n",
    "    \n",
    "    # calc OSI\n",
    "    OSI = (Rmax - Rorth)/(Rmax + Rorth)\n",
    "    if (show_text): print(\"OSI: %f\" % OSI)\n",
    "    \n",
    "    # calc gOSI\n",
    "    Rtheta=0\n",
    "    Rtheta_exp=0\n",
    "    for i in range(0, 8) :\n",
    "        Rtheta += stim_matrix[max_coor[0][0]][i]\n",
    "        Rtheta_exp += (Rtheta * cmath.exp(complex(0,2)*ori_array[i]))\n",
    "    gOSI = abs(Rtheta_exp/Rtheta)\n",
    "    if (show_text): print(\"gOSI: %f\" % gOSI)\n",
    "    \n",
    "    # find cre_line\n",
    "    cre_line = cell_exp['cre_line']\n",
    "    \n",
    "    # return array of Rmax, pref TF, pref ORI, Rorth, OSI, gOSI values, and cre_line\n",
    "    return [Rmax, freq_array[max_coor[0][0]], ori_array[max_coor[0][1]], Rorth, OSI, gOSI, cre_line]\n",
    "    "
   ]
  },
  {
   "cell_type": "code",
   "execution_count": 67,
   "id": "14789c6f",
   "metadata": {},
   "outputs": [],
   "source": [
    "# create_histogram(): creates histogram of OSI of all cells in desired cortical layer. returns array of OSI values\n",
    "# \n",
    "#\n",
    "#\n",
    "#\n",
    "# targeted_struct: string argument identifying desired cortical layer. Options are\n",
    "# 'VISal', 'VISam', 'VISl', 'VISp', 'VISpm', 'VISrl'. Higher order visual cortices (VISam, VISpm, VISrl) show\n",
    "# decreased activity with increased running speed\n",
    "# print_OSIs: when set to true, will print the OSIs for each cell\n",
    "# print_other_vals: when set to true, will print the Rmax, pref TF, pref ORI, Rorth, and gOSI\n",
    "# filter_vals: when set to true, creates the histogram and excludes OSIs below 0 or above 2\n",
    "# cre_lines_list: given one or multiple cre_lines, will filter the cells of the targeted structure to those cells\n",
    "# max_cells: if given a value, will only run a maximum of that amount of cells\n",
    "# print_histogram: if true will output the histogram plots\n",
    "#\n",
    "# Warning: will require downloading nwb files for many cells. Will take a while \n",
    "def create_histogram(targeted_struct, print_OSIs, print_other_vals, filter_vals, cre_lines_list, max_cells, \n",
    "                    print_histogram):\n",
    "    \n",
    "    # Download experiment containers for experiments of target structure\n",
    "    exp_containers = boc.get_experiment_containers(targeted_structures=[targeted_struct])\n",
    "    print(\"all %s experiment containers: %d\" % (targeted_struct, len(exp_containers)))\n",
    "    \n",
    "    # Download cells for a set of experiments and convert to DataFrame\n",
    "    #cells = boc.get_cell_specimens() # this code may be moved outside of the function?\n",
    "    #cells = pd.DataFrame.from_records(cells)\n",
    "    #print(\"total cells: %d\" % len(cells))\n",
    "\n",
    "    # find direction selective cells in target_struct\n",
    "    exp_container_ids = [ ec['id'] for ec in exp_containers ]\n",
    "    structure_cells = cells[cells['experiment_container_id'].isin(exp_container_ids)]\n",
    "    print(\"%s cells: %d\" % (targeted_struct, len(structure_cells)))\n",
    "\n",
    "    # significant response to drifting gratings stimulus\n",
    "    sig_cells = structure_cells[structure_cells['p_dg'] < 0.05]\n",
    "    print(\"cells with sig. response to drifting gratings: %d\" % len(sig_cells))\n",
    "    \n",
    "    dsi_cells = sig_cells\n",
    "\n",
    "    # direction selective cells\n",
    "    #dsi_cells = sig_cells[(sig_cells['g_dsi_dg'] > 0.75)]  #lower threshold or get rid of entirely?\n",
    "    #print(\"direction-selective cells: %d\" % len(dsi_cells))\n",
    "\n",
    "    OSIs = []\n",
    "    OSI_index=0\n",
    "    index = 0\n",
    "    \n",
    "    if (max_cells != None) : # decide max cells desired in histogram \n",
    "        max_runs = max_cells\n",
    "    else : \n",
    "        max_runs = len(dsi_cells)\n",
    "\n",
    "    while (OSI_index < max_runs) and (index < len(dsi_cells)):\n",
    "        cell_vals = dg_for_cell(boc, dsi_cells, index, False, False, False, False, False, cre_lines_list)\n",
    "        if (cell_vals != None) :\n",
    "            OSI = cell_vals[4] ### CHANGE INDEX TO CHANGE FILTERING ON OSI vs gOSI DATA TYPE ###\n",
    "            if(filter_vals) :\n",
    "                if(0 <= OSI <= 2):\n",
    "                    OSIs.append(cell_vals)\n",
    "                    if (print_OSIs) : print(OSI_index, \"Cell\", index, \"OSI:\", OSI)\n",
    "                    if (print_other_vals) : \n",
    "                        print(\"Rmax:\", cell_vals[0])\n",
    "                        print(\"Pref TF:\", cell_vals[1])\n",
    "                        print(\"Pref ORI:\", cell_vals[2])\n",
    "                        print(\"Rorth:\", cell_vals[3])\n",
    "                        print(\"gOSI:\", cell_vals[5])\n",
    "                    OSI_index += 1\n",
    "            else : \n",
    "                OSIs.append(cell_vals)\n",
    "                if (print_OSIs) : print(OSI_index, \"Cell\", index, \"OSI:\", OSI)\n",
    "                if (print_other_vals) : \n",
    "                    print(\"Rmax:\", cell_vals[0])\n",
    "                    print(\"Pref TF:\", cell_vals[1])\n",
    "                    print(\"Pref ORI:\", cell_vals[2])\n",
    "                    print(\"Rorth:\", cell_vals[3])\n",
    "                    print(\"gOSI:\", cell_vals[5])\n",
    "                OSI_index += 1\n",
    "        index += 1\n",
    "    \n",
    "    if not OSIs : # if OSIs is empty\n",
    "        print(\"0 OSI values collected\")\n",
    "    \n",
    "    if print_histogram:\n",
    "        plt.hist(list(OSIs), 50, density = 1)\n",
    "    \n",
    "    if (filter_vals): plt.title(\"Distribution of OSI values for %s cells in %s (after filtering)\" % \n",
    "                               (cre_lines_list, targeted_struct))\n",
    "    else : plt.title(\"Distribution of OSI values for %s cells in %s (prior to filtering)\" % \n",
    "                     (cre_lines_list, targeted_struct))\n",
    "    plt.xlabel('Orientation Selectivity Index for Drifting Gratings')\n",
    "    plt.ylabel('Number of Cells')\n",
    "    \n",
    "    return OSIs"
   ]
  },
  {
   "cell_type": "markdown",
   "id": "fc8da54e",
   "metadata": {},
   "source": [
    "TESTS"
   ]
  },
  {
   "cell_type": "code",
   "execution_count": 8,
   "id": "94a44824",
   "metadata": {},
   "outputs": [
    {
     "name": "stdout",
     "output_type": "stream",
     "text": [
      "all cre lines:\n",
      "\n",
      "['Cux2-CreERT2',\n",
      " 'Emx1-IRES-Cre',\n",
      " 'Fezf2-CreER',\n",
      " 'Nr5a1-Cre',\n",
      " 'Ntsr1-Cre_GN220',\n",
      " 'Pvalb-IRES-Cre',\n",
      " 'Rbp4-Cre_KL100',\n",
      " 'Rorb-IRES2-Cre',\n",
      " 'Scnn1a-Tg3-Cre',\n",
      " 'Slc17a7-IRES2-Cre',\n",
      " 'Sst-IRES-Cre',\n",
      " 'Tlx3-Cre_PL56',\n",
      " 'Vip-IRES-Cre']\n"
     ]
    }
   ],
   "source": [
    "# see all options for cre_lines\n",
    "cre_lines = boc.get_all_cre_lines()\n",
    "print(\"all cre lines:\\n\")\n",
    "pprint.pprint(cre_lines)"
   ]
  },
  {
   "cell_type": "code",
   "execution_count": 21,
   "id": "1cd6088e",
   "metadata": {
    "scrolled": true
   },
   "outputs": [
    {
     "name": "stdout",
     "output_type": "stream",
     "text": [
      "all VISp experiment containers: 216\n",
      "VISp cells: 22641\n",
      "cells with sig. response to drifting gratings: 13401\n",
      "0 Cell 11171 OSI: 0.8339579386517486\n",
      "1 Cell 11172 OSI: 0.7163767638419521\n",
      "2 Cell 11173 OSI: 0.9892507102398824\n",
      "3 Cell 11174 OSI: 0.6847993661039065\n",
      "4 Cell 11175 OSI: 0.5855543355021487\n",
      "5 Cell 11176 OSI: 0.6673666222863881\n",
      "6 Cell 11177 OSI: 0.927459045237008\n",
      "7 Cell 11178 OSI: 0.7570512540102375\n",
      "8 Cell 11179 OSI: 0.8620661019469343\n",
      "9 Cell 11180 OSI: 0.8408413951842275\n",
      "10 Cell 11259 OSI: 0.7730811996715533\n",
      "11 Cell 11260 OSI: 0.5297857440993081\n",
      "12 Cell 11261 OSI: 0.7421879167899501\n",
      "13 Cell 11262 OSI: 0.7303921345207186\n",
      "14 Cell 11263 OSI: 0.7311731497825726\n",
      "15 Cell 11264 OSI: 0.7284109708633038\n",
      "16 Cell 11265 OSI: 0.637542650775825\n",
      "17 Cell 11266 OSI: 0.7222244173602074\n",
      "18 Cell 11267 OSI: 0.6964753328063082\n",
      "19 Cell 11268 OSI: 0.6432606615657422\n",
      "20 Cell 11269 OSI: 0.5866210937312207\n",
      "21 Cell 11270 OSI: 0.6515660079604738\n",
      "22 Cell 11271 OSI: 0.5754771355083411\n",
      "23 Cell 11272 OSI: 0.6906650406976105\n",
      "24 Cell 11273 OSI: 0.6387813472753862\n",
      "25 Cell 11274 OSI: 0.650987837287818\n",
      "26 Cell 11275 OSI: 0.5522123513664612\n",
      "27 Cell 11276 OSI: 0.5621198613951874\n",
      "28 Cell 11277 OSI: 0.7286976804657358\n",
      "29 Cell 11278 OSI: 0.5638561241633994\n",
      "30 Cell 11279 OSI: 0.6243581049236505\n",
      "31 Cell 11280 OSI: 0.6014729873536516\n",
      "32 Cell 11281 OSI: 0.6081189180173915\n",
      "33 Cell 11282 OSI: 0.6459645841875431\n",
      "34 Cell 11283 OSI: 0.6319704853233031\n",
      "35 Cell 11284 OSI: 0.6514238844801553\n",
      "36 Cell 11285 OSI: 0.6141769965330649\n",
      "37 Cell 11286 OSI: 0.63151241166815\n",
      "38 Cell 11287 OSI: 0.6200758827469588\n",
      "39 Cell 11288 OSI: 0.6373782841158603\n",
      "40 Cell 11289 OSI: 0.585692844433038\n",
      "41 Cell 11290 OSI: 0.6406533948732837\n",
      "42 Cell 11291 OSI: 0.6500210877828002\n",
      "43 Cell 11292 OSI: 0.6674262609747141\n",
      "44 Cell 11293 OSI: 0.6736428348894196\n",
      "45 Cell 11294 OSI: 0.6154270777893427\n",
      "46 Cell 11295 OSI: 0.6596759514188126\n",
      "47 Cell 11296 OSI: 0.6104464551676814\n",
      "48 Cell 11297 OSI: 0.6785802805947424\n",
      "49 Cell 11298 OSI: 0.6694914794969824\n",
      "50 Cell 11299 OSI: 0.785852945119741\n",
      "51 Cell 11301 OSI: 0.9923993244495292\n",
      "52 Cell 11302 OSI: 0.8735972515006274\n",
      "53 Cell 11303 OSI: 0.8206345791768248\n",
      "54 Cell 11304 OSI: 0.947544100917778\n",
      "55 Cell 11305 OSI: 1.0070404139391753\n",
      "56 Cell 11306 OSI: 0.7081278529827466\n",
      "57 Cell 11307 OSI: 0.7789194189223412\n",
      "58 Cell 11308 OSI: 0.7276125558845401\n",
      "59 Cell 11310 OSI: 1.5073613382924205\n",
      "60 Cell 11311 OSI: 0.8364932303824733\n",
      "61 Cell 11312 OSI: 0.7429388639002186\n",
      "62 Cell 11313 OSI: 0.6753295300576416\n",
      "63 Cell 11314 OSI: 0.5633661473419711\n",
      "64 Cell 11315 OSI: 0.5851672810404042\n",
      "65 Cell 11316 OSI: 0.6643258258517634\n",
      "66 Cell 11317 OSI: 0.689005760552351\n",
      "67 Cell 11318 OSI: 0.6477590324866817\n",
      "68 Cell 11319 OSI: 0.6944379282873222\n",
      "69 Cell 11320 OSI: 0.44561107339771794\n",
      "70 Cell 11321 OSI: 1.3373115010457428\n",
      "71 Cell 11322 OSI: 1.0120064975838488\n",
      "72 Cell 11323 OSI: 0.8149205048634854\n",
      "73 Cell 11324 OSI: 1.0176336453749866\n",
      "74 Cell 11325 OSI: 1.0082277461156541\n",
      "75 Cell 11326 OSI: 0.7644029517891987\n",
      "76 Cell 11327 OSI: 1.6399034087990212\n",
      "77 Cell 11328 OSI: 0.9474418323944173\n",
      "78 Cell 11329 OSI: 0.8038324672049167\n",
      "79 Cell 11330 OSI: 0.8311641757099442\n",
      "80 Cell 11331 OSI: 0.8309637711567677\n",
      "81 Cell 11332 OSI: 0.936458232612157\n",
      "82 Cell 11333 OSI: 1.06668023293129\n",
      "83 Cell 11334 OSI: 0.7664923787080246\n",
      "84 Cell 11336 OSI: 0.9879322729461393\n",
      "85 Cell 11337 OSI: 0.8154683566837654\n",
      "86 Cell 11338 OSI: 0.7527091452630483\n",
      "87 Cell 11339 OSI: 0.6369653127611509\n",
      "88 Cell 11340 OSI: 0.7140357276167091\n",
      "89 Cell 11341 OSI: 0.7566078498360532\n",
      "90 Cell 11342 OSI: 0.6789791460276934\n",
      "91 Cell 11343 OSI: 0.7113546762225006\n",
      "92 Cell 11344 OSI: 0.7446097031746622\n",
      "93 Cell 11345 OSI: 0.7037537620587855\n",
      "94 Cell 11346 OSI: 0.7964945609000601\n",
      "95 Cell 11347 OSI: 0.7547978949661162\n",
      "96 Cell 11348 OSI: 0.664774562897035\n",
      "97 Cell 11349 OSI: 0.7565629747346752\n",
      "98 Cell 11350 OSI: 0.700669762811379\n",
      "99 Cell 11351 OSI: 0.982838699358667\n",
      "all VISp experiment containers: 216\n",
      "VISp cells: 22641\n",
      "cells with sig. response to drifting gratings: 13401\n",
      "all VISp experiment containers: 216\n",
      "VISp cells: 22641\n",
      "cells with sig. response to drifting gratings: 13401\n",
      "all VISp experiment containers: 216\n",
      "VISp cells: 22641\n",
      "cells with sig. response to drifting gratings: 13401\n",
      "all VISl experiment containers: 118\n",
      "VISl cells: 13618\n",
      "cells with sig. response to drifting gratings: 6985\n",
      "all VISl experiment containers: 118\n",
      "VISl cells: 13618\n",
      "cells with sig. response to drifting gratings: 6985\n",
      "all VISl experiment containers: 118\n",
      "VISl cells: 13618\n",
      "cells with sig. response to drifting gratings: 6985\n",
      "all VISl experiment containers: 118\n",
      "VISl cells: 13618\n",
      "cells with sig. response to drifting gratings: 6985\n"
     ]
    },
    {
     "data": {
      "image/png": "[encoded data removed]",
      "text/plain": [
       "<Figure size 432x288 with 1 Axes>"
      ]
     },
     "metadata": {
      "needs_background": "light"
     },
     "output_type": "display_data"
    }
   ],
   "source": [
    "visp_pv = create_histogram('VISp', True, False, True, ['Pvalb-IRES-Cre'], 100, False)\n",
    "visp_sst = create_histogram('VISp', False, False, True, ['Sst-IRES-Cre'], 100, False)\n",
    "visp_vip = create_histogram('VISp', False, False, True, ['Vip-IRES-Cre'], 100, False)\n",
    "visp_exc = create_histogram('VISp', False, False, True, ['Cux2-CreERT2','Emx1-IRES-Cre','Fezf2-CreER'\n",
    "                                                        'Nr5a1-Cre','Ntsr1-Cre_GN220','Rbp4-Cre_KL100',\n",
    "                                                        'Rorb-IRES2-Cre','Scnn1a-Tg3-Cre','Slc17a7-IRES2-Cre',\n",
    "                                                        'Tlx3-Cre_PL56'], 100, False)\n",
    "\n",
    "\n",
    "visl_pv = create_histogram('VISl', False, False, True, ['Pvalb-IRES-Cre'], 100, False)\n",
    "visl_sst = create_histogram('VISl', False, False, True, ['Sst-IRES-Cre'], 100, False)\n",
    "visl_vip = create_histogram('VISl', False, False, True, ['Vip-IRES-Cre'], 100, False)\n",
    "visl_exc = create_histogram('VISl', False, False, True, ['Cux2-CreERT2','Emx1-IRES-Cre','Fezf2-CreER'\n",
    "                                                        'Nr5a1-Cre','Ntsr1-Cre_GN220','Rbp4-Cre_KL100',\n",
    "                                                        'Rorb-IRES2-Cre','Scnn1a-Tg3-Cre','Slc17a7-IRES2-Cre',\n",
    "                                                        'Tlx3-Cre_PL56'], 100, False)\n"
   ]
  },
  {
   "cell_type": "markdown",
   "id": "c8651eee",
   "metadata": {},
   "source": [
    "Cell Comparison"
   ]
  },
  {
   "cell_type": "code",
   "execution_count": 49,
   "id": "54b8305b",
   "metadata": {},
   "outputs": [
    {
     "data": {
      "text/plain": [
       "<function matplotlib.pyplot.show(close=None, block=None)>"
      ]
     },
     "execution_count": 49,
     "metadata": {},
     "output_type": "execute_result"
    },
    {
     "data": {
      "image/png": "[encoded data removed]",
      "text/plain": [
       "<Figure size 432x288 with 1 Axes>"
      ]
     },
     "metadata": {
      "needs_background": "light"
     },
     "output_type": "display_data"
    }
   ],
   "source": [
    "# VISp VISl Comparison\n",
    "\n",
    "i = 5 ## Choose index of desired data value 0: Rmax, 1: pref TF, 2: pref ORI, 3: Rorth, 4: OSI, 5: gOSI values, 6: cre_line\n",
    "all_data = [visp_pv, visp_sst, visp_vip, visp_exc, visl_pv, visl_sst, visl_vip, visl_exc]\n",
    "boxplot_data = []\n",
    "x=0\n",
    "\n",
    "for area in all_data:\n",
    "    boxplot_data.append([row[i] for row in area])\n",
    "    x += 1\n",
    "\n",
    "box = plt.boxplot(boxplot_data,\n",
    "                     vert=True,  # vertical box alignment\n",
    "                     patch_artist=True,  # fill with color\n",
    "                     labels=['visp_pv','visp_sst', 'visp_vip', 'visp_exc', 'visl_pv', 'visl_sst', 'visl_vip', \n",
    "                             'visl_exc'], # will be used to label x-ticks \n",
    "            sym='') # show outliers \n",
    "\n",
    "plt.grid(True)\n",
    "\n",
    "plt.xlabel('cell types')\n",
    "plt.ylabel('gOSI Frequency')\n",
    "\n",
    " \n",
    "colors = ['blue', 'green', 'purple', 'tan', 'blue', 'green', 'purple', 'tan']\n",
    "\n",
    "for patch, color in zip(box['boxes'], colors):\n",
    "    patch.set_facecolor(color)\n",
    "\n",
    "plt.show\n",
    "\n",
    "\n",
    "\n"
   ]
  },
  {
   "cell_type": "code",
   "execution_count": 58,
   "id": "60fecc9b",
   "metadata": {},
   "outputs": [
    {
     "name": "stdout",
     "output_type": "stream",
     "text": [
      "all VISal experiment containers: 41\n",
      "VISal cells: 7191\n",
      "cells with sig. response to drifting gratings: 3517\n",
      "0 OSI values collected\n",
      "all VISal experiment containers: 41\n",
      "VISal cells: 7191\n",
      "cells with sig. response to drifting gratings: 3517\n",
      "all VISal experiment containers: 41\n",
      "VISal cells: 7191\n",
      "cells with sig. response to drifting gratings: 3517\n",
      "0 OSI values collected\n",
      "all VISal experiment containers: 41\n",
      "VISal cells: 7191\n",
      "cells with sig. response to drifting gratings: 3517\n",
      "0 OSI values collected\n"
     ]
    },
    {
     "data": {
      "image/png": "[encoded data removed]",
      "text/plain": [
       "<Figure size 432x288 with 1 Axes>"
      ]
     },
     "metadata": {
      "needs_background": "light"
     },
     "output_type": "display_data"
    }
   ],
   "source": [
    "# VISal\n",
    "visal_pv = create_histogram('VISal', False, False, True, ['Pvalb-IRES-Cre'], 100, False)\n",
    "visal_sst = create_histogram('VISal', False, False, True, ['Sst-IRES-Cre'], 100, False)\n",
    "visal_vip = create_histogram('VISal', False, False, True, ['Vip-IRES-Cre'], 100, False)\n",
    "visal_exc = create_histogram('VISal', False, False, True, ['Cux2-CreERT2','Emx1-IRES-Cre','Fezf2-CreER'\n",
    "                                                        'Nr5a1-Cre','Ntsr1-Cre_GN220','Rbp4-Cre_KL100',\n",
    "                                                        'Rorb-IRES2-Cre','Scnn1a-Tg3-Cre','Slc17a7-IRES2-Cre',\n",
    "                                                        'Tlx3-Cre_PL56'], 100, False)\n",
    "\n"
   ]
  },
  {
   "cell_type": "code",
   "execution_count": 59,
   "id": "370766f4",
   "metadata": {},
   "outputs": [
    {
     "data": {
      "text/plain": [
       "<function matplotlib.pyplot.show(close=None, block=None)>"
      ]
     },
     "execution_count": 59,
     "metadata": {},
     "output_type": "execute_result"
    },
    {
     "data": {
      "image/png": "[encoded data removed]",
      "text/plain": [
       "<Figure size 432x288 with 1 Axes>"
      ]
     },
     "metadata": {
      "needs_background": "light"
     },
     "output_type": "display_data"
    }
   ],
   "source": [
    "i = 5 ## Choose index of desired data value 0: Rmax, 1: pref TF, 2: pref ORI, 3: Rorth, 4: OSI, 5: gOSI values, 6: cre_line\n",
    "all_data = [visal_pv, visal_sst, visal_vip, visal_exc]\n",
    "boxplot_data = []\n",
    "x=0\n",
    "\n",
    "for area in all_data:\n",
    "    boxplot_data.append([row[i] for row in area])\n",
    "    x += 1\n",
    "\n",
    "box = plt.boxplot(boxplot_data,\n",
    "                     vert=True,  # vertical box alignment\n",
    "                     patch_artist=True,  # fill with color\n",
    "                     labels=['visam_pv','visam_sst', 'vispam_vip', 'visam_exc'], # will be used to label x-ticks \n",
    "            sym='') # show outliers \n",
    "\n",
    "plt.grid(True)\n",
    "\n",
    "plt.xlabel('cell types')\n",
    "plt.ylabel('gOSI Frequency')\n",
    "\n",
    " \n",
    "colors = ['blue', 'green', 'purple', 'tan']\n",
    "\n",
    "for patch, color in zip(box['boxes'], colors):\n",
    "    patch.set_facecolor(color)\n",
    "\n",
    "plt.show"
   ]
  },
  {
   "cell_type": "code",
   "execution_count": 63,
   "id": "8ceb3f4d",
   "metadata": {},
   "outputs": [
    {
     "name": "stdout",
     "output_type": "stream",
     "text": [
      "all VISpm experiment containers: 87\n",
      "VISpm cells: 7985\n",
      "cells with sig. response to drifting gratings: 3220\n",
      "0 OSI values collected\n",
      "all VISpm experiment containers: 87\n",
      "VISpm cells: 7985\n",
      "cells with sig. response to drifting gratings: 3220\n",
      "all VISpm experiment containers: 87\n",
      "VISpm cells: 7985\n",
      "cells with sig. response to drifting gratings: 3220\n"
     ]
    },
    {
     "name": "stderr",
     "output_type": "stream",
     "text": [
      "2022-08-10 18:22:12,454 allensdk.api.api.retrieve_file_over_http INFO     Downloading URL: http://api.brain-map.org/api/v2/well_known_file_download/609779562\n",
      "2022-08-10 18:24:41,614 allensdk.api.api.retrieve_file_over_http INFO     Downloading URL: http://api.brain-map.org/api/v2/well_known_file_download/643114702\n",
      "2022-08-10 18:25:28,656 allensdk.api.api.retrieve_file_over_http INFO     Downloading URL: http://api.brain-map.org/api/v2/well_known_file_download/653008622\n",
      "2022-08-10 18:28:38,542 allensdk.api.api.retrieve_file_over_http INFO     Downloading URL: http://api.brain-map.org/api/v2/well_known_file_download/649332540\n",
      "2022-08-10 18:57:47,884 allensdk.api.api.retrieve_file_over_http INFO     Downloading URL: http://api.brain-map.org/api/v2/well_known_file_download/648187929\n",
      "2022-08-10 19:00:53,012 allensdk.api.api.retrieve_file_over_http INFO     Downloading URL: http://api.brain-map.org/api/v2/well_known_file_download/650079447\n",
      "2022-08-10 19:05:13,060 allensdk.api.api.retrieve_file_over_http INFO     Downloading URL: http://api.brain-map.org/api/v2/well_known_file_download/651787134\n",
      "2022-08-10 19:08:54,399 allensdk.api.api.retrieve_file_over_http INFO     Downloading URL: http://api.brain-map.org/api/v2/well_known_file_download/657879588\n"
     ]
    },
    {
     "name": "stdout",
     "output_type": "stream",
     "text": [
      "all VISpm experiment containers: 87\n",
      "VISpm cells: 7985\n",
      "cells with sig. response to drifting gratings: 3220\n",
      "0 OSI values collected\n"
     ]
    },
    {
     "data": {
      "image/png": "[encoded data removed]",
      "text/plain": [
       "<Figure size 432x288 with 1 Axes>"
      ]
     },
     "metadata": {
      "needs_background": "light"
     },
     "output_type": "display_data"
    }
   ],
   "source": [
    "# VISpm\n",
    "\n",
    "vispm_pv = create_histogram('VISpm', False, False, True, ['Pvalb-IRES-Cre'], 100, False)\n",
    "vispm_sst = create_histogram('VISpm', False, False, True, ['Sst-IRES-Cre'], 100, False)\n",
    "vispm_vip = create_histogram('VISpm', False, False, True, ['Vip-IRES-Cre'], 100, False)\n",
    "vispm_exc = create_histogram('VISpm', False, False, True, ['Cux2-CreERT2','Emx1-IRES-Cre','Fezf2-CreER'\n",
    "                                                        'Nr5a1-Cre','Ntsr1-Cre_GN220','Rbp4-Cre_KL100',\n",
    "                                                        'Rorb-IRES2-Cre','Scnn1a-Tg3-Cre','Slc17a7-IRES2-Cre',\n",
    "                                                        'Tlx3-Cre_PL56'], 100, False)\n",
    "\n"
   ]
  },
  {
   "cell_type": "code",
   "execution_count": 65,
   "id": "2c684924",
   "metadata": {},
   "outputs": [
    {
     "data": {
      "text/plain": [
       "<function matplotlib.pyplot.show(close=None, block=None)>"
      ]
     },
     "execution_count": 65,
     "metadata": {},
     "output_type": "execute_result"
    },
    {
     "data": {
      "image/png": "[encoded data removed]",
      "text/plain": [
       "<Figure size 432x288 with 1 Axes>"
      ]
     },
     "metadata": {
      "needs_background": "light"
     },
     "output_type": "display_data"
    }
   ],
   "source": [
    "i = 5 ## Choose index of desired data value 0: Rmax, 1: pref TF, 2: pref ORI, 3: Rorth, 4: OSI, 5: gOSI values, 6: cre_line\n",
    "all_data = [vispm_pv, vispm_sst, vispm_vip, vispm_exc]\n",
    "boxplot_data = []\n",
    "\n",
    "\n",
    "for area in all_data:\n",
    "    boxplot_data.append([row[i] for row in area])\n",
    "\n",
    "\n",
    "box = plt.boxplot(boxplot_data,\n",
    "                     vert=True,  # vertical box alignment\n",
    "                     patch_artist=True,  # fill with color\n",
    "                     labels=['visam_pv','visam_sst', 'vispam_vip', 'visam_exc'], # will be used to label x-ticks \n",
    "            sym='') # do not show outliers \n",
    "\n",
    "plt.grid(True)\n",
    "\n",
    "plt.xlabel('cell types')\n",
    "plt.ylabel('gOSI Frequency')\n",
    "\n",
    " \n",
    "colors = ['blue', 'green', 'purple', 'tan']\n",
    "\n",
    "for patch, color in zip(box['boxes'], colors):\n",
    "    patch.set_facecolor(color)\n",
    "\n",
    "plt.show"
   ]
  },
  {
   "cell_type": "code",
   "execution_count": 69,
   "id": "eb448859",
   "metadata": {},
   "outputs": [
    {
     "name": "stdout",
     "output_type": "stream",
     "text": [
      "all VISrl experiment containers: 40\n",
      "VISrl cells: 8247\n",
      "cells with sig. response to drifting gratings: 1271\n",
      "0 OSI values collected\n",
      "all VISrl experiment containers: 40\n",
      "VISrl cells: 8247\n",
      "cells with sig. response to drifting gratings: 1271\n",
      "all VISrl experiment containers: 40\n",
      "VISrl cells: 8247\n",
      "cells with sig. response to drifting gratings: 1271\n",
      "0 OSI values collected\n",
      "all VISrl experiment containers: 40\n",
      "VISrl cells: 8247\n",
      "cells with sig. response to drifting gratings: 1271\n",
      "0 OSI values collected\n"
     ]
    },
    {
     "data": {
      "image/png": "[encoded data removed]",
      "text/plain": [
       "<Figure size 432x288 with 1 Axes>"
      ]
     },
     "metadata": {
      "needs_background": "light"
     },
     "output_type": "display_data"
    }
   ],
   "source": [
    "# VISrl\n",
    "\n",
    "visrl_pv = create_histogram('VISrl', False, False, True, ['Pvalb-IRES-Cre'], 100, False)\n",
    "visrl_sst = create_histogram('VISrl', False, False, True, ['Sst-IRES-Cre'], 100, False)\n",
    "visrl_vip = create_histogram('VISrl', False, False, True, ['Vip-IRES-Cre'], 100, False)\n",
    "visrl_exc = create_histogram('VISrl', False, False, True, ['Cux2-CreERT2','Emx1-IRES-Cre','Fezf2-CreER'\n",
    "                                                        'Nr5a1-Cre','Ntsr1-Cre_GN220','Rbp4-Cre_KL100',\n",
    "                                                        'Rorb-IRES2-Cre','Scnn1a-Tg3-Cre','Slc17a7-IRES2-Cre',\n",
    "                                                        'Tlx3-Cre_PL56'], 100, False)\n"
   ]
  },
  {
   "cell_type": "code",
   "execution_count": 72,
   "id": "2ba642f3",
   "metadata": {},
   "outputs": [
    {
     "data": {
      "text/plain": [
       "<function matplotlib.pyplot.show(close=None, block=None)>"
      ]
     },
     "execution_count": 72,
     "metadata": {},
     "output_type": "execute_result"
    },
    {
     "data": {
      "image/png": "[encoded data removed]",
      "text/plain": [
       "<Figure size 432x288 with 1 Axes>"
      ]
     },
     "metadata": {
      "needs_background": "light"
     },
     "output_type": "display_data"
    }
   ],
   "source": [
    "i = 4 ## Choose index of desired data value 0: Rmax, 1: pref TF, 2: pref ORI, 3: Rorth, 4: OSI, 5: gOSI values, 6: cre_line\n",
    "all_data = [visrl_pv, visrl_sst, visrl_vip, visrl_exc]\n",
    "boxplot_data = []\n",
    "\n",
    "\n",
    "for area in all_data:\n",
    "    boxplot_data.append([row[i] for row in area])\n",
    "\n",
    "\n",
    "box = plt.boxplot(boxplot_data,\n",
    "                     vert=True,  # vertical box alignment\n",
    "                     patch_artist=True,  # fill with color\n",
    "                     labels=['visrl_pv','visrl_sst', 'visprl_vip', 'visrl_exc'], # will be used to label x-ticks \n",
    "            sym='') # do not show outliers \n",
    "\n",
    "plt.grid(True)\n",
    "\n",
    "plt.xlabel('cell types')\n",
    "plt.ylabel('gOSI Frequency')\n",
    "\n",
    " \n",
    "colors = ['blue', 'green', 'purple', 'tan']\n",
    "\n",
    "for patch, color in zip(box['boxes'], colors):\n",
    "    patch.set_facecolor(color)\n",
    "\n",
    "plt.show"
   ]
  },
  {
   "cell_type": "markdown",
   "id": "fc2b9089",
   "metadata": {},
   "source": [
    "Run to see data analysis done by the Allen Institute (peak response, OSI, gOSI, etc.) "
   ]
  },
  {
   "cell_type": "code",
   "execution_count": null,
   "id": "70923fd3",
   "metadata": {},
   "outputs": [],
   "source": [
    "dsi_cell = dsi_cells.iloc[15]\n",
    "print(\"Peak dff: Allen %0.3f\" % dsi_cell.peak_dff_dg, \"vs. est %0.3f\" % (cellInfo[0]*100))\n",
    "print(\"Pref dir: Allen %0.f\" % dsi_cell.pref_dir_dg, \"vs. est %0.f\" % cellInfo[2])\n",
    "print(\"Pref tf: Allen %0.f\" % dsi_cell.pref_tf_dg, \"vs. est %0.f\" % cellInfo[1])\n",
    "print(\"OSI: Allen %.2f\" % dsi_cell.osi_dg, \"vs. est %.2f\" % cellInfo[4])"
   ]
  }
 ],
 "metadata": {
  "kernelspec": {
   "display_name": "Python 3 (ipykernel)",
   "language": "python",
   "name": "python3"
  },
  "language_info": {
   "codemirror_mode": {
    "name": "ipython",
    "version": 3
   },
   "file_extension": ".py",
   "mimetype": "text/x-python",
   "name": "python",
   "nbconvert_exporter": "python",
   "pygments_lexer": "ipython3",
   "version": "3.7.13"
  }
 },
 "nbformat": 4,
 "nbformat_minor": 5
}
