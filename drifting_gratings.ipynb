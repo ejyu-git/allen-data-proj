{
 "cells": [
  {
   "cell_type": "markdown",
   "id": "7f10e6b2",
   "metadata": {},
   "source": [
    "# Drifting Gratings\n",
    "Organizing data by drifting gratings stimulus"
   ]
  },
  {
   "cell_type": "markdown",
   "id": "2cb080b7",
   "metadata": {},
   "source": [
    "Create manifest to keep track of data"
   ]
  },
  {
   "cell_type": "code",
   "execution_count": 30,
   "id": "9ec6dc75",
   "metadata": {},
   "outputs": [],
   "source": [
    "from allensdk.core.brain_observatory_cache import BrainObservatoryCache\n",
    "import pprint\n",
    "\n",
    "# This class uses a 'manifest' to keep track of downloaded data and metadata.  \n",
    "# All downloaded files will be stored relative to the directory holding the manifest\n",
    "# file.  If 'manifest_file' is a relative path (as it is below), it will be \n",
    "# saved relative to your working directory.  It can also be an absolute path.\n",
    "boc = BrainObservatoryCache()"
   ]
  },
  {
   "cell_type": "markdown",
   "id": "b1cff5de",
   "metadata": {},
   "source": [
    "Import stim info data"
   ]
  },
  {
   "cell_type": "code",
   "execution_count": 31,
   "id": "5343404a",
   "metadata": {},
   "outputs": [],
   "source": [
    "import allensdk.brain_observatory.stimulus_info as stim_info\n"
   ]
  },
  {
   "cell_type": "markdown",
   "id": "668fa485",
   "metadata": {},
   "source": [
    "Import required packages for code"
   ]
  },
  {
   "cell_type": "code",
   "execution_count": 32,
   "id": "d778cad0",
   "metadata": {},
   "outputs": [],
   "source": [
    "from matplotlib import pyplot as plt\n",
    "#%matplotlib inline\n",
    "import matplotlib.pyplot as plt\n",
    "import matplotlib.patches as patches\n",
    "\n",
    "import numpy as np\n",
    "import cmath\n",
    "\n",
    "import pandas as pd\n",
    "\n",
    "def plot_stimulus_table(stim_table, title):\n",
    "    fstart = stim_table.start.min()\n",
    "    fend = stim_table.end.max()\n",
    "    \n",
    "    fig = plt.figure(figsize=(15,1))\n",
    "    ax = fig.gca()\n",
    "    for i, trial in stim_table.iterrows():    \n",
    "        x1 = float(trial.start - fstart) / (fend - fstart)\n",
    "        x2 = float(trial.end - fstart) / (fend - fstart)            \n",
    "        ax.add_patch(patches.Rectangle((x1, 0.0), x2 - x1, 1.0, color='r'))\n",
    "    ax.set_xticks((0,1))\n",
    "    ax.set_xticklabels((fstart, fend))\n",
    "    ax.set_yticks(())\n",
    "    ax.set_title(title)\n",
    "    ax.set_xlabel(\"frames\")\n"
   ]
  },
  {
   "cell_type": "code",
   "execution_count": 33,
   "id": "c974c617",
   "metadata": {},
   "outputs": [
    {
     "name": "stdout",
     "output_type": "stream",
     "text": [
      "total cells: 63251\n"
     ]
    }
   ],
   "source": [
    "# Download cells for a set of experiments and convert to DataFrame\n",
    "cells = boc.get_cell_specimens() # this code may be moved outside of the function?\n",
    "cells = pd.DataFrame.from_records(cells)\n",
    "print(\"total cells: %d\" % len(cells))"
   ]
  },
  {
   "cell_type": "markdown",
   "id": "1c3e8bc6",
   "metadata": {},
   "source": [
    " FUNCTIONS"
   ]
  },
  {
   "cell_type": "code",
   "execution_count": 34,
   "id": "5eb6b8e6",
   "metadata": {},
   "outputs": [],
   "source": [
    "# plot_dg(freq, ori, dsi_cell, data_set, print_graphs, plot_stim_instances, plot_avg_graph, plot_trial_on_avg, \n",
    "# freq_ind, ori_ind, axs): calculates average dff for a single type of stim. \n",
    "#\n",
    "#\n",
    "#\n",
    "#\n",
    "# freq: temporal frequency of stimulus\n",
    "# ori: orientation of stimulus\n",
    "# dsi_cell: NWB file for cell\n",
    "# data_set:  ophys experiment data\n",
    "# print_graphs: boolean value, if true, plots all of the 15 trials for each stim\n",
    "# plot_stim_instances: boolean value, if true, shows a plot of the frames each stim is shown\n",
    "# plot_avg_graph: boolean value, if true, shows average plot of each stim\n",
    "# plot_trial_on_avg: boolean value, if true, shows trial plots on same plot as avg\n",
    "# ori_ind: indice of orientation axis for subplots\n",
    "# freq_ind: indice of frequency axis for subplots\n",
    "# axs: subplot object\n",
    "def plot_dg(freq, ori, dsi_cell, data_set, print_graphs, plot_stim_instances, plot_avg_graph, plot_trial_on_avg, \n",
    "            freq_ind, ori_ind, axs):\n",
    "    \n",
    "    # get flourescence traces for target cell\n",
    "    dsi_cell_id = dsi_cell['cell_specimen_id']\n",
    "    time, f_traces = data_set.get_corrected_fluorescence_traces(cell_specimen_ids=[dsi_cell_id])\n",
    "    \n",
    "    # this is a pandas DataFrame. find trials with a given stimulus condition.\n",
    "    # 40 diff total conditions\n",
    "    temporal_frequency = freq\n",
    "    orientation = ori\n",
    "    stim_table = data_set.get_stimulus_table('drifting_gratings')\n",
    "    stim_table = stim_table[(stim_table.temporal_frequency == temporal_frequency) & \n",
    "                            (stim_table.orientation == orientation)]\n",
    "    \n",
    "    # plot of instances of stimulus frames\n",
    "    if (plot_stim_instances) :\n",
    "        plot_stimulus_table(stim_table, \"Instances of Stimuli, TF %d ORI %d\" % (temporal_frequency, orientation))\n",
    "        plt.show()\n",
    "    \n",
    "    # make 2D array of 120 data points of f_traces and dff_traces for each of the 15 trials\n",
    "    all_f_traces = [[0]*120 for i in range(15)] \n",
    "    dff_traces = [[0]*120 for i in range(15)] \n",
    "    x=0\n",
    "    \n",
    "    # plot 15 trial graphs\n",
    "    # initialize trial graph subplots\n",
    "    if (print_graphs):\n",
    "        fig_trial, axs_trial = plt.subplots(3, 5, sharey=True, figsize=(10,10))\n",
    "        fig_trial.suptitle(\"15 Trials for Stimuli, TF %d ORI %d\" % (temporal_frequency, orientation))\n",
    "    x_ind = 0 \n",
    "    y_ind = 0\n",
    "    \n",
    "    for start_ind in stim_table.start:\n",
    "        \n",
    "        all_f_traces[x] = f_traces[0][start_ind-30:start_ind+90] # get f_traces at desired indices\n",
    "        F0 = np.mean(f_traces[0][start_ind-30:start_ind]) # calculate baseline as the preceding second before stim\n",
    "        dff_traces[x] = (all_f_traces[x]-F0)/F0  # calculate dff at desired indices\n",
    "        \n",
    "        if (plot_avg_graph and plot_trial_on_avg) :\n",
    "            axs[freq_ind, ori_ind].plot(time[0:120]-time[0]-1, dff_traces[x], color='tan')\n",
    "        if (print_graphs) :\n",
    "            axs_trial[x_ind, y_ind].plot(time[0:120]-time[0]-1, dff_traces[x], color='tan')\n",
    "            axs_trial[x_ind, y_ind].set_title(\"Frames %d to %d\" % (start_ind-30,start_ind+90),\n",
    "                                              fontdict = {'fontsize': 7})\n",
    "\n",
    "            # Mark the area of the stimulus\n",
    "            axs_trial[x_ind, y_ind].fill_between(time[0:60]-time[0], min(dff_traces[x]), \n",
    "                                                                         min(dff_traces[x])+0.005,\n",
    "                facecolor=\"orange\", # The fill color\n",
    "                color='blue',       # The outline color\n",
    "                alpha=0.4)          # Transparency of the fill\n",
    "            \n",
    "            for ax in axs_trial.flat:\n",
    "                ax.set(xlabel='sec', ylabel='dF/F')\n",
    "            for ax in axs_trial.flat:\n",
    "                ax.label_outer()\n",
    "\n",
    "            y_ind +=1 \n",
    "            if (y_ind > 4) : \n",
    "                y_ind = 0\n",
    "                x_ind +=1\n",
    "        \n",
    "        x+=1\n",
    "    \n",
    "    # calculate and plot the average response of all graphs\n",
    "    mean_dff = np.mean(dff_traces, axis=0)\n",
    "    \n",
    "    if (plot_avg_graph) :\n",
    "        axs[freq_ind,ori_ind].plot(time[0:120]-time[0]-1,mean_dff, color='black')\n",
    "        axs[freq_ind,ori_ind].set_title(\"TF %d ORI %d\" %(temporal_frequency, orientation))\n",
    "        axs[freq_ind,ori_ind].fill_between(time[0:60]-time[0], \n",
    "                min(mean_dff), min(mean_dff)+0.005,\n",
    "                facecolor=\"orange\", # The fill color\n",
    "                color='blue',       # The outline color\n",
    "                alpha=0.4)          # Transparency of the fill\n",
    "    \n",
    "    # calculate single value average dff from average graph\n",
    "    return np.mean(mean_dff[30:90])\n",
    "    \n",
    "    "
   ]
  },
  {
   "cell_type": "code",
   "execution_count": 38,
   "id": "18bfb0a3",
   "metadata": {},
   "outputs": [],
   "source": [
    "# dg_for_cell(index, plot_trial_graphs, plot_stim_instances, plot_avg_graph, plot_trial_on_avg, show_text) : given\n",
    "# a cell index, will calculate and return Rmax, pref TF, pref ORI, Rorth, OSI and gOSI values. Will print \n",
    "# metadata, avg response graphs for each kind of stim, and trial graphs if desired. \n",
    "# \n",
    "#\n",
    "#\n",
    "# boc : manifest that keeps track of downloaded data\n",
    "# dsi_cells: object containing all direction selective cells in given brain region\n",
    "# index: index of cell in vector of filtered direction selective cells. There are 1159 direction selective cells. \n",
    "# Index values can range from 0 to 1158\n",
    "# plot_trial_graphs: boolean value, if true, shows all of the 15 trials for each stim\n",
    "# plot_stim_instances: boolean value, if true, shows a plot of the frames each stim is shown\n",
    "# plot_avg_graph: boolean value, if true, shows average plot of each stim\n",
    "# plot_trial_on_avg: boolean value, if true, shows trial plots on same plot as avg\n",
    "# show_text: boolean value, if true, prints text information such as cell metadata, stimulus matrix,\n",
    "# and outputs of analysis calculations\n",
    "# cre_lines_list: if not empty, will filter cells by the given cell types \n",
    "#\n",
    "# Warning- calling this function will require downloading the ophys experiment data, which may take some time\n",
    "# This function downloads the NWB files that contain the fluorescence traces for segmented cells in \n",
    "# those experiments that used the dg stim\n",
    "def dg_for_cell(boc, dsi_cells, index, plot_trial_graphs, plot_stim_instances, plot_avg_graph, plot_trial_on_avg, \n",
    "                show_text, cre_lines_list): \n",
    "    \n",
    "    # pick a direction-selective cell and find its NWB file\n",
    "    dsi_cell = dsi_cells.iloc[index]\n",
    "    \n",
    "    # determine and filter by cell type\n",
    "    cell_type = dsi_cell.tld1_name\n",
    "    for cre_line in cre_lines_list:\n",
    "        if (cell_type == cre_line):\n",
    "            continue\n",
    "        if (cre_line == cre_lines_list[-1]) : \n",
    "            return None\n",
    "    \n",
    "    # figure out which ophys experiment has the drifting gratings stimulus for that cell\n",
    "    cell_exp = boc.get_ophys_experiments(cell_specimen_ids=[dsi_cell['cell_specimen_id']],\n",
    "                                         stimuli=[stim_info.DRIFTING_GRATINGS])[0]\n",
    "\n",
    "    data_set = boc.get_ophys_experiment_data(cell_exp['id'])\n",
    "    \n",
    "    if (show_text):\n",
    "        print(\"Metadata from NWB file:\")\n",
    "        pprint.pprint(data_set.get_metadata())\n",
    "    \n",
    "    # initialize stim_matrix\n",
    "    stim_matrix = [[0]*8 for i in range(5)]\n",
    "    \n",
    "    # initialize avg graph subplots\n",
    "    if (plot_avg_graph) :\n",
    "        fig, axs = plt.subplots(5, 8, sharey=True, figsize=(15,15))\n",
    "        fig.suptitle('Average Fluorescence For Each Stim')\n",
    "        for ax in axs.flat:\n",
    "            ax.set(xlabel='sec', ylabel='dF/F')\n",
    "        for ax in axs.flat:\n",
    "            ax.label_outer()\n",
    "    else :\n",
    "        axs = None \n",
    "        \n",
    "    # make avg graph subplots and calculate average dff for each stim\n",
    "    freq_array = [1,2,4,8,15]\n",
    "    ori_array = [0,45,90,135,180,225,270,315]\n",
    "    freq_ind = 0\n",
    "    for freq in freq_array :\n",
    "        ori_ind = 0\n",
    "        for ori in ori_array :\n",
    "            avg_dff = plot_dg(freq, ori, dsi_cell, data_set, plot_trial_graphs, plot_stim_instances, \n",
    "                              plot_avg_graph, plot_trial_on_avg, freq_ind, ori_ind, axs)\n",
    "            stim_matrix[freq_ind][ori_ind] = avg_dff\n",
    "            ori_ind +=1\n",
    "        freq_ind += 1\n",
    "    \n",
    "    # print stim_matrix\n",
    "    row_labels = ['1', '2', '4', '8', '15']\n",
    "    column_labels = ['0','45','90','135','180','225','270','315']\n",
    "    if (show_text):\n",
    "        print(pd.DataFrame(stim_matrix, columns=column_labels, index=row_labels))\n",
    "    \n",
    "    # calc R max val in stim_matrix\n",
    "    Rmax = np.amax(stim_matrix)\n",
    "    if (show_text): print(\"Cell has Rmax of %f\" % Rmax)\n",
    "    result = np.where(stim_matrix == np.amax(stim_matrix))\n",
    "    max_coor = list(zip(result[0], result[1]))\n",
    "    if (show_text): print(\"At temporal frequency of %d and orientation of %d\" % \n",
    "          (freq_array[max_coor[0][0]], ori_array[max_coor[0][1]]))\n",
    "    \n",
    "    # calc R orth\n",
    "    Rorth = (stim_matrix[max_coor[0][0]][max_coor[0][1]-2] + stim_matrix[max_coor[0][0]][(max_coor[0][1]+2)%8])/2\n",
    "    if (show_text): print(\"Rorth: %f\" % Rorth)\n",
    "    \n",
    "    # calc OSI\n",
    "    OSI = (Rmax - Rorth)/(Rmax + Rorth)\n",
    "    if (show_text): print(\"OSI: %f\" % OSI)\n",
    "    \n",
    "    # calc gOSI\n",
    "    Rtheta=0\n",
    "    Rtheta_exp=0\n",
    "    for i in range(0, 8) :\n",
    "        Rtheta += stim_matrix[max_coor[0][0]][i]\n",
    "        Rtheta_exp += (Rtheta * cmath.exp(complex(0,2)*ori_array[i]))\n",
    "    gOSI = abs(Rtheta_exp/Rtheta)\n",
    "    if (show_text): print(\"gOSI: %f\" % gOSI)\n",
    "    \n",
    "    # find cre_line\n",
    "    cre_line = cell_exp['cre_line']\n",
    "    \n",
    "    # return array of Rmax, pref TF, pref ORI, Rorth, OSI, gOSI values, and cre_line\n",
    "    return [Rmax, freq_array[max_coor[0][0]], ori_array[max_coor[0][1]], Rorth, OSI, gOSI, cre_line]\n",
    "    "
   ]
  },
  {
   "cell_type": "code",
   "execution_count": 47,
   "id": "14789c6f",
   "metadata": {},
   "outputs": [],
   "source": [
    "# create_histogram(targeted_struct): creates histogram of OSI of all cells in desired cortical layer\n",
    "# \n",
    "#\n",
    "#\n",
    "#\n",
    "# targeted_struct: string argument identifying desired cortical layer. Options are\n",
    "# 'VISal', 'VISam', 'VISl', 'VISp', 'VISpm', 'VISrl'. Higher order visual cortices (VISam, VISpm, VISrl) show\n",
    "# decreased activity with increased running speed\n",
    "# print_OSIs: when set to true, will print the OSIs for each cell\n",
    "# print_other_vals: when set to true, will print the Rmax, pref TF, pref ORI, Rorth, and gOSI\n",
    "# filter_vals: when set to true, creates the histogram and excludes OSIs below 0 or above 2\n",
    "# cre_lines_list: given one or multiple cre_lines, will filter the cells of the targeted structure to those cells\n",
    "# max_cells: if given a value, will only run a maximum of that amount of cells\n",
    "#\n",
    "# Warning: will require downloading nwb files for many cells. Will take a while \n",
    "def create_histogram(targeted_struct, print_OSIs, print_other_vals, filter_vals, cre_lines_list, max_cells):\n",
    "    \n",
    "    # Download experiment containers for experiments of target structure\n",
    "    exp_containers = boc.get_experiment_containers(targeted_structures=[targeted_struct])\n",
    "    print(\"all %s experiment containers: %d\" % (targeted_struct, len(exp_containers)))\n",
    "    \n",
    "    # Download cells for a set of experiments and convert to DataFrame\n",
    "    #cells = boc.get_cell_specimens() # this code may be moved outside of the function?\n",
    "    #cells = pd.DataFrame.from_records(cells)\n",
    "    #print(\"total cells: %d\" % len(cells))\n",
    "\n",
    "    # find direction selective cells in target_struct\n",
    "    exp_container_ids = [ ec['id'] for ec in exp_containers ]\n",
    "    structure_cells = cells[cells['experiment_container_id'].isin(exp_container_ids)]\n",
    "    print(\"%s cells: %d\" % (targeted_struct, len(structure_cells)))\n",
    "\n",
    "    # significant response to drifting gratings stimulus\n",
    "    sig_cells = structure_cells[structure_cells['p_dg'] < 0.05]\n",
    "    print(\"cells with sig. response to drifting gratings: %d\" % len(sig_cells))\n",
    "    \n",
    "    dsi_cells = sig_cells\n",
    "\n",
    "    # direction selective cells\n",
    "    #dsi_cells = sig_cells[(sig_cells['g_dsi_dg'] > 0.75)]  #lower threshold or get rid of entirely?\n",
    "    #print(\"direction-selective cells: %d\" % len(dsi_cells))\n",
    "\n",
    "    OSIs = []\n",
    "    OSI_index=0\n",
    "    index = 0\n",
    "    \n",
    "    if (max_cells != None) : # decide how many times to run cell calculations\n",
    "        max_runs = max_cells\n",
    "    else : \n",
    "        max_runs = len(dsi_cells)\n",
    "\n",
    "    while index < max_runs :\n",
    "        cell_vals = dg_for_cell(boc, dsi_cells, index, False, False, False, False, False, cre_lines_list)\n",
    "        if (cell_vals != None) :\n",
    "            OSI = cell_vals[4] \n",
    "            OSIs.append(OSI)\n",
    "            if (print_OSIs) : print(\"Cell\", index, \"OSI:\", OSI)\n",
    "            if (print_other_vals) : \n",
    "                print(\"Rmax:\", cell_vals[0])\n",
    "                print(\"Pref TF:\", cell_vals[1])\n",
    "                print(\"Pref ORI:\", cell_vals[2])\n",
    "                print(\"Rorth:\", cell_vals[3])\n",
    "                print(\"gOSI:\", cell_vals[5])\n",
    "            OSI_index += 1\n",
    "        index += 1\n",
    "    \n",
    "    if not OSIs : # if OSIs is empty\n",
    "        print(\"0 OSI values collected\")\n",
    "    \n",
    "    if(filter_vals):\n",
    "        filtered_OSIs = filter(lambda tar_OSI: 0 <= tar_OSI <= 2, OSIs)\n",
    "        OSIs_to_plot = filtered_OSIs\n",
    "    else :\n",
    "        OSIs_to_plot = OSIs\n",
    "        \n",
    "    plt.hist(list(OSIs_to_plot), 50, density = 1)\n",
    "    if (filter_vals): plt.title(\"Distribution of OSI values for all cells in %s (after filtering)\" % \n",
    "                                targeted_struct)\n",
    "    else : plt.title(\"Distribution of OSI values for all cells in %s (prior to filtering)\" % targeted_struct)\n",
    "    plt.xlabel('Orientation Selectivity Index for Drifting Gratings')\n",
    "    plt.ylabel('Number of Cells')\n",
    "    "
   ]
  },
  {
   "cell_type": "markdown",
   "id": "fc8da54e",
   "metadata": {},
   "source": [
    "TESTS"
   ]
  },
  {
   "cell_type": "code",
   "execution_count": 15,
   "id": "4d2e5312",
   "metadata": {
    "scrolled": true
   },
   "outputs": [
    {
     "name": "stdout",
     "output_type": "stream",
     "text": [
      "all VISp experiment containers: 216\n"
     ]
    },
    {
     "ename": "KeyboardInterrupt",
     "evalue": "",
     "output_type": "error",
     "traceback": [
      "\u001b[0;31m---------------------------------------------------------------------------\u001b[0m",
      "\u001b[0;31mKeyboardInterrupt\u001b[0m                         Traceback (most recent call last)",
      "\u001b[0;32m/var/folders/pp/47yv7l2j4nl3228qpg3fkwg80000gn/T/ipykernel_70017/2286415895.py\u001b[0m in \u001b[0;36m<module>\u001b[0;34m\u001b[0m\n\u001b[1;32m      8\u001b[0m \u001b[0;31m# Download cells for a set of experiments and convert to DataFrame\u001b[0m\u001b[0;34m\u001b[0m\u001b[0;34m\u001b[0m\u001b[0;34m\u001b[0m\u001b[0m\n\u001b[1;32m      9\u001b[0m \u001b[0mcells\u001b[0m \u001b[0;34m=\u001b[0m \u001b[0mboc\u001b[0m\u001b[0;34m.\u001b[0m\u001b[0mget_cell_specimens\u001b[0m\u001b[0;34m(\u001b[0m\u001b[0;34m)\u001b[0m \u001b[0;31m# this code may be moved outside of the function?\u001b[0m\u001b[0;34m\u001b[0m\u001b[0;34m\u001b[0m\u001b[0m\n\u001b[0;32m---> 10\u001b[0;31m \u001b[0mcells\u001b[0m \u001b[0;34m=\u001b[0m \u001b[0mpd\u001b[0m\u001b[0;34m.\u001b[0m\u001b[0mDataFrame\u001b[0m\u001b[0;34m.\u001b[0m\u001b[0mfrom_records\u001b[0m\u001b[0;34m(\u001b[0m\u001b[0mcells\u001b[0m\u001b[0;34m)\u001b[0m\u001b[0;34m\u001b[0m\u001b[0;34m\u001b[0m\u001b[0m\n\u001b[0m\u001b[1;32m     11\u001b[0m \u001b[0mprint\u001b[0m\u001b[0;34m(\u001b[0m\u001b[0;34m\"total cells: %d\"\u001b[0m \u001b[0;34m%\u001b[0m \u001b[0mlen\u001b[0m\u001b[0;34m(\u001b[0m\u001b[0mcells\u001b[0m\u001b[0;34m)\u001b[0m\u001b[0;34m)\u001b[0m\u001b[0;34m\u001b[0m\u001b[0;34m\u001b[0m\u001b[0m\n\u001b[1;32m     12\u001b[0m \u001b[0;34m\u001b[0m\u001b[0m\n",
      "\u001b[0;31mKeyboardInterrupt\u001b[0m: "
     ]
    }
   ],
   "source": [
    "# This function downloads the NWB files that contain the fluorescence traces for segmented cells in \n",
    "# those experiments that used the dg stim\n",
    " # Download experiment containers for experiments of target structure\n",
    "targeted_struct = 'VISp'\n",
    "exp_containers = boc.get_experiment_containers(targeted_structures=[targeted_struct])\n",
    "print(\"all %s experiment containers: %d\" % (targeted_struct, len(exp_containers)))\n",
    "\n",
    "# Download cells for a set of experiments and convert to DataFrame\n",
    "cells = boc.get_cell_specimens() # this code may be moved outside of the function?\n",
    "cells = pd.DataFrame.from_records(cells)\n",
    "print(\"total cells: %d\" % len(cells))\n",
    "\n",
    "# find direction selective cells in VISp\n",
    "exp_container_ids = [ ec['id'] for ec in exp_containers ]\n",
    "structure_cells = cells[cells['experiment_container_id'].isin(exp_container_ids)]\n",
    "print(\"%s cells: %d\" % (targeted_struct, len(structure_cells)))\n",
    "\n",
    "# significant response to drifting gratings stimulus\n",
    "sig_cells = structure_cells[structure_cells['p_dg'] < 0.05]\n",
    "print(\"cells with sig. response to drifting gratings: %d\" % len(sig_cells))\n",
    "\n",
    "# direction selective cells\n",
    "dsi_cells = sig_cells[(sig_cells['g_dsi_dg'] > 0.9)]\n",
    "print(\"direction-selective cells: %d\" % len(dsi_cells))\n",
    "\n",
    "cellInfo = dg_for_cell(boc, dsi_cells, 30, False, False, False, True, True)\n",
    "print(cellInfo[6])"
   ]
  },
  {
   "cell_type": "code",
   "execution_count": 12,
   "id": "94a44824",
   "metadata": {},
   "outputs": [
    {
     "name": "stdout",
     "output_type": "stream",
     "text": [
      "all cre lines:\n",
      "\n",
      "['Cux2-CreERT2',\n",
      " 'Emx1-IRES-Cre',\n",
      " 'Fezf2-CreER',\n",
      " 'Nr5a1-Cre',\n",
      " 'Ntsr1-Cre_GN220',\n",
      " 'Pvalb-IRES-Cre',\n",
      " 'Rbp4-Cre_KL100',\n",
      " 'Rorb-IRES2-Cre',\n",
      " 'Scnn1a-Tg3-Cre',\n",
      " 'Slc17a7-IRES2-Cre',\n",
      " 'Sst-IRES-Cre',\n",
      " 'Tlx3-Cre_PL56',\n",
      " 'Vip-IRES-Cre']\n"
     ]
    }
   ],
   "source": [
    "# see all options for cre_lines\n",
    "cre_lines = boc.get_all_cre_lines()\n",
    "print(\"all cre lines:\\n\")\n",
    "pprint.pprint(cre_lines)"
   ]
  },
  {
   "cell_type": "code",
   "execution_count": 49,
   "id": "1cd6088e",
   "metadata": {
    "scrolled": false
   },
   "outputs": [
    {
     "name": "stdout",
     "output_type": "stream",
     "text": [
      "all VISp experiment containers: 216\n",
      "VISp cells: 22641\n",
      "cells with sig. response to drifting gratings: 13401\n",
      "Cell 11171 OSI: 0.7501914863971649\n",
      "Cell 11172 OSI: 0.7345623495066376\n",
      "Cell 11173 OSI: 1.7398847133238555\n",
      "Cell 11174 OSI: 0.41072669591745364\n",
      "Cell 11175 OSI: 1.0496776741912464\n",
      "Cell 11176 OSI: 0.5129040467844171\n",
      "Cell 11177 OSI: 1.0592610006383598\n",
      "Cell 11178 OSI: 0.9938361969418836\n",
      "Cell 11179 OSI: 0.9876686717034325\n",
      "Cell 11180 OSI: 0.8714247372743604\n",
      "Cell 11259 OSI: 0.695782117607795\n",
      "Cell 11260 OSI: 0.23475653077527064\n",
      "Cell 11261 OSI: 0.784538777675768\n",
      "Cell 11262 OSI: 0.6942027768576253\n",
      "Cell 11263 OSI: 0.7617093567707055\n",
      "Cell 11264 OSI: 0.5850376020247271\n",
      "Cell 11265 OSI: 0.9310416178710533\n",
      "Cell 11266 OSI: 0.613908067738145\n",
      "Cell 11267 OSI: 0.3845078185154952\n",
      "Cell 11268 OSI: 0.7035514907071753\n",
      "Cell 11269 OSI: 0.1194428770078478\n",
      "Cell 11270 OSI: 0.6631170381547908\n",
      "Cell 11271 OSI: 0.1264807496051591\n",
      "Cell 11272 OSI: 0.4557651841800871\n",
      "Cell 11273 OSI: 0.6995342042843554\n",
      "Cell 11274 OSI: 0.9150577786542808\n",
      "Cell 11275 OSI: 0.6319566848254857\n",
      "Cell 11276 OSI: 0.32327258117287666\n",
      "Cell 11277 OSI: 0.4629401217624364\n",
      "Cell 11278 OSI: 0.6186777082963344\n",
      "Cell 11279 OSI: 0.13887684775880377\n",
      "Cell 11280 OSI: 0.15741285940749858\n",
      "Cell 11281 OSI: 0.06710924385471954\n",
      "Cell 11282 OSI: 0.5824853299503313\n",
      "Cell 11283 OSI: 0.3640366171507461\n",
      "Cell 11284 OSI: 0.41760111808083106\n",
      "Cell 11285 OSI: 0.2838012046473124\n",
      "Cell 11286 OSI: 0.6617500328814688\n",
      "Cell 11287 OSI: 0.6890359209161135\n",
      "Cell 11288 OSI: 0.3536321089291385\n",
      "Cell 11289 OSI: 0.726894916003331\n",
      "Cell 11290 OSI: 0.14114671044764765\n",
      "Cell 11291 OSI: 0.594363636649975\n",
      "Cell 11292 OSI: 0.16171601088601661\n",
      "Cell 11293 OSI: 0.7443157518222572\n",
      "Cell 11294 OSI: 0.5809651761729412\n",
      "Cell 11295 OSI: 0.6174798967320547\n",
      "Cell 11296 OSI: 0.33732626618515704\n",
      "Cell 11297 OSI: 0.18174359925899328\n",
      "Cell 11298 OSI: 0.12597077619244001\n",
      "Cell 11299 OSI: 0.33460469175916296\n",
      "Cell 11300 OSI: 0.272453156909948\n",
      "Cell 11301 OSI: 0.7877721252527731\n",
      "Cell 11302 OSI: 1.6985131106238949\n",
      "Cell 11303 OSI: 0.47358081860801393\n",
      "Cell 11304 OSI: 0.1787081831181761\n",
      "Cell 11305 OSI: 0.44465773846030354\n",
      "Cell 11306 OSI: 0.7232727059091323\n",
      "Cell 11307 OSI: 1.7483517127598096\n",
      "Cell 11308 OSI: 0.9206619521597638\n",
      "Cell 11309 OSI: 1.9788619799725933\n",
      "Cell 11310 OSI: 0.5190395986987294\n",
      "Cell 11311 OSI: 0.4301265084921018\n",
      "Cell 11312 OSI: 0.8506254473496531\n",
      "Cell 11313 OSI: 0.5424080353003928\n",
      "Cell 11314 OSI: 1.7707872067270927\n",
      "Cell 11315 OSI: 0.8623158553660486\n",
      "Cell 11316 OSI: 0.4347576692671342\n",
      "Cell 11317 OSI: 0.7766504615706487\n",
      "Cell 11318 OSI: 1.0288560774669202\n",
      "Cell 11319 OSI: 0.6218945240300408\n",
      "Cell 11320 OSI: 0.7394846397596992\n",
      "Cell 11321 OSI: 1.5260039215673635\n",
      "Cell 11322 OSI: 1.1429309225462394\n",
      "Cell 11323 OSI: 0.9494521520622048\n",
      "Cell 11324 OSI: 1.1709880499905632\n",
      "Cell 11325 OSI: 1.447504806045289\n",
      "Cell 11326 OSI: 0.7244650948473668\n",
      "Cell 11327 OSI: 1.5785319571097254\n",
      "Cell 11328 OSI: 1.4624615947430821\n",
      "Cell 11329 OSI: 0.6946732050831604\n",
      "Cell 11330 OSI: 0.3315043663025362\n",
      "Cell 11331 OSI: 0.8566059281898099\n",
      "Cell 11332 OSI: 1.1824529870330571\n",
      "Cell 11333 OSI: 1.7142927071628558\n",
      "Cell 11334 OSI: 0.7491775250169828\n",
      "Cell 11335 OSI: 2.1323418430741787\n",
      "Cell 11336 OSI: 1.0972291863787205\n",
      "Cell 11337 OSI: 0.9336290228197921\n",
      "Cell 11338 OSI: 0.45255618219289295\n",
      "Cell 11339 OSI: 0.39686996307820543\n",
      "Cell 11340 OSI: 0.693843829701671\n",
      "Cell 11341 OSI: 0.1909890080221753\n",
      "Cell 11342 OSI: 0.6006758522831802\n",
      "Cell 11343 OSI: 0.6919686362116727\n",
      "Cell 11344 OSI: 0.5925814164273447\n",
      "Cell 11345 OSI: 0.6079212641114117\n",
      "Cell 11346 OSI: 0.7320532252670758\n",
      "Cell 11347 OSI: 1.0049930189979381\n",
      "Cell 11348 OSI: 0.45414860290789216\n",
      "Cell 11349 OSI: 0.7304101380800835\n",
      "Cell 11350 OSI: 0.41630137399665756\n",
      "Cell 11351 OSI: 2.2287842075793893\n",
      "Cell 11352 OSI: 0.7235395218584225\n",
      "Cell 11353 OSI: 0.3407186522426634\n",
      "Cell 11354 OSI: 0.8398287002077414\n"
     ]
    },
    {
     "name": "stderr",
     "output_type": "stream",
     "text": [
      "2022-08-05 09:02:07,406 allensdk.api.api.retrieve_file_over_http INFO     Downloading URL: http://api.brain-map.org/api/v2/well_known_file_download/670407866\n"
     ]
    },
    {
     "name": "stdout",
     "output_type": "stream",
     "text": [
      "Cell 11355 OSI: 0.6011280739200688\n",
      "Cell 11356 OSI: 0.5140115644492951\n",
      "Cell 11357 OSI: 0.8892260069730594\n"
     ]
    },
    {
     "name": "stderr",
     "output_type": "stream",
     "text": [
      "2022-08-05 09:04:02,907 allensdk.api.api.retrieve_file_over_http INFO     Downloading URL: http://api.brain-map.org/api/v2/well_known_file_download/672232452\n"
     ]
    },
    {
     "name": "stdout",
     "output_type": "stream",
     "text": [
      "Cell 11358 OSI: 0.6693993067517744\n",
      "Cell 11359 OSI: 1.0224170341685364\n",
      "Cell 11360 OSI: 0.5191643985548743\n",
      "Cell 11361 OSI: 1.3508991210876642\n",
      "Cell 11362 OSI: 0.9280945608962012\n",
      "Cell 11363 OSI: 0.6659893313299453\n",
      "Cell 11364 OSI: 1.0417252463988227\n",
      "Cell 11365 OSI: 0.37036916138467524\n",
      "Cell 11366 OSI: 0.517724084430021\n",
      "Cell 11367 OSI: 0.935327696732614\n",
      "Cell 11368 OSI: -436.36416975532364\n"
     ]
    },
    {
     "name": "stderr",
     "output_type": "stream",
     "text": [
      "2022-08-05 09:07:29,567 allensdk.api.api.retrieve_file_over_http INFO     Downloading URL: http://api.brain-map.org/api/v2/well_known_file_download/680176079\n"
     ]
    },
    {
     "name": "stdout",
     "output_type": "stream",
     "text": [
      "Cell 11369 OSI: 0.7730433210342086\n",
      "Cell 11370 OSI: 0.7436912618043161\n",
      "Cell 11371 OSI: 0.5671730754000085\n",
      "Cell 11372 OSI: 0.6462193265394529\n"
     ]
    },
    {
     "name": "stderr",
     "output_type": "stream",
     "text": [
      "2022-08-05 09:08:08,775 allensdk.api.api.retrieve_file_over_http INFO     Downloading URL: http://api.brain-map.org/api/v2/well_known_file_download/675527472\n",
      "2022-08-05 09:20:29,454 allensdk.api.api.retrieve_file_over_http ERROR    Couldn't retrieve file /Users/ethanyu/allen-data-proj/brain_observatory/ophys_experiment_data/675477919.nwb from http://api.brain-map.org/api/v2/well_known_file_download/675527472 (connection).\n"
     ]
    },
    {
     "ename": "ConnectionError",
     "evalue": "HTTPConnectionPool(host='api.brain-map.org', port=80): Read timed out.",
     "output_type": "error",
     "traceback": [
      "\u001b[0;31m---------------------------------------------------------------------------\u001b[0m",
      "\u001b[0;31mtimeout\u001b[0m                                   Traceback (most recent call last)",
      "\u001b[0;32m~/opt/anaconda3/envs/AllenInterface/lib/python3.7/site-packages/urllib3/response.py\u001b[0m in \u001b[0;36m_error_catcher\u001b[0;34m(self)\u001b[0m\n\u001b[1;32m    440\u001b[0m             \u001b[0;32mtry\u001b[0m\u001b[0;34m:\u001b[0m\u001b[0;34m\u001b[0m\u001b[0;34m\u001b[0m\u001b[0m\n\u001b[0;32m--> 441\u001b[0;31m                 \u001b[0;32myield\u001b[0m\u001b[0;34m\u001b[0m\u001b[0;34m\u001b[0m\u001b[0m\n\u001b[0m\u001b[1;32m    442\u001b[0m \u001b[0;34m\u001b[0m\u001b[0m\n",
      "\u001b[0;32m~/opt/anaconda3/envs/AllenInterface/lib/python3.7/site-packages/urllib3/response.py\u001b[0m in \u001b[0;36mread\u001b[0;34m(self, amt, decode_content, cache_content)\u001b[0m\n\u001b[1;32m    521\u001b[0m                 \u001b[0mcache_content\u001b[0m \u001b[0;34m=\u001b[0m \u001b[0;32mFalse\u001b[0m\u001b[0;34m\u001b[0m\u001b[0;34m\u001b[0m\u001b[0m\n\u001b[0;32m--> 522\u001b[0;31m                 \u001b[0mdata\u001b[0m \u001b[0;34m=\u001b[0m \u001b[0mself\u001b[0m\u001b[0;34m.\u001b[0m\u001b[0m_fp\u001b[0m\u001b[0;34m.\u001b[0m\u001b[0mread\u001b[0m\u001b[0;34m(\u001b[0m\u001b[0mamt\u001b[0m\u001b[0;34m)\u001b[0m \u001b[0;32mif\u001b[0m \u001b[0;32mnot\u001b[0m \u001b[0mfp_closed\u001b[0m \u001b[0;32melse\u001b[0m \u001b[0;34mb\"\"\u001b[0m\u001b[0;34m\u001b[0m\u001b[0;34m\u001b[0m\u001b[0m\n\u001b[0m\u001b[1;32m    523\u001b[0m                 if (\n",
      "\u001b[0;32m~/opt/anaconda3/envs/AllenInterface/lib/python3.7/http/client.py\u001b[0m in \u001b[0;36mread\u001b[0;34m(self, amt)\u001b[0m\n\u001b[1;32m    464\u001b[0m             \u001b[0mb\u001b[0m \u001b[0;34m=\u001b[0m \u001b[0mbytearray\u001b[0m\u001b[0;34m(\u001b[0m\u001b[0mamt\u001b[0m\u001b[0;34m)\u001b[0m\u001b[0;34m\u001b[0m\u001b[0;34m\u001b[0m\u001b[0m\n\u001b[0;32m--> 465\u001b[0;31m             \u001b[0mn\u001b[0m \u001b[0;34m=\u001b[0m \u001b[0mself\u001b[0m\u001b[0;34m.\u001b[0m\u001b[0mreadinto\u001b[0m\u001b[0;34m(\u001b[0m\u001b[0mb\u001b[0m\u001b[0;34m)\u001b[0m\u001b[0;34m\u001b[0m\u001b[0;34m\u001b[0m\u001b[0m\n\u001b[0m\u001b[1;32m    466\u001b[0m             \u001b[0;32mreturn\u001b[0m \u001b[0mmemoryview\u001b[0m\u001b[0;34m(\u001b[0m\u001b[0mb\u001b[0m\u001b[0;34m)\u001b[0m\u001b[0;34m[\u001b[0m\u001b[0;34m:\u001b[0m\u001b[0mn\u001b[0m\u001b[0;34m]\u001b[0m\u001b[0;34m.\u001b[0m\u001b[0mtobytes\u001b[0m\u001b[0;34m(\u001b[0m\u001b[0;34m)\u001b[0m\u001b[0;34m\u001b[0m\u001b[0;34m\u001b[0m\u001b[0m\n",
      "\u001b[0;32m~/opt/anaconda3/envs/AllenInterface/lib/python3.7/http/client.py\u001b[0m in \u001b[0;36mreadinto\u001b[0;34m(self, b)\u001b[0m\n\u001b[1;32m    508\u001b[0m         \u001b[0;31m# (for example, reading in 1k chunks)\u001b[0m\u001b[0;34m\u001b[0m\u001b[0;34m\u001b[0m\u001b[0;34m\u001b[0m\u001b[0m\n\u001b[0;32m--> 509\u001b[0;31m         \u001b[0mn\u001b[0m \u001b[0;34m=\u001b[0m \u001b[0mself\u001b[0m\u001b[0;34m.\u001b[0m\u001b[0mfp\u001b[0m\u001b[0;34m.\u001b[0m\u001b[0mreadinto\u001b[0m\u001b[0;34m(\u001b[0m\u001b[0mb\u001b[0m\u001b[0;34m)\u001b[0m\u001b[0;34m\u001b[0m\u001b[0;34m\u001b[0m\u001b[0m\n\u001b[0m\u001b[1;32m    510\u001b[0m         \u001b[0;32mif\u001b[0m \u001b[0;32mnot\u001b[0m \u001b[0mn\u001b[0m \u001b[0;32mand\u001b[0m \u001b[0mb\u001b[0m\u001b[0;34m:\u001b[0m\u001b[0;34m\u001b[0m\u001b[0;34m\u001b[0m\u001b[0m\n",
      "\u001b[0;32m~/opt/anaconda3/envs/AllenInterface/lib/python3.7/socket.py\u001b[0m in \u001b[0;36mreadinto\u001b[0;34m(self, b)\u001b[0m\n\u001b[1;32m    588\u001b[0m             \u001b[0;32mtry\u001b[0m\u001b[0;34m:\u001b[0m\u001b[0;34m\u001b[0m\u001b[0;34m\u001b[0m\u001b[0m\n\u001b[0;32m--> 589\u001b[0;31m                 \u001b[0;32mreturn\u001b[0m \u001b[0mself\u001b[0m\u001b[0;34m.\u001b[0m\u001b[0m_sock\u001b[0m\u001b[0;34m.\u001b[0m\u001b[0mrecv_into\u001b[0m\u001b[0;34m(\u001b[0m\u001b[0mb\u001b[0m\u001b[0;34m)\u001b[0m\u001b[0;34m\u001b[0m\u001b[0;34m\u001b[0m\u001b[0m\n\u001b[0m\u001b[1;32m    590\u001b[0m             \u001b[0;32mexcept\u001b[0m \u001b[0mtimeout\u001b[0m\u001b[0;34m:\u001b[0m\u001b[0;34m\u001b[0m\u001b[0;34m\u001b[0m\u001b[0m\n",
      "\u001b[0;31mtimeout\u001b[0m: timed out",
      "\nDuring handling of the above exception, another exception occurred:\n",
      "\u001b[0;31mReadTimeoutError\u001b[0m                          Traceback (most recent call last)",
      "\u001b[0;32m~/opt/anaconda3/envs/AllenInterface/lib/python3.7/site-packages/requests/models.py\u001b[0m in \u001b[0;36mgenerate\u001b[0;34m()\u001b[0m\n\u001b[1;32m    815\u001b[0m                 \u001b[0;32mtry\u001b[0m\u001b[0;34m:\u001b[0m\u001b[0;34m\u001b[0m\u001b[0;34m\u001b[0m\u001b[0m\n\u001b[0;32m--> 816\u001b[0;31m                     \u001b[0;32mfor\u001b[0m \u001b[0mchunk\u001b[0m \u001b[0;32min\u001b[0m \u001b[0mself\u001b[0m\u001b[0;34m.\u001b[0m\u001b[0mraw\u001b[0m\u001b[0;34m.\u001b[0m\u001b[0mstream\u001b[0m\u001b[0;34m(\u001b[0m\u001b[0mchunk_size\u001b[0m\u001b[0;34m,\u001b[0m \u001b[0mdecode_content\u001b[0m\u001b[0;34m=\u001b[0m\u001b[0;32mTrue\u001b[0m\u001b[0;34m)\u001b[0m\u001b[0;34m:\u001b[0m\u001b[0;34m\u001b[0m\u001b[0;34m\u001b[0m\u001b[0m\n\u001b[0m\u001b[1;32m    817\u001b[0m                         \u001b[0;32myield\u001b[0m \u001b[0mchunk\u001b[0m\u001b[0;34m\u001b[0m\u001b[0;34m\u001b[0m\u001b[0m\n",
      "\u001b[0;32m~/opt/anaconda3/envs/AllenInterface/lib/python3.7/site-packages/urllib3/response.py\u001b[0m in \u001b[0;36mstream\u001b[0;34m(self, amt, decode_content)\u001b[0m\n\u001b[1;32m    578\u001b[0m             \u001b[0;32mwhile\u001b[0m \u001b[0;32mnot\u001b[0m \u001b[0mis_fp_closed\u001b[0m\u001b[0;34m(\u001b[0m\u001b[0mself\u001b[0m\u001b[0;34m.\u001b[0m\u001b[0m_fp\u001b[0m\u001b[0;34m)\u001b[0m\u001b[0;34m:\u001b[0m\u001b[0;34m\u001b[0m\u001b[0;34m\u001b[0m\u001b[0m\n\u001b[0;32m--> 579\u001b[0;31m                 \u001b[0mdata\u001b[0m \u001b[0;34m=\u001b[0m \u001b[0mself\u001b[0m\u001b[0;34m.\u001b[0m\u001b[0mread\u001b[0m\u001b[0;34m(\u001b[0m\u001b[0mamt\u001b[0m\u001b[0;34m=\u001b[0m\u001b[0mamt\u001b[0m\u001b[0;34m,\u001b[0m \u001b[0mdecode_content\u001b[0m\u001b[0;34m=\u001b[0m\u001b[0mdecode_content\u001b[0m\u001b[0;34m)\u001b[0m\u001b[0;34m\u001b[0m\u001b[0;34m\u001b[0m\u001b[0m\n\u001b[0m\u001b[1;32m    580\u001b[0m \u001b[0;34m\u001b[0m\u001b[0m\n",
      "\u001b[0;32m~/opt/anaconda3/envs/AllenInterface/lib/python3.7/site-packages/urllib3/response.py\u001b[0m in \u001b[0;36mread\u001b[0;34m(self, amt, decode_content, cache_content)\u001b[0m\n\u001b[1;32m    543\u001b[0m                         \u001b[0;31m# Content-Length are caught.\u001b[0m\u001b[0;34m\u001b[0m\u001b[0;34m\u001b[0m\u001b[0;34m\u001b[0m\u001b[0m\n\u001b[0;32m--> 544\u001b[0;31m                         \u001b[0;32mraise\u001b[0m \u001b[0mIncompleteRead\u001b[0m\u001b[0;34m(\u001b[0m\u001b[0mself\u001b[0m\u001b[0;34m.\u001b[0m\u001b[0m_fp_bytes_read\u001b[0m\u001b[0;34m,\u001b[0m \u001b[0mself\u001b[0m\u001b[0;34m.\u001b[0m\u001b[0mlength_remaining\u001b[0m\u001b[0;34m)\u001b[0m\u001b[0;34m\u001b[0m\u001b[0;34m\u001b[0m\u001b[0m\n\u001b[0m\u001b[1;32m    545\u001b[0m \u001b[0;34m\u001b[0m\u001b[0m\n",
      "\u001b[0;32m~/opt/anaconda3/envs/AllenInterface/lib/python3.7/contextlib.py\u001b[0m in \u001b[0;36m__exit__\u001b[0;34m(self, type, value, traceback)\u001b[0m\n\u001b[1;32m    129\u001b[0m             \u001b[0;32mtry\u001b[0m\u001b[0;34m:\u001b[0m\u001b[0;34m\u001b[0m\u001b[0;34m\u001b[0m\u001b[0m\n\u001b[0;32m--> 130\u001b[0;31m                 \u001b[0mself\u001b[0m\u001b[0;34m.\u001b[0m\u001b[0mgen\u001b[0m\u001b[0;34m.\u001b[0m\u001b[0mthrow\u001b[0m\u001b[0;34m(\u001b[0m\u001b[0mtype\u001b[0m\u001b[0;34m,\u001b[0m \u001b[0mvalue\u001b[0m\u001b[0;34m,\u001b[0m \u001b[0mtraceback\u001b[0m\u001b[0;34m)\u001b[0m\u001b[0;34m\u001b[0m\u001b[0;34m\u001b[0m\u001b[0m\n\u001b[0m\u001b[1;32m    131\u001b[0m             \u001b[0;32mexcept\u001b[0m \u001b[0mStopIteration\u001b[0m \u001b[0;32mas\u001b[0m \u001b[0mexc\u001b[0m\u001b[0;34m:\u001b[0m\u001b[0;34m\u001b[0m\u001b[0;34m\u001b[0m\u001b[0m\n",
      "\u001b[0;32m~/opt/anaconda3/envs/AllenInterface/lib/python3.7/site-packages/urllib3/response.py\u001b[0m in \u001b[0;36m_error_catcher\u001b[0;34m(self)\u001b[0m\n\u001b[1;32m    445\u001b[0m                 \u001b[0;31m# there is yet no clean way to get at it from this context.\u001b[0m\u001b[0;34m\u001b[0m\u001b[0;34m\u001b[0m\u001b[0;34m\u001b[0m\u001b[0m\n\u001b[0;32m--> 446\u001b[0;31m                 \u001b[0;32mraise\u001b[0m \u001b[0mReadTimeoutError\u001b[0m\u001b[0;34m(\u001b[0m\u001b[0mself\u001b[0m\u001b[0;34m.\u001b[0m\u001b[0m_pool\u001b[0m\u001b[0;34m,\u001b[0m \u001b[0;32mNone\u001b[0m\u001b[0;34m,\u001b[0m \u001b[0;34m\"Read timed out.\"\u001b[0m\u001b[0;34m)\u001b[0m\u001b[0;34m\u001b[0m\u001b[0;34m\u001b[0m\u001b[0m\n\u001b[0m\u001b[1;32m    447\u001b[0m \u001b[0;34m\u001b[0m\u001b[0m\n",
      "\u001b[0;31mReadTimeoutError\u001b[0m: HTTPConnectionPool(host='api.brain-map.org', port=80): Read timed out.",
      "\nDuring handling of the above exception, another exception occurred:\n",
      "\u001b[0;31mConnectionError\u001b[0m                           Traceback (most recent call last)",
      "\u001b[0;32m/var/folders/pp/47yv7l2j4nl3228qpg3fkwg80000gn/T/ipykernel_88165/1674091603.py\u001b[0m in \u001b[0;36m<module>\u001b[0;34m\u001b[0m\n\u001b[0;32m----> 1\u001b[0;31m \u001b[0mcreate_histogram\u001b[0m\u001b[0;34m(\u001b[0m\u001b[0;34m'VISp'\u001b[0m\u001b[0;34m,\u001b[0m \u001b[0;32mTrue\u001b[0m\u001b[0;34m,\u001b[0m \u001b[0;32mFalse\u001b[0m\u001b[0;34m,\u001b[0m \u001b[0;32mTrue\u001b[0m\u001b[0;34m,\u001b[0m \u001b[0;34m[\u001b[0m\u001b[0;34m'Sst-IRES-Cre'\u001b[0m\u001b[0;34m,\u001b[0m \u001b[0;34m'Vip-IRES-Cre'\u001b[0m\u001b[0;34m,\u001b[0m \u001b[0;34m'Pvalb-IRES-Cre'\u001b[0m\u001b[0;34m]\u001b[0m\u001b[0;34m,\u001b[0m \u001b[0;32mNone\u001b[0m\u001b[0;34m)\u001b[0m\u001b[0;34m\u001b[0m\u001b[0;34m\u001b[0m\u001b[0m\n\u001b[0m\u001b[1;32m      2\u001b[0m \u001b[0;34m\u001b[0m\u001b[0m\n\u001b[1;32m      3\u001b[0m \u001b[0;34m\u001b[0m\u001b[0m\n",
      "\u001b[0;32m/var/folders/pp/47yv7l2j4nl3228qpg3fkwg80000gn/T/ipykernel_88165/2172664414.py\u001b[0m in \u001b[0;36mcreate_histogram\u001b[0;34m(targeted_struct, print_OSIs, print_other_vals, filter_vals, cre_lines_list, max_cells)\u001b[0m\n\u001b[1;32m     50\u001b[0m \u001b[0;34m\u001b[0m\u001b[0m\n\u001b[1;32m     51\u001b[0m     \u001b[0;32mwhile\u001b[0m \u001b[0mindex\u001b[0m \u001b[0;34m<\u001b[0m \u001b[0mmax_runs\u001b[0m \u001b[0;34m:\u001b[0m\u001b[0;34m\u001b[0m\u001b[0;34m\u001b[0m\u001b[0m\n\u001b[0;32m---> 52\u001b[0;31m         \u001b[0mcell_vals\u001b[0m \u001b[0;34m=\u001b[0m \u001b[0mdg_for_cell\u001b[0m\u001b[0;34m(\u001b[0m\u001b[0mboc\u001b[0m\u001b[0;34m,\u001b[0m \u001b[0mdsi_cells\u001b[0m\u001b[0;34m,\u001b[0m \u001b[0mindex\u001b[0m\u001b[0;34m,\u001b[0m \u001b[0;32mFalse\u001b[0m\u001b[0;34m,\u001b[0m \u001b[0;32mFalse\u001b[0m\u001b[0;34m,\u001b[0m \u001b[0;32mFalse\u001b[0m\u001b[0;34m,\u001b[0m \u001b[0;32mFalse\u001b[0m\u001b[0;34m,\u001b[0m \u001b[0;32mFalse\u001b[0m\u001b[0;34m,\u001b[0m \u001b[0mcre_lines_list\u001b[0m\u001b[0;34m)\u001b[0m\u001b[0;34m\u001b[0m\u001b[0;34m\u001b[0m\u001b[0m\n\u001b[0m\u001b[1;32m     53\u001b[0m         \u001b[0;32mif\u001b[0m \u001b[0;34m(\u001b[0m\u001b[0mcell_vals\u001b[0m \u001b[0;34m!=\u001b[0m \u001b[0;32mNone\u001b[0m\u001b[0;34m)\u001b[0m \u001b[0;34m:\u001b[0m\u001b[0;34m\u001b[0m\u001b[0;34m\u001b[0m\u001b[0m\n\u001b[1;32m     54\u001b[0m             \u001b[0mOSI\u001b[0m \u001b[0;34m=\u001b[0m \u001b[0mcell_vals\u001b[0m\u001b[0;34m[\u001b[0m\u001b[0;36m4\u001b[0m\u001b[0;34m]\u001b[0m\u001b[0;34m\u001b[0m\u001b[0;34m\u001b[0m\u001b[0m\n",
      "\u001b[0;32m/var/folders/pp/47yv7l2j4nl3228qpg3fkwg80000gn/T/ipykernel_88165/2563488620.py\u001b[0m in \u001b[0;36mdg_for_cell\u001b[0;34m(boc, dsi_cells, index, plot_trial_graphs, plot_stim_instances, plot_avg_graph, plot_trial_on_avg, show_text, cre_lines_list)\u001b[0m\n\u001b[1;32m     38\u001b[0m                                          stimuli=[stim_info.DRIFTING_GRATINGS])[0]\n\u001b[1;32m     39\u001b[0m \u001b[0;34m\u001b[0m\u001b[0m\n\u001b[0;32m---> 40\u001b[0;31m     \u001b[0mdata_set\u001b[0m \u001b[0;34m=\u001b[0m \u001b[0mboc\u001b[0m\u001b[0;34m.\u001b[0m\u001b[0mget_ophys_experiment_data\u001b[0m\u001b[0;34m(\u001b[0m\u001b[0mcell_exp\u001b[0m\u001b[0;34m[\u001b[0m\u001b[0;34m'id'\u001b[0m\u001b[0;34m]\u001b[0m\u001b[0;34m)\u001b[0m\u001b[0;34m\u001b[0m\u001b[0;34m\u001b[0m\u001b[0m\n\u001b[0m\u001b[1;32m     41\u001b[0m \u001b[0;34m\u001b[0m\u001b[0m\n\u001b[1;32m     42\u001b[0m     \u001b[0;32mif\u001b[0m \u001b[0;34m(\u001b[0m\u001b[0mshow_text\u001b[0m\u001b[0;34m)\u001b[0m\u001b[0;34m:\u001b[0m\u001b[0;34m\u001b[0m\u001b[0;34m\u001b[0m\u001b[0m\n",
      "\u001b[0;32m~/opt/anaconda3/envs/AllenInterface/lib/python3.7/site-packages/allensdk/core/brain_observatory_cache.py\u001b[0m in \u001b[0;36mget_ophys_experiment_data\u001b[0;34m(self, ophys_experiment_id, file_name)\u001b[0m\n\u001b[1;32m    485\u001b[0m             file_name, self.EXPERIMENT_DATA_KEY, ophys_experiment_id)\n\u001b[1;32m    486\u001b[0m \u001b[0;34m\u001b[0m\u001b[0m\n\u001b[0;32m--> 487\u001b[0;31m         \u001b[0mself\u001b[0m\u001b[0;34m.\u001b[0m\u001b[0mapi\u001b[0m\u001b[0;34m.\u001b[0m\u001b[0msave_ophys_experiment_data\u001b[0m\u001b[0;34m(\u001b[0m\u001b[0mophys_experiment_id\u001b[0m\u001b[0;34m,\u001b[0m \u001b[0mfile_name\u001b[0m\u001b[0;34m,\u001b[0m \u001b[0mstrategy\u001b[0m\u001b[0;34m=\u001b[0m\u001b[0;34m'lazy'\u001b[0m\u001b[0;34m)\u001b[0m\u001b[0;34m\u001b[0m\u001b[0;34m\u001b[0m\u001b[0m\n\u001b[0m\u001b[1;32m    488\u001b[0m \u001b[0;34m\u001b[0m\u001b[0m\n\u001b[1;32m    489\u001b[0m         \u001b[0;32mreturn\u001b[0m \u001b[0mBrainObservatoryNwbDataSet\u001b[0m\u001b[0;34m(\u001b[0m\u001b[0mfile_name\u001b[0m\u001b[0;34m)\u001b[0m\u001b[0;34m\u001b[0m\u001b[0;34m\u001b[0m\u001b[0m\n",
      "\u001b[0;32m~/opt/anaconda3/envs/AllenInterface/lib/python3.7/site-packages/allensdk/api/warehouse_cache/cache.py\u001b[0m in \u001b[0;36mw\u001b[0;34m(*args, **kwargs)\u001b[0m\n\u001b[1;32m    661\u001b[0m             result = Cache.cacher(func,\n\u001b[1;32m    662\u001b[0m                                   \u001b[0;34m*\u001b[0m\u001b[0margs\u001b[0m\u001b[0;34m,\u001b[0m\u001b[0;34m\u001b[0m\u001b[0;34m\u001b[0m\u001b[0m\n\u001b[0;32m--> 663\u001b[0;31m                                   **kwargs)\n\u001b[0m\u001b[1;32m    664\u001b[0m             \u001b[0;32mreturn\u001b[0m \u001b[0mresult\u001b[0m\u001b[0;34m\u001b[0m\u001b[0;34m\u001b[0m\u001b[0m\n\u001b[1;32m    665\u001b[0m \u001b[0;34m\u001b[0m\u001b[0m\n",
      "\u001b[0;32m~/opt/anaconda3/envs/AllenInterface/lib/python3.7/site-packages/allensdk/api/warehouse_cache/cache.py\u001b[0m in \u001b[0;36mcacher\u001b[0;34m(fn, *args, **kwargs)\u001b[0m\n\u001b[1;32m    385\u001b[0m                 \u001b[0mwriter\u001b[0m\u001b[0;34m(\u001b[0m\u001b[0mpath\u001b[0m\u001b[0;34m,\u001b[0m \u001b[0mdata\u001b[0m\u001b[0;34m)\u001b[0m\u001b[0;34m\u001b[0m\u001b[0;34m\u001b[0m\u001b[0m\n\u001b[1;32m    386\u001b[0m             \u001b[0;32melse\u001b[0m\u001b[0;34m:\u001b[0m\u001b[0;34m\u001b[0m\u001b[0;34m\u001b[0m\u001b[0m\n\u001b[0;32m--> 387\u001b[0;31m                 \u001b[0mdata\u001b[0m \u001b[0;34m=\u001b[0m \u001b[0mfn\u001b[0m\u001b[0;34m(\u001b[0m\u001b[0;34m*\u001b[0m\u001b[0margs\u001b[0m\u001b[0;34m,\u001b[0m \u001b[0;34m**\u001b[0m\u001b[0mkwargs\u001b[0m\u001b[0;34m)\u001b[0m\u001b[0;34m\u001b[0m\u001b[0;34m\u001b[0m\u001b[0m\n\u001b[0m\u001b[1;32m    388\u001b[0m \u001b[0;34m\u001b[0m\u001b[0m\n\u001b[1;32m    389\u001b[0m         \u001b[0;32mif\u001b[0m \u001b[0mreader\u001b[0m\u001b[0;34m:\u001b[0m\u001b[0;34m\u001b[0m\u001b[0;34m\u001b[0m\u001b[0m\n",
      "\u001b[0;32m~/opt/anaconda3/envs/AllenInterface/lib/python3.7/site-packages/allensdk/api/queries/brain_observatory_api.py\u001b[0m in \u001b[0;36msave_ophys_experiment_data\u001b[0;34m(self, ophys_experiment_id, file_name)\u001b[0m\n\u001b[1;32m    388\u001b[0m             \"Downloading ophys_experiment %d NWB. This can take some time.\" % ophys_experiment_id)\n\u001b[1;32m    389\u001b[0m \u001b[0;34m\u001b[0m\u001b[0m\n\u001b[0;32m--> 390\u001b[0;31m         \u001b[0mself\u001b[0m\u001b[0;34m.\u001b[0m\u001b[0mretrieve_file_over_http\u001b[0m\u001b[0;34m(\u001b[0m\u001b[0mself\u001b[0m\u001b[0;34m.\u001b[0m\u001b[0mapi_url\u001b[0m \u001b[0;34m+\u001b[0m \u001b[0mfile_url\u001b[0m\u001b[0;34m,\u001b[0m \u001b[0mfile_name\u001b[0m\u001b[0;34m)\u001b[0m\u001b[0;34m\u001b[0m\u001b[0;34m\u001b[0m\u001b[0m\n\u001b[0m\u001b[1;32m    391\u001b[0m \u001b[0;34m\u001b[0m\u001b[0m\n\u001b[1;32m    392\u001b[0m     @cacheable(strategy='create',\n",
      "\u001b[0;32m~/opt/anaconda3/envs/AllenInterface/lib/python3.7/site-packages/allensdk/api/api.py\u001b[0m in \u001b[0;36mretrieve_file_over_http\u001b[0;34m(self, url, file_path, zipped)\u001b[0m\n\u001b[1;32m    321\u001b[0m                 \u001b[0mstream_zip_directory_over_http\u001b[0m\u001b[0;34m(\u001b[0m\u001b[0murl\u001b[0m\u001b[0;34m,\u001b[0m \u001b[0mos\u001b[0m\u001b[0;34m.\u001b[0m\u001b[0mpath\u001b[0m\u001b[0;34m.\u001b[0m\u001b[0mdirname\u001b[0m\u001b[0;34m(\u001b[0m\u001b[0mfile_path\u001b[0m\u001b[0;34m)\u001b[0m\u001b[0;34m)\u001b[0m\u001b[0;34m\u001b[0m\u001b[0;34m\u001b[0m\u001b[0m\n\u001b[1;32m    322\u001b[0m             \u001b[0;32melse\u001b[0m\u001b[0;34m:\u001b[0m\u001b[0;34m\u001b[0m\u001b[0;34m\u001b[0m\u001b[0m\n\u001b[0;32m--> 323\u001b[0;31m                 \u001b[0mstream_file_over_http\u001b[0m\u001b[0;34m(\u001b[0m\u001b[0murl\u001b[0m\u001b[0;34m,\u001b[0m \u001b[0mfile_path\u001b[0m\u001b[0;34m)\u001b[0m\u001b[0;34m\u001b[0m\u001b[0;34m\u001b[0m\u001b[0m\n\u001b[0m\u001b[1;32m    324\u001b[0m \u001b[0;34m\u001b[0m\u001b[0m\n\u001b[1;32m    325\u001b[0m         \u001b[0;32mexcept\u001b[0m \u001b[0mexceptions\u001b[0m\u001b[0;34m.\u001b[0m\u001b[0mStreamingError\u001b[0m \u001b[0;32mas\u001b[0m \u001b[0me\u001b[0m\u001b[0;34m:\u001b[0m\u001b[0;34m\u001b[0m\u001b[0;34m\u001b[0m\u001b[0m\n",
      "\u001b[0;32m~/opt/anaconda3/envs/AllenInterface/lib/python3.7/site-packages/allensdk/api/api.py\u001b[0m in \u001b[0;36mstream_file_over_http\u001b[0;34m(url, file_path, timeout)\u001b[0m\n\u001b[1;32m    441\u001b[0m         \u001b[0mresponse\u001b[0m\u001b[0;34m.\u001b[0m\u001b[0mraise_for_status\u001b[0m\u001b[0;34m(\u001b[0m\u001b[0;34m)\u001b[0m\u001b[0;34m\u001b[0m\u001b[0;34m\u001b[0m\u001b[0m\n\u001b[1;32m    442\u001b[0m         \u001b[0;32mwith\u001b[0m \u001b[0mopen\u001b[0m\u001b[0;34m(\u001b[0m\u001b[0mfile_path\u001b[0m\u001b[0;34m,\u001b[0m \u001b[0;34m'wb'\u001b[0m\u001b[0;34m)\u001b[0m \u001b[0;32mas\u001b[0m \u001b[0mfil\u001b[0m\u001b[0;34m:\u001b[0m\u001b[0;34m\u001b[0m\u001b[0;34m\u001b[0m\u001b[0m\n\u001b[0;32m--> 443\u001b[0;31m             \u001b[0mstream\u001b[0m\u001b[0;34m.\u001b[0m\u001b[0mstream_response_to_file\u001b[0m\u001b[0;34m(\u001b[0m\u001b[0mresponse\u001b[0m\u001b[0;34m,\u001b[0m \u001b[0mpath\u001b[0m\u001b[0;34m=\u001b[0m\u001b[0mfil\u001b[0m\u001b[0;34m)\u001b[0m\u001b[0;34m\u001b[0m\u001b[0;34m\u001b[0m\u001b[0m\n\u001b[0m",
      "\u001b[0;32m~/opt/anaconda3/envs/AllenInterface/lib/python3.7/site-packages/requests_toolbelt/downloadutils/stream.py\u001b[0m in \u001b[0;36mstream_response_to_file\u001b[0;34m(response, path, chunksize)\u001b[0m\n\u001b[1;32m    169\u001b[0m         \u001b[0mfd\u001b[0m \u001b[0;34m=\u001b[0m \u001b[0mopen\u001b[0m\u001b[0;34m(\u001b[0m\u001b[0mfilename\u001b[0m\u001b[0;34m,\u001b[0m \u001b[0;34m'wb'\u001b[0m\u001b[0;34m)\u001b[0m\u001b[0;34m\u001b[0m\u001b[0;34m\u001b[0m\u001b[0m\n\u001b[1;32m    170\u001b[0m \u001b[0;34m\u001b[0m\u001b[0m\n\u001b[0;32m--> 171\u001b[0;31m     \u001b[0;32mfor\u001b[0m \u001b[0mchunk\u001b[0m \u001b[0;32min\u001b[0m \u001b[0mresponse\u001b[0m\u001b[0;34m.\u001b[0m\u001b[0miter_content\u001b[0m\u001b[0;34m(\u001b[0m\u001b[0mchunk_size\u001b[0m\u001b[0;34m=\u001b[0m\u001b[0mchunksize\u001b[0m\u001b[0;34m)\u001b[0m\u001b[0;34m:\u001b[0m\u001b[0;34m\u001b[0m\u001b[0;34m\u001b[0m\u001b[0m\n\u001b[0m\u001b[1;32m    172\u001b[0m         \u001b[0mfd\u001b[0m\u001b[0;34m.\u001b[0m\u001b[0mwrite\u001b[0m\u001b[0;34m(\u001b[0m\u001b[0mchunk\u001b[0m\u001b[0;34m)\u001b[0m\u001b[0;34m\u001b[0m\u001b[0;34m\u001b[0m\u001b[0m\n\u001b[1;32m    173\u001b[0m \u001b[0;34m\u001b[0m\u001b[0m\n",
      "\u001b[0;32m~/opt/anaconda3/envs/AllenInterface/lib/python3.7/site-packages/requests/models.py\u001b[0m in \u001b[0;36mgenerate\u001b[0;34m()\u001b[0m\n\u001b[1;32m    821\u001b[0m                     \u001b[0;32mraise\u001b[0m \u001b[0mContentDecodingError\u001b[0m\u001b[0;34m(\u001b[0m\u001b[0me\u001b[0m\u001b[0;34m)\u001b[0m\u001b[0;34m\u001b[0m\u001b[0;34m\u001b[0m\u001b[0m\n\u001b[1;32m    822\u001b[0m                 \u001b[0;32mexcept\u001b[0m \u001b[0mReadTimeoutError\u001b[0m \u001b[0;32mas\u001b[0m \u001b[0me\u001b[0m\u001b[0;34m:\u001b[0m\u001b[0;34m\u001b[0m\u001b[0;34m\u001b[0m\u001b[0m\n\u001b[0;32m--> 823\u001b[0;31m                     \u001b[0;32mraise\u001b[0m \u001b[0mConnectionError\u001b[0m\u001b[0;34m(\u001b[0m\u001b[0me\u001b[0m\u001b[0;34m)\u001b[0m\u001b[0;34m\u001b[0m\u001b[0;34m\u001b[0m\u001b[0m\n\u001b[0m\u001b[1;32m    824\u001b[0m                 \u001b[0;32mexcept\u001b[0m \u001b[0mSSLError\u001b[0m \u001b[0;32mas\u001b[0m \u001b[0me\u001b[0m\u001b[0;34m:\u001b[0m\u001b[0;34m\u001b[0m\u001b[0;34m\u001b[0m\u001b[0m\n\u001b[1;32m    825\u001b[0m                     \u001b[0;32mraise\u001b[0m \u001b[0mRequestsSSLError\u001b[0m\u001b[0;34m(\u001b[0m\u001b[0me\u001b[0m\u001b[0;34m)\u001b[0m\u001b[0;34m\u001b[0m\u001b[0;34m\u001b[0m\u001b[0m\n",
      "\u001b[0;31mConnectionError\u001b[0m: HTTPConnectionPool(host='api.brain-map.org', port=80): Read timed out."
     ]
    }
   ],
   "source": [
    "create_histogram('VISp', True, False, True, ['Sst-IRES-Cre', 'Vip-IRES-Cre', 'Pvalb-IRES-Cre'], None)\n",
    "\n",
    "\n"
   ]
  },
  {
   "cell_type": "code",
   "execution_count": 9,
   "id": "54b8305b",
   "metadata": {},
   "outputs": [
    {
     "name": "stdout",
     "output_type": "stream",
     "text": [
      "all VISl experiment containers: 118\n",
      "VISl cells: 13618\n",
      "cells with sig. response to drifting gratings: 6985\n",
      "0 OSI values collected\n"
     ]
    },
    {
     "name": "stderr",
     "output_type": "stream",
     "text": [
      "/Users/ethanyu/opt/anaconda3/envs/AllenInterface/lib/python3.7/site-packages/numpy/lib/histograms.py:906: RuntimeWarning: invalid value encountered in true_divide\n",
      "  return n/db/n.sum(), bin_edges\n"
     ]
    },
    {
     "data": {
      "image/png": "[encoded data removed]",
      "text/plain": [
       "<Figure size 432x288 with 1 Axes>"
      ]
     },
     "metadata": {
      "needs_background": "light"
     },
     "output_type": "display_data"
    }
   ],
   "source": [
    "create_histogram('VISl', True, False, True, ['Sst-IRES-Cre', 'Vip-IRES-Cre', 'Pvalb-IRES-Cre'], None)\n",
    "\n"
   ]
  },
  {
   "cell_type": "markdown",
   "id": "14cac2bb",
   "metadata": {},
   "source": [
    "Run to see data analysis done by the Allen Institute (peak response, OSI, gOSI, etc.) "
   ]
  },
  {
   "cell_type": "code",
   "execution_count": 17,
   "id": "b1b6b026",
   "metadata": {},
   "outputs": [
    {
     "name": "stdout",
     "output_type": "stream",
     "text": [
      "Peak dff: Allen 1.533 vs. est 1.533\n",
      "Pref dir: Allen 0 vs. est 0\n",
      "Pref tf: Allen 1 vs. est 1\n",
      "OSI: Allen 1.28 vs. est 1.28\n"
     ]
    }
   ],
   "source": [
    "dsi_cell = dsi_cells.iloc[15]\n",
    "print(\"Peak dff: Allen %0.3f\" % dsi_cell.peak_dff_dg, \"vs. est %0.3f\" % (cellInfo[0]*100))\n",
    "print(\"Pref dir: Allen %0.f\" % dsi_cell.pref_dir_dg, \"vs. est %0.f\" % cellInfo[2])\n",
    "print(\"Pref tf: Allen %0.f\" % dsi_cell.pref_tf_dg, \"vs. est %0.f\" % cellInfo[1])\n",
    "print(\"OSI: Allen %.2f\" % dsi_cell.osi_dg, \"vs. est %.2f\" % cellInfo[4])"
   ]
  },
  {
   "cell_type": "code",
   "execution_count": null,
   "id": "51a42e0f",
   "metadata": {},
   "outputs": [],
   "source": []
  }
 ],
 "metadata": {
  "kernelspec": {
   "display_name": "Python 3 (ipykernel)",
   "language": "python",
   "name": "python3"
  },
  "language_info": {
   "codemirror_mode": {
    "name": "ipython",
    "version": 3
   },
   "file_extension": ".py",
   "mimetype": "text/x-python",
   "name": "python",
   "nbconvert_exporter": "python",
   "pygments_lexer": "ipython3",
   "version": "3.7.13"
  }
 },
 "nbformat": 4,
 "nbformat_minor": 5
}
