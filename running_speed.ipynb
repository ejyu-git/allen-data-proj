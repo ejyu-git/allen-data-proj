{
 "cells": [
  {
   "cell_type": "code",
   "execution_count": 1,
   "id": "143173f9",
   "metadata": {},
   "outputs": [],
   "source": [
    "## Running Speed "
   ]
  },
  {
   "cell_type": "code",
   "execution_count": 2,
   "id": "963a2337",
   "metadata": {},
   "outputs": [],
   "source": [
    "from allensdk.core.brain_observatory_cache import BrainObservatoryCache\n",
    "import pprint\n",
    "\n",
    "# This class uses a 'manifest' to keep track of downloaded data and metadata.  \n",
    "# All downloaded files will be stored relative to the directory holding the manifest\n",
    "# file.  If 'manifest_file' is a relative path (as it is below), it will be \n",
    "# saved relative to your working directory.  It can also be an absolute path.\n",
    "boc = BrainObservatoryCache()"
   ]
  },
  {
   "cell_type": "code",
   "execution_count": 3,
   "id": "f5beed58",
   "metadata": {},
   "outputs": [
    {
     "name": "stdout",
     "output_type": "stream",
     "text": [
      "all VISp experiment containers: 216\n"
     ]
    }
   ],
   "source": [
    "# Download experiment containers for VISp experiments\n",
    "visp_ecs = boc.get_experiment_containers(targeted_structures=['VISp'])\n",
    "print(\"all VISp experiment containers: %d\" % len(visp_ecs))"
   ]
  },
  {
   "cell_type": "code",
   "execution_count": 4,
   "id": "debc887e",
   "metadata": {},
   "outputs": [
    {
     "name": "stdout",
     "output_type": "stream",
     "text": [
      "total cells: 63251\n",
      "VISp cells: 22641\n",
      "cells with sig. response to drifting gratings: 13401\n",
      "direction-selective cells: 1159\n"
     ]
    }
   ],
   "source": [
    "import pandas as pd\n",
    "\n",
    "# Download cells for a set of experiments and convert to DataFrame\n",
    "cells = boc.get_cell_specimens()\n",
    "cells = pd.DataFrame.from_records(cells)\n",
    "print(\"total cells: %d\" % len(cells))\n",
    "\n",
    "# find direction selective cells in VISp\n",
    "visp_ec_ids = [ ec['id'] for ec in visp_ecs ]\n",
    "visp_cells = cells[cells['experiment_container_id'].isin(visp_ec_ids)]\n",
    "print(\"VISp cells: %d\" % len(visp_cells))\n",
    "\n",
    "# significant response to drifting gratings stimulus\n",
    "sig_cells = visp_cells[visp_cells['p_dg'] < 0.05]\n",
    "print(\"cells with sig. response to drifting gratings: %d\" % len(sig_cells))\n",
    "\n",
    "# direction selective cells\n",
    "dsi_cells = sig_cells[(sig_cells['g_dsi_dg'] > 0.9)]\n",
    "print(\"direction-selective cells: %d\" % len(dsi_cells))"
   ]
  },
  {
   "cell_type": "code",
   "execution_count": 6,
   "id": "a36d6c64",
   "metadata": {},
   "outputs": [
    {
     "name": "stdout",
     "output_type": "stream",
     "text": [
      "total dsi experiment containers: 104\n",
      "VISp drifting gratings ophys experiments: 104\n"
     ]
    }
   ],
   "source": [
    "import allensdk.brain_observatory.stimulus_info as stim_info\n",
    "\n",
    "# find experiment containers for those cells\n",
    "dsi_ec_ids = dsi_cells['experiment_container_id'].unique()\n",
    "print(\"total dsi experiment containers: %d\" % len(dsi_ec_ids))\n",
    "\n",
    "# Download the ophys experiments containing the drifting gratings stimulus for VISp experiment containers\n",
    "dsi_exps = boc.get_ophys_experiments(experiment_container_ids=dsi_ec_ids, stimuli=[stim_info.DRIFTING_GRATINGS])\n",
    "print(\"VISp drifting gratings ophys experiments: %d\" % len(dsi_exps))"
   ]
  },
  {
   "cell_type": "code",
   "execution_count": 12,
   "id": "85363c86",
   "metadata": {},
   "outputs": [],
   "source": [
    "from matplotlib import pyplot as plt\n",
    "%matplotlib inline\n",
    "\n",
    "import matplotlib.pyplot as plt\n",
    "import matplotlib.patches as patches\n",
    "%matplotlib inline\n",
    "import numpy as np\n",
    "\n",
    "def plot_stimulus_table(stim_table, title):\n",
    "    fstart = stim_table.start.min()\n",
    "    fend = stim_table.end.max()\n",
    "    \n",
    "    fig = plt.figure(figsize=(15,1))\n",
    "    ax = fig.gca()\n",
    "    for i, trial in stim_table.iterrows():    \n",
    "        x1 = float(trial.start - fstart) / (fend - fstart)\n",
    "        x2 = float(trial.end - fstart) / (fend - fstart)            \n",
    "        ax.add_patch(patches.Rectangle((x1, 0.0), x2 - x1, 1.0, color='r'))\n",
    "    ax.set_xticks((0,1))\n",
    "    ax.set_xticklabels((fstart, fend))\n",
    "    ax.set_yticks(())\n",
    "    ax.set_title(title)\n",
    "    ax.set_xlabel(\"frames\")\n"
   ]
  },
  {
   "cell_type": "code",
   "execution_count": 17,
   "id": "ad9a8077",
   "metadata": {},
   "outputs": [],
   "source": [
    "# exp: ophys experiment number\n",
    "# freq: temporal frequency of stimulus\n",
    "# ori: orientation of stimulus\n",
    "def my_func(exp, freq, ori):\n",
    "    data_set = boc.get_ophys_experiment_data(exp)\n",
    "    \n",
    "    pprint.pprint(data_set.get_metadata())\n",
    "    \n",
    "    # plot running speed over course of entire experiment\n",
    "    dxcm, dxtime = data_set.get_running_speed()\n",
    "    plt.figure(figsize=(14,4))\n",
    "    plt.plot(dxtime, dxcm)\n",
    "    plt.title(\"Running speed over course of experiment\")\n",
    "    plt.show()\n",
    "    \n",
    "    \n",
    "    # this is a pandas DataFrame. find trials with a given stimulus condition.\n",
    "    # 40 diff total conditions\n",
    "    temporal_frequency = freq\n",
    "    orientation = ori\n",
    "    stim_table = data_set.get_stimulus_table('drifting_gratings')\n",
    "    stim_table = stim_table[(stim_table.temporal_frequency == temporal_frequency) & \n",
    "                            (stim_table.orientation == orientation)]\n",
    "    # plot of instances of stimulus frames\n",
    "    plot_stimulus_table(stim_table, \"Instances of Stimuli, TF %d ORI %d\" % (temporal_frequency, orientation))\n",
    "    plt.show()\n",
    "    \n",
    "    \n",
    "    # grab running speed at time intervals of desired stimulus conditions\n",
    "    \n",
    "    \n",
    "    \n",
    "    \n",
    "    \n",
    "    \n",
    "    "
   ]
  },
  {
   "cell_type": "code",
   "execution_count": 18,
   "id": "0f6cd1bf",
   "metadata": {},
   "outputs": [
    {
     "name": "stdout",
     "output_type": "stream",
     "text": [
      "{'age_days': 93,\n",
      " 'cre_line': 'Scnn1a-Tg3-Cre/wt',\n",
      " 'device': 'Nikon A1R-MP multiphoton microscope',\n",
      " 'device_name': 'CAM2P.2',\n",
      " 'excitation_lambda': '910 nanometers',\n",
      " 'experiment_container_id': 511498742,\n",
      " 'fov': '400x400 microns (512 x 512 pixels)',\n",
      " 'genotype': 'Scnn1a-Tg3-Cre/wt;Camk2a-tTA/wt;Ai93(TITL-GCaMP6f)/Ai93(TITL-GCaMP6f)',\n",
      " 'imaging_depth_um': 350,\n",
      " 'indicator': 'GCaMP6f',\n",
      " 'ophys_experiment_id': 511534603,\n",
      " 'pipeline_version': '3.0',\n",
      " 'session_start_time': datetime.datetime(2016, 4, 1, 9, 12, 3),\n",
      " 'session_type': 'three_session_A',\n",
      " 'sex': 'female',\n",
      " 'specimen_name': 'Scnn1a-Tg3-Cre;Camk2a-tTA;Ai93-231953',\n",
      " 'targeted_structure': 'VISp'}\n"
     ]
    },
    {
     "data": {
      "image/png": "[encoded data removed]",
      "text/plain": [
       "<Figure size 1080x72 with 1 Axes>"
      ]
     },
     "metadata": {
      "needs_background": "light"
     },
     "output_type": "display_data"
    },
    {
     "data": {
      "image/png": "[encoded data removed]",
      "text/plain": [
       "<Figure size 1008x288 with 1 Axes>"
      ]
     },
     "metadata": {
      "needs_background": "light"
     },
     "output_type": "display_data"
    }
   ],
   "source": [
    "my_func(511534603, 4, 225)"
   ]
  },
  {
   "cell_type": "code",
   "execution_count": null,
   "id": "fcce0f79",
   "metadata": {},
   "outputs": [],
   "source": []
  }
 ],
 "metadata": {
  "kernelspec": {
   "display_name": "Python 3 (ipykernel)",
   "language": "python",
   "name": "python3"
  },
  "language_info": {
   "codemirror_mode": {
    "name": "ipython",
    "version": 3
   },
   "file_extension": ".py",
   "mimetype": "text/x-python",
   "name": "python",
   "nbconvert_exporter": "python",
   "pygments_lexer": "ipython3",
   "version": "3.7.13"
  }
 },
 "nbformat": 4,
 "nbformat_minor": 5
}
