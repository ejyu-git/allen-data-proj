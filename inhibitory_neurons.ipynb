{
 "cells": [
  {
   "cell_type": "markdown",
   "id": "36df25f7",
   "metadata": {},
   "source": [
    "# Inhibitory Neuron Analysis"
   ]
  },
  {
   "cell_type": "markdown",
   "id": "cb69ee40",
   "metadata": {},
   "source": [
    "Create manifest to keep track of data"
   ]
  },
  {
   "cell_type": "code",
   "execution_count": 5,
   "id": "6c6b9dc9",
   "metadata": {},
   "outputs": [],
   "source": [
    "from allensdk.core.brain_observatory_cache import BrainObservatoryCache\n",
    "import pprint\n",
    "\n",
    "# This class uses a 'manifest' to keep track of downloaded data and metadata.  \n",
    "# All downloaded files will be stored relative to the directory holding the manifest\n",
    "# file.  If 'manifest_file' is a relative path (as it is below), it will be \n",
    "# saved relative to your working directory.  It can also be an absolute path.\n",
    "boc = BrainObservatoryCache()"
   ]
  },
  {
   "cell_type": "code",
   "execution_count": 6,
   "id": "3b4f0d88",
   "metadata": {},
   "outputs": [],
   "source": [
    "from ipynb.fs.defs.drifting_gratings import create_histogram"
   ]
  },
  {
   "cell_type": "code",
   "execution_count": 7,
   "id": "b6b50fe7",
   "metadata": {},
   "outputs": [
    {
     "name": "stdout",
     "output_type": "stream",
     "text": [
      "all cre lines:\n",
      "\n",
      "['Cux2-CreERT2',\n",
      " 'Emx1-IRES-Cre',\n",
      " 'Fezf2-CreER',\n",
      " 'Nr5a1-Cre',\n",
      " 'Ntsr1-Cre_GN220',\n",
      " 'Pvalb-IRES-Cre',\n",
      " 'Rbp4-Cre_KL100',\n",
      " 'Rorb-IRES2-Cre',\n",
      " 'Scnn1a-Tg3-Cre',\n",
      " 'Slc17a7-IRES2-Cre',\n",
      " 'Sst-IRES-Cre',\n",
      " 'Tlx3-Cre_PL56',\n",
      " 'Vip-IRES-Cre']\n"
     ]
    }
   ],
   "source": [
    "# Download a list of all cre driver lines \n",
    "cre_lines = boc.get_all_cre_lines()\n",
    "print(\"all cre lines:\\n\")\n",
    "pprint.pprint(cre_lines)"
   ]
  },
  {
   "cell_type": "code",
   "execution_count": 14,
   "id": "ad10d68d",
   "metadata": {},
   "outputs": [
    {
     "name": "stdout",
     "output_type": "stream",
     "text": [
      "Sst experiments: 64\n",
      "\n",
      "Example experiment container record:\n",
      "{'cre_line': 'Sst-IRES-Cre',\n",
      " 'donor_name': '306500',\n",
      " 'failed': False,\n",
      " 'id': 660492886,\n",
      " 'imaging_depth': 275,\n",
      " 'reporter_line': 'Ai148(TIT2L-GC6f-ICL-tTA2)',\n",
      " 'specimen_name': 'Sst-IRES-Cre;Ai148(CAM)-306500',\n",
      " 'tags': [],\n",
      " 'targeted_structure': 'VISal'}\n",
      "\n",
      "\n",
      "Vip experiments: 76\n",
      "\n",
      "Example experiment container record:\n",
      "{'cre_line': 'Vip-IRES-Cre',\n",
      " 'donor_name': '336246',\n",
      " 'failed': False,\n",
      " 'id': 617388115,\n",
      " 'imaging_depth': 175,\n",
      " 'reporter_line': 'Ai148(TIT2L-GC6f-ICL-tTA2)',\n",
      " 'specimen_name': 'Vip-IRES-Cre;Ai148-336246',\n",
      " 'tags': [],\n",
      " 'targeted_structure': 'VISpm'}\n"
     ]
    }
   ],
   "source": [
    "# Download experiment containers for Sst and Vip experiments\n",
    "Sst_ecs = boc.get_experiment_containers(cre_lines=['Sst-IRES-Cre'])\n",
    "print(\"Sst experiments: %d\\n\" % len(Sst_ecs))\n",
    "\n",
    "print(\"Example experiment container record:\")\n",
    "pprint.pprint(Sst_ecs[0])\n",
    "print(\"\\n\")\n",
    "\n",
    "\n",
    "Vip_ecs = boc.get_experiment_containers(cre_lines=['Vip-IRES-Cre'])\n",
    "print(\"Vip experiments: %d\\n\" % len(Vip_ecs))\n",
    "\n",
    "print(\"Example experiment container record:\")\n",
    "pprint.pprint(Vip_ecs[0])\n",
    "\n"
   ]
  },
  {
   "cell_type": "code",
   "execution_count": null,
   "id": "90c90680",
   "metadata": {},
   "outputs": [],
   "source": [
    "\n"
   ]
  }
 ],
 "metadata": {
  "kernelspec": {
   "display_name": "Python 3 (ipykernel)",
   "language": "python",
   "name": "python3"
  },
  "language_info": {
   "codemirror_mode": {
    "name": "ipython",
    "version": 3
   },
   "file_extension": ".py",
   "mimetype": "text/x-python",
   "name": "python",
   "nbconvert_exporter": "python",
   "pygments_lexer": "ipython3",
   "version": "3.7.13"
  }
 },
 "nbformat": 4,
 "nbformat_minor": 5
}
