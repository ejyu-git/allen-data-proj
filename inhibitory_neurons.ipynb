{
 "cells": [
  {
   "cell_type": "markdown",
   "id": "e9193ea0",
   "metadata": {},
   "source": [
    "# Inhibitory Neuron Analysis"
   ]
  },
  {
   "cell_type": "markdown",
   "id": "15afb9ad",
   "metadata": {},
   "source": [
    "Create manifest to keep track of data"
   ]
  },
  {
   "cell_type": "code",
   "execution_count": 1,
   "id": "69f0d9a3",
   "metadata": {},
   "outputs": [],
   "source": [
    "from allensdk.core.brain_observatory_cache import BrainObservatoryCache\n",
    "import pprint\n",
    "import pandas as pd\n",
    "from matplotlib import pyplot as plt\n",
    "%matplotlib inline\n",
    "import matplotlib.pyplot as plt\n",
    "import matplotlib.patches as patches\n",
    "\n",
    "import numpy as np\n",
    "import cmath\n",
    "\n",
    "# This class uses a 'manifest' to keep track of downloaded data and metadata.  \n",
    "# All downloaded files will be stored relative to the directory holding the manifest\n",
    "# file.  If 'manifest_file' is a relative path (as it is below), it will be \n",
    "# saved relative to your working directory.  It can also be an absolute path.\n",
    "boc = BrainObservatoryCache()"
   ]
  },
  {
   "cell_type": "code",
   "execution_count": 5,
   "id": "5ca4a90d",
   "metadata": {},
   "outputs": [],
   "source": [
    "# import functions from drifting_gratings file\n",
    "\n",
    "from ipynb.fs.defs.drifting_gratings import dg_for_cell\n",
    "from ipynb.fs.defs.drifting_gratings import plot_dg"
   ]
  },
  {
   "cell_type": "code",
   "execution_count": 6,
   "id": "f2b92983",
   "metadata": {},
   "outputs": [
    {
     "name": "stdout",
     "output_type": "stream",
     "text": [
      "all cre lines:\n",
      "\n",
      "['Cux2-CreERT2',\n",
      " 'Emx1-IRES-Cre',\n",
      " 'Fezf2-CreER',\n",
      " 'Nr5a1-Cre',\n",
      " 'Ntsr1-Cre_GN220',\n",
      " 'Pvalb-IRES-Cre',\n",
      " 'Rbp4-Cre_KL100',\n",
      " 'Rorb-IRES2-Cre',\n",
      " 'Scnn1a-Tg3-Cre',\n",
      " 'Slc17a7-IRES2-Cre',\n",
      " 'Sst-IRES-Cre',\n",
      " 'Tlx3-Cre_PL56',\n",
      " 'Vip-IRES-Cre']\n"
     ]
    }
   ],
   "source": [
    "# Download a list of all cre driver lines \n",
    "cre_lines = boc.get_all_cre_lines()\n",
    "print(\"all cre lines:\\n\")\n",
    "pprint.pprint(cre_lines)"
   ]
  },
  {
   "cell_type": "code",
   "execution_count": 7,
   "id": "f0f664a3",
   "metadata": {},
   "outputs": [
    {
     "name": "stdout",
     "output_type": "stream",
     "text": [
      "Sst experiments: 64\n",
      "\n",
      "Example experiment container record:\n",
      "{'cre_line': 'Sst-IRES-Cre',\n",
      " 'donor_name': '306500',\n",
      " 'failed': False,\n",
      " 'id': 660492886,\n",
      " 'imaging_depth': 275,\n",
      " 'reporter_line': 'Ai148(TIT2L-GC6f-ICL-tTA2)',\n",
      " 'specimen_name': 'Sst-IRES-Cre;Ai148(CAM)-306500',\n",
      " 'tags': [],\n",
      " 'targeted_structure': 'VISal'}\n",
      "\n",
      "\n",
      "Vip experiments: 76\n",
      "\n",
      "Example experiment container record:\n",
      "{'cre_line': 'Vip-IRES-Cre',\n",
      " 'donor_name': '336246',\n",
      " 'failed': False,\n",
      " 'id': 617388115,\n",
      " 'imaging_depth': 175,\n",
      " 'reporter_line': 'Ai148(TIT2L-GC6f-ICL-tTA2)',\n",
      " 'specimen_name': 'Vip-IRES-Cre;Ai148-336246',\n",
      " 'tags': [],\n",
      " 'targeted_structure': 'VISpm'}\n"
     ]
    }
   ],
   "source": [
    "# Download experiment containers for Sst and Vip experiments\n",
    "Sst_ecs = boc.get_experiment_containers(cre_lines=['Sst-IRES-Cre'])\n",
    "print(\"Sst experiments: %d\\n\" % len(Sst_ecs))\n",
    "\n",
    "print(\"Example experiment container record:\")\n",
    "pprint.pprint(Sst_ecs[0])\n",
    "print(\"\\n\")\n",
    "\n",
    "\n",
    "Vip_ecs = boc.get_experiment_containers(cre_lines=['Vip-IRES-Cre'])\n",
    "print(\"Vip experiments: %d\\n\" % len(Vip_ecs))\n",
    "\n",
    "print(\"Example experiment container record:\")\n",
    "pprint.pprint(Vip_ecs[0])\n",
    "\n"
   ]
  },
  {
   "cell_type": "code",
   "execution_count": 8,
   "id": "f9d747aa",
   "metadata": {},
   "outputs": [],
   "source": [
    "# create_histogram(targeted_struct): creates histogram of OSI of all cells in desired cortical layer\n",
    "# \n",
    "#\n",
    "#\n",
    "#\n",
    "# targeted_struct: string argument identifying desired cortical layer. Options are\n",
    "# 'VISal', 'VISam', 'VISl', 'VISp', 'VISpm', 'VISrl'. Higher order visual cortices (VISam, VISpm, VISrl) show\n",
    "# decreased activity with increased running speed\n",
    "# print_OSIs: when set to true, will print the OSIs for each cell\n",
    "# print_other_vals: when set to true, will print the Rmax, pref TF, pref ORI, Rorth, and gOSI\n",
    "# filter_vals: when set to true, creates the histogram and excludes OSIs below 0 or above 2\n",
    "#\n",
    "# Warning: will require downloading nwb files for many cells. Will take a while \n",
    "def histogram_for_exp(exp_cont, print_OSIs, print_other_vals, filter_vals) :\n",
    "    \n",
    "    # Download experiment containers for experiments of target structure\n",
    "    exp_containers = exp_cont\n",
    "    print(\"all Sst experiment containers: %d\" % (len(exp_containers)))\n",
    "    \n",
    "    # Download cells for a set of experiments and convert to DataFrame\n",
    "    cells = boc.get_cell_specimens() # this code may be moved outside of the function?\n",
    "    cells = pd.DataFrame.from_records(cells)\n",
    "    print(\"total cells: %d\" % len(cells))\n",
    "\n",
    "    # find direction selective cells in VISp\n",
    "    exp_container_ids = [ ec['id'] for ec in exp_containers ]\n",
    "    structure_cells = cells[cells['experiment_container_id'].isin(exp_container_ids)]\n",
    "    print(\"cells: %d\" % len(structure_cells))\n",
    "\n",
    "    # significant response to drifting gratings stimulus\n",
    "    sig_cells = structure_cells[structure_cells['p_dg'] < 0.05]\n",
    "    print(\"cells with sig. response to drifting gratings: %d\" % len(sig_cells))\n",
    "\n",
    "    # direction selective cells\n",
    "    dsi_cells = sig_cells[(sig_cells['g_dsi_dg'] > 0.9)]\n",
    "    print(\"direction-selective cells: %d\" % len(dsi_cells))\n",
    "\n",
    "    OSIs = [0] * len(dsi_cells)\n",
    "    OSI_index=0\n",
    "    index = 0\n",
    "    \n",
    "    while index < len(dsi_cells) :\n",
    "        cell_vals = dg_for_cell(boc, dsi_cells, index, False, False, False, False, False)\n",
    "        OSI = cell_vals[4]\n",
    "        OSIs[OSI_index] = OSI\n",
    "        if (print_OSIs) : print(index, \"OSI:\", OSI)\n",
    "        if (print_other_vals) : \n",
    "            print(\"Rmax:\", cell_vals[0])\n",
    "            print(\"Pref TF:\", cell_vals[1])\n",
    "            print(\"Pref ORI:\", cell_vals[2])\n",
    "            print(\"Rorth:\", cell_vals[3])\n",
    "            print(\"gOSI:\", cell_vals[5])\n",
    "            \n",
    "        index += 1\n",
    "        OSI_index += 1\n",
    "    \n",
    "    if(filter_vals):\n",
    "        filtered_OSIs = filter(lambda tar_OSI: 0 <= tar_OSI <= 2, OSIs)\n",
    "        OSIs_to_plot = filtered_OSIs\n",
    "    else :\n",
    "        OSIs_to_plot = OSIs\n",
    "        \n",
    "    plt.hist(list(OSIs_to_plot), 50, density = 1)\n",
    "    if (filter_vals): plt.title(\"Distribution of OSI values for all cells in %s (after filtering)\" % targeted_struct)\n",
    "    else : plt.title(\"Distribution of OSI values for all cells in %s (prior to filtering)\" % targeted_struct)\n",
    "    plt.xlabel('Orientation Selectivity Index for Drifting Gratings')\n",
    "    plt.ylabel('Number of Cells')\n",
    "    \n"
   ]
  },
  {
   "cell_type": "code",
   "execution_count": 9,
   "id": "7c5fe708",
   "metadata": {},
   "outputs": [
    {
     "name": "stdout",
     "output_type": "stream",
     "text": [
      "all Sst experiment containers: 64\n",
      "total cells: 63251\n",
      "cells: 884\n",
      "cells with sig. response to drifting gratings: 536\n",
      "direction-selective cells: 2\n"
     ]
    },
    {
     "name": "stderr",
     "output_type": "stream",
     "text": [
      "2022-07-28 13:33:17,784 allensdk.api.api.retrieve_file_over_http INFO     Downloading URL: http://api.brain-map.org/api/v2/well_known_file_download/596947516\n"
     ]
    },
    {
     "name": "stdout",
     "output_type": "stream",
     "text": [
      "0 OSI: 1.2993595107083262\n"
     ]
    },
    {
     "name": "stderr",
     "output_type": "stream",
     "text": [
      "2022-07-28 13:40:10,030 allensdk.api.api.retrieve_file_over_http INFO     Downloading URL: http://api.brain-map.org/api/v2/well_known_file_download/598817762\n"
     ]
    },
    {
     "name": "stdout",
     "output_type": "stream",
     "text": [
      "1 OSI: 1.354504494692853\n"
     ]
    },
    {
     "ename": "NameError",
     "evalue": "name 'targeted_struct' is not defined",
     "output_type": "error",
     "traceback": [
      "\u001b[0;31m---------------------------------------------------------------------------\u001b[0m",
      "\u001b[0;31mNameError\u001b[0m                                 Traceback (most recent call last)",
      "\u001b[0;32m/var/folders/pp/47yv7l2j4nl3228qpg3fkwg80000gn/T/ipykernel_25419/3552700453.py\u001b[0m in \u001b[0;36m<module>\u001b[0;34m\u001b[0m\n\u001b[0;32m----> 1\u001b[0;31m \u001b[0mhistogram_for_exp\u001b[0m\u001b[0;34m(\u001b[0m\u001b[0mSst_ecs\u001b[0m\u001b[0;34m,\u001b[0m \u001b[0;32mTrue\u001b[0m\u001b[0;34m,\u001b[0m \u001b[0;32mFalse\u001b[0m\u001b[0;34m,\u001b[0m \u001b[0;32mFalse\u001b[0m\u001b[0;34m)\u001b[0m\u001b[0;34m\u001b[0m\u001b[0;34m\u001b[0m\u001b[0m\n\u001b[0m\u001b[1;32m      2\u001b[0m \u001b[0;34m\u001b[0m\u001b[0m\n\u001b[1;32m      3\u001b[0m \u001b[0;34m\u001b[0m\u001b[0m\n\u001b[1;32m      4\u001b[0m \u001b[0;34m\u001b[0m\u001b[0m\n",
      "\u001b[0;32m/var/folders/pp/47yv7l2j4nl3228qpg3fkwg80000gn/T/ipykernel_25419/3105590946.py\u001b[0m in \u001b[0;36mhistogram_for_exp\u001b[0;34m(exp_cont, print_OSIs, print_other_vals, filter_vals)\u001b[0m\n\u001b[1;32m     63\u001b[0m     \u001b[0mplt\u001b[0m\u001b[0;34m.\u001b[0m\u001b[0mhist\u001b[0m\u001b[0;34m(\u001b[0m\u001b[0mlist\u001b[0m\u001b[0;34m(\u001b[0m\u001b[0mOSIs_to_plot\u001b[0m\u001b[0;34m)\u001b[0m\u001b[0;34m,\u001b[0m \u001b[0;36m50\u001b[0m\u001b[0;34m,\u001b[0m \u001b[0mdensity\u001b[0m \u001b[0;34m=\u001b[0m \u001b[0;36m1\u001b[0m\u001b[0;34m)\u001b[0m\u001b[0;34m\u001b[0m\u001b[0;34m\u001b[0m\u001b[0m\n\u001b[1;32m     64\u001b[0m     \u001b[0;32mif\u001b[0m \u001b[0;34m(\u001b[0m\u001b[0mfilter_vals\u001b[0m\u001b[0;34m)\u001b[0m\u001b[0;34m:\u001b[0m \u001b[0mplt\u001b[0m\u001b[0;34m.\u001b[0m\u001b[0mtitle\u001b[0m\u001b[0;34m(\u001b[0m\u001b[0;34m\"Distribution of OSI values for all cells in %s (after filtering)\"\u001b[0m \u001b[0;34m%\u001b[0m \u001b[0mtargeted_struct\u001b[0m\u001b[0;34m)\u001b[0m\u001b[0;34m\u001b[0m\u001b[0;34m\u001b[0m\u001b[0m\n\u001b[0;32m---> 65\u001b[0;31m     \u001b[0;32melse\u001b[0m \u001b[0;34m:\u001b[0m \u001b[0mplt\u001b[0m\u001b[0;34m.\u001b[0m\u001b[0mtitle\u001b[0m\u001b[0;34m(\u001b[0m\u001b[0;34m\"Distribution of OSI values for all cells in %s (prior to filtering)\"\u001b[0m \u001b[0;34m%\u001b[0m \u001b[0mtargeted_struct\u001b[0m\u001b[0;34m)\u001b[0m\u001b[0;34m\u001b[0m\u001b[0;34m\u001b[0m\u001b[0m\n\u001b[0m\u001b[1;32m     66\u001b[0m     \u001b[0mplt\u001b[0m\u001b[0;34m.\u001b[0m\u001b[0mxlabel\u001b[0m\u001b[0;34m(\u001b[0m\u001b[0;34m'Orientation Selectivity Index for Drifting Gratings'\u001b[0m\u001b[0;34m)\u001b[0m\u001b[0;34m\u001b[0m\u001b[0;34m\u001b[0m\u001b[0m\n\u001b[1;32m     67\u001b[0m     \u001b[0mplt\u001b[0m\u001b[0;34m.\u001b[0m\u001b[0mylabel\u001b[0m\u001b[0;34m(\u001b[0m\u001b[0;34m'Number of Cells'\u001b[0m\u001b[0;34m)\u001b[0m\u001b[0;34m\u001b[0m\u001b[0;34m\u001b[0m\u001b[0m\n",
      "\u001b[0;31mNameError\u001b[0m: name 'targeted_struct' is not defined"
     ]
    },
    {
     "data": {
      "image/png": "[encoded data removed]",
      "text/plain": [
       "<Figure size 432x288 with 1 Axes>"
      ]
     },
     "metadata": {
      "needs_background": "light"
     },
     "output_type": "display_data"
    }
   ],
   "source": [
    "histogram_for_exp(Sst_ecs, True, False, False)\n",
    "\n",
    "\n",
    "\n"
   ]
  },
  {
   "cell_type": "code",
   "execution_count": null,
   "id": "4683d6a4",
   "metadata": {},
   "outputs": [
    {
     "name": "stdout",
     "output_type": "stream",
     "text": [
      "all Sst experiment containers: 76\n",
      "total cells: 63251\n",
      "cells: 1054\n",
      "cells with sig. response to drifting gratings: 508\n",
      "direction-selective cells: 86\n",
      "0 OSI: -2.9721149558668745\n",
      "1 OSI: 2.7807195094783763\n",
      "2 OSI: 1.5203479682149952\n",
      "3 OSI: 2.053658245314432\n",
      "4 OSI: 3.727851595911844\n"
     ]
    },
    {
     "name": "stderr",
     "output_type": "stream",
     "text": [
      "2022-07-28 15:50:36,856 allensdk.api.api.retrieve_file_over_http INFO     Downloading URL: http://api.brain-map.org/api/v2/well_known_file_download/583659440\n"
     ]
    },
    {
     "name": "stdout",
     "output_type": "stream",
     "text": [
      "5 OSI: 1.5664859941912452\n"
     ]
    }
   ],
   "source": [
    "histogram_for_exp(Vip_ecs, True, False, False)"
   ]
  },
  {
   "cell_type": "code",
   "execution_count": null,
   "id": "ec5572af",
   "metadata": {},
   "outputs": [],
   "source": []
  }
 ],
 "metadata": {
  "kernelspec": {
   "display_name": "Python 3 (ipykernel)",
   "language": "python",
   "name": "python3"
  },
  "language_info": {
   "codemirror_mode": {
    "name": "ipython",
    "version": 3
   },
   "file_extension": ".py",
   "mimetype": "text/x-python",
   "name": "python",
   "nbconvert_exporter": "python",
   "pygments_lexer": "ipython3",
   "version": "3.7.13"
  }
 },
 "nbformat": 4,
 "nbformat_minor": 5
}
